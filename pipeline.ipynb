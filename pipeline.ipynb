{
 "cells": [
  {
   "cell_type": "code",
   "execution_count": 1,
   "metadata": {},
   "outputs": [],
   "source": [
    "# path to your train/test/meta folders\n",
    "DATA_PATH = \".\"\n",
    "\n",
    "# names of valuable files/folders\n",
    "train_meta_fname = \"train.csv\"\n",
    "test_meta_fname = \"sample_submission.csv\"\n",
    "train_data_folder = \"train\"\n",
    "test_data_folder = \"test\""
   ]
  },
  {
   "cell_type": "code",
   "execution_count": 2,
   "metadata": {},
   "outputs": [],
   "source": [
    "import os\n",
    "import pandas as pd\n",
    "import torch\n",
    "import torch.nn as nn\n",
    "import torch.nn.functional as F\n",
    "from torch.utils.data import Dataset\n",
    "from torch.utils.data import DataLoader\n",
    "import torchaudio\n",
    "from efficientnet_pytorch import EfficientNet\n",
    "from sklearn.model_selection import StratifiedKFold\n",
    "from sklearn.metrics import f1_score\n",
    "from tqdm import tqdm"
   ]
  },
  {
   "cell_type": "code",
   "execution_count": 3,
   "metadata": {},
   "outputs": [],
   "source": [
    "# set seeds\n",
    "import random\n",
    "import numpy as np\n",
    "\n",
    "random.seed(42)\n",
    "np.random.seed(42)\n",
    "torch.manual_seed(42)\n",
    "torch.cuda.manual_seed(42)\n",
    "torch.backends.cudnn.deterministic = True"
   ]
  },
  {
   "cell_type": "code",
   "execution_count": 4,
   "metadata": {},
   "outputs": [
    {
     "data": {
      "text/plain": "                      fname            label\n0  8bcbcc394ba64fe85ed4.wav  Finger_snapping\n1  00d77b917e241afa06f1.wav           Squeak",
      "text/html": "<div>\n<style scoped>\n    .dataframe tbody tr th:only-of-type {\n        vertical-align: middle;\n    }\n\n    .dataframe tbody tr th {\n        vertical-align: top;\n    }\n\n    .dataframe thead th {\n        text-align: right;\n    }\n</style>\n<table border=\"1\" class=\"dataframe\">\n  <thead>\n    <tr style=\"text-align: right;\">\n      <th></th>\n      <th>fname</th>\n      <th>label</th>\n    </tr>\n  </thead>\n  <tbody>\n    <tr>\n      <th>0</th>\n      <td>8bcbcc394ba64fe85ed4.wav</td>\n      <td>Finger_snapping</td>\n    </tr>\n    <tr>\n      <th>1</th>\n      <td>00d77b917e241afa06f1.wav</td>\n      <td>Squeak</td>\n    </tr>\n  </tbody>\n</table>\n</div>"
     },
     "execution_count": 4,
     "metadata": {},
     "output_type": "execute_result"
    }
   ],
   "source": [
    "df_train = pd.read_csv(os.path.join(DATA_PATH, train_meta_fname))\n",
    "df_test = pd.read_csv(os.path.join(DATA_PATH, test_meta_fname))\n",
    "df_train.head(2)"
   ]
  },
  {
   "cell_type": "code",
   "execution_count": 5,
   "metadata": {},
   "outputs": [
    {
     "name": "stdout",
     "output_type": "stream",
     "text": [
      "41\n"
     ]
    },
    {
     "data": {
      "text/plain": "                      fname            label  label_encoded\n0  8bcbcc394ba64fe85ed4.wav  Finger_snapping              0\n1  00d77b917e241afa06f1.wav           Squeak              1\n2  17bb93b73b8e79234cb3.wav   Electric_piano              2\n3  7d5c7a40a936136da55e.wav        Harmonica              3\n4  17e0ee7565a33d6c2326.wav       Snare_drum              4",
      "text/html": "<div>\n<style scoped>\n    .dataframe tbody tr th:only-of-type {\n        vertical-align: middle;\n    }\n\n    .dataframe tbody tr th {\n        vertical-align: top;\n    }\n\n    .dataframe thead th {\n        text-align: right;\n    }\n</style>\n<table border=\"1\" class=\"dataframe\">\n  <thead>\n    <tr style=\"text-align: right;\">\n      <th></th>\n      <th>fname</th>\n      <th>label</th>\n      <th>label_encoded</th>\n    </tr>\n  </thead>\n  <tbody>\n    <tr>\n      <th>0</th>\n      <td>8bcbcc394ba64fe85ed4.wav</td>\n      <td>Finger_snapping</td>\n      <td>0</td>\n    </tr>\n    <tr>\n      <th>1</th>\n      <td>00d77b917e241afa06f1.wav</td>\n      <td>Squeak</td>\n      <td>1</td>\n    </tr>\n    <tr>\n      <th>2</th>\n      <td>17bb93b73b8e79234cb3.wav</td>\n      <td>Electric_piano</td>\n      <td>2</td>\n    </tr>\n    <tr>\n      <th>3</th>\n      <td>7d5c7a40a936136da55e.wav</td>\n      <td>Harmonica</td>\n      <td>3</td>\n    </tr>\n    <tr>\n      <th>4</th>\n      <td>17e0ee7565a33d6c2326.wav</td>\n      <td>Snare_drum</td>\n      <td>4</td>\n    </tr>\n  </tbody>\n</table>\n</div>"
     },
     "execution_count": 5,
     "metadata": {},
     "output_type": "execute_result"
    }
   ],
   "source": [
    "n_classes = df_train.label.nunique()\n",
    "print(n_classes)\n",
    "classes_dict = {cl: i for i, cl in enumerate(df_train.label.unique())}\n",
    "df_train[\"label_encoded\"] = df_train.label.map(classes_dict)\n",
    "df_train.head()"
   ]
  },
  {
   "cell_type": "code",
   "execution_count": 6,
   "metadata": {},
   "outputs": [],
   "source": [
    "class SoundModel(nn.Module):\n",
    "    def __init__(self, sample_rate=16000, n_classes=41):\n",
    "        super().__init__()\n",
    "        self.ms = torchaudio.transforms.MelSpectrogram(\n",
    "            sample_rate=sample_rate, hop_length=126\n",
    "        )\n",
    "\n",
    "        self.layers = nn.Sequential(\n",
    "            nn.Conv2d(in_channels=1, out_channels=10, kernel_size=(3, 3), padding=1),\n",
    "            nn.ReLU(),\n",
    "            nn.Conv2d(in_channels=10, out_channels=3, kernel_size=(3, 3), padding=1),\n",
    "            nn.ReLU(),\n",
    "            EfficientNet.from_pretrained(\"efficientnet-b0\"),\n",
    "            nn.ReLU(),\n",
    "            nn.Linear(1000, 512),\n",
    "            nn.BatchNorm1d(512),\n",
    "            nn.ReLU(),\n",
    "            nn.Linear(512, 128),\n",
    "            nn.BatchNorm1d(128),\n",
    "            nn.ReLU(),\n",
    "            nn.Linear(128, n_classes),\n",
    "        )\n",
    "\n",
    "    def forward(self, x):\n",
    "        return self.layers(self.ms(x))\n",
    "\n",
    "    def inference(self, x):\n",
    "        x = self.forward(x)\n",
    "        x = F.softmax(x, dim=1)\n",
    "        return x"
   ]
  },
  {
   "cell_type": "code",
   "execution_count": 7,
   "metadata": {},
   "outputs": [],
   "source": [
    "def sample_or_pad(waveform, wav_len=32000):\n",
    "    m, n = waveform.shape\n",
    "    if n < wav_len:\n",
    "        padded_wav = torch.zeros(1, wav_len)\n",
    "        padded_wav[:, :n] = waveform\n",
    "        return padded_wav\n",
    "    elif n > wav_len:\n",
    "        offset = np.random.randint(0, n - wav_len)\n",
    "        sampled_wav = waveform[:, offset : offset + wav_len]\n",
    "        return sampled_wav\n",
    "    else:\n",
    "        return waveform\n",
    "\n",
    "\n",
    "class EventDetectionDataset(Dataset):\n",
    "    def __init__(self, data_path, x, y=None):\n",
    "        self.x = x\n",
    "        self.y = y\n",
    "        self.data_path = data_path\n",
    "\n",
    "    def __len__(self):\n",
    "        return len(self.x)\n",
    "\n",
    "    def __getitem__(self, idx):\n",
    "        path2wav = os.path.join(self.data_path, self.x[idx])\n",
    "        waveform, sample_rate = torchaudio.load(path2wav, normalize=True)\n",
    "        waveform = sample_or_pad(waveform)\n",
    "        if self.y is not None:\n",
    "            return waveform, self.y[idx]\n",
    "        return waveform"
   ]
  },
  {
   "cell_type": "code",
   "execution_count": 8,
   "metadata": {},
   "outputs": [],
   "source": [
    "def eval_model(model, eval_dataset):\n",
    "    model.eval()\n",
    "    forecast, true_labs = [], []\n",
    "    with torch.no_grad():\n",
    "        for wavs, labs in tqdm(eval_dataset):\n",
    "            wavs, labs = wavs.cuda(), labs.detach().numpy()\n",
    "            true_labs.append(labs)\n",
    "            outputs = model.inference(wavs)\n",
    "\n",
    "            outputs = outputs.detach().cpu().numpy().argmax(axis=1)\n",
    "            forecast.append(outputs)\n",
    "    forecast = [x for sublist in forecast for x in sublist]\n",
    "    true_labs = [x for sublist in true_labs for x in sublist]\n",
    "    return f1_score(forecast, true_labs, average=\"macro\")"
   ]
  },
  {
   "cell_type": "code",
   "execution_count": 9,
   "metadata": {},
   "outputs": [
    {
     "name": "stdout",
     "output_type": "stream",
     "text": [
      "Loaded pretrained weights for efficientnet-b0\n"
     ]
    },
    {
     "name": "stderr",
     "output_type": "stream",
     "text": [
      "C:\\ProgramData\\Anaconda3\\envs\\nlp-env\\lib\\site-packages\\torchaudio\\functional\\functional.py:584: UserWarning: At least one mel filterbank has all zero values. The value for `n_mels` (128) may be set too high. Or, the value for `n_freqs` (201) may be set too low.\n",
      "  warnings.warn(\n",
      "C:\\ProgramData\\Anaconda3\\envs\\nlp-env\\lib\\site-packages\\tqdm\\auto.py:21: TqdmWarning: IProgress not found. Please update jupyter and ipywidgets. See https://ipywidgets.readthedocs.io/en/stable/user_install.html\n",
      "  from .autonotebook import tqdm as notebook_tqdm\n",
      "100%|██████████| 36/36 [00:09<00:00,  3.91it/s]\n",
      "100%|██████████| 9/9 [00:01<00:00,  8.49it/s]\n",
      "100%|██████████| 36/36 [00:04<00:00,  8.65it/s]\n"
     ]
    },
    {
     "name": "stdout",
     "output_type": "stream",
     "text": [
      "epoch: 0, f1_val: 0.04162398126790363, f1_train: 0.055729607465809475\n"
     ]
    },
    {
     "name": "stderr",
     "output_type": "stream",
     "text": [
      "100%|██████████| 36/36 [00:08<00:00,  4.33it/s]\n",
      "100%|██████████| 9/9 [00:01<00:00,  8.43it/s]\n",
      "100%|██████████| 36/36 [00:04<00:00,  8.66it/s]\n"
     ]
    },
    {
     "name": "stdout",
     "output_type": "stream",
     "text": [
      "epoch: 1, f1_val: 0.1606833804214681, f1_train: 0.15407633534469023\n"
     ]
    },
    {
     "name": "stderr",
     "output_type": "stream",
     "text": [
      "100%|██████████| 36/36 [00:08<00:00,  4.33it/s]\n",
      "100%|██████████| 9/9 [00:01<00:00,  8.45it/s]\n",
      "100%|██████████| 36/36 [00:04<00:00,  8.54it/s]\n"
     ]
    },
    {
     "name": "stdout",
     "output_type": "stream",
     "text": [
      "epoch: 2, f1_val: 0.28482088061082295, f1_train: 0.29859709175821286\n"
     ]
    },
    {
     "name": "stderr",
     "output_type": "stream",
     "text": [
      "100%|██████████| 36/36 [00:08<00:00,  4.33it/s]\n",
      "100%|██████████| 9/9 [00:01<00:00,  8.50it/s]\n",
      "100%|██████████| 36/36 [00:04<00:00,  8.50it/s]\n"
     ]
    },
    {
     "name": "stdout",
     "output_type": "stream",
     "text": [
      "epoch: 3, f1_val: 0.3176431265393738, f1_train: 0.3587148202126794\n"
     ]
    },
    {
     "name": "stderr",
     "output_type": "stream",
     "text": [
      "100%|██████████| 36/36 [00:08<00:00,  4.20it/s]\n",
      "100%|██████████| 9/9 [00:01<00:00,  8.51it/s]\n",
      "100%|██████████| 36/36 [00:04<00:00,  8.66it/s]\n"
     ]
    },
    {
     "name": "stdout",
     "output_type": "stream",
     "text": [
      "epoch: 4, f1_val: 0.43540000517792316, f1_train: 0.5094338696364424\n"
     ]
    },
    {
     "name": "stderr",
     "output_type": "stream",
     "text": [
      "100%|██████████| 36/36 [00:08<00:00,  4.31it/s]\n",
      "100%|██████████| 9/9 [00:01<00:00,  8.33it/s]\n",
      "100%|██████████| 36/36 [00:04<00:00,  8.56it/s]\n"
     ]
    },
    {
     "name": "stdout",
     "output_type": "stream",
     "text": [
      "epoch: 5, f1_val: 0.5040958325885307, f1_train: 0.5710575437180742\n"
     ]
    },
    {
     "name": "stderr",
     "output_type": "stream",
     "text": [
      "100%|██████████| 36/36 [00:08<00:00,  4.36it/s]\n",
      "100%|██████████| 9/9 [00:01<00:00,  8.60it/s]\n",
      "100%|██████████| 36/36 [00:04<00:00,  8.70it/s]\n"
     ]
    },
    {
     "name": "stdout",
     "output_type": "stream",
     "text": [
      "epoch: 6, f1_val: 0.5530435575670057, f1_train: 0.6636626080889475\n"
     ]
    },
    {
     "name": "stderr",
     "output_type": "stream",
     "text": [
      "100%|██████████| 36/36 [00:08<00:00,  4.36it/s]\n",
      "100%|██████████| 9/9 [00:01<00:00,  8.52it/s]\n",
      "100%|██████████| 36/36 [00:04<00:00,  8.67it/s]\n"
     ]
    },
    {
     "name": "stdout",
     "output_type": "stream",
     "text": [
      "epoch: 7, f1_val: 0.559448448604127, f1_train: 0.6719029423746478\n"
     ]
    },
    {
     "name": "stderr",
     "output_type": "stream",
     "text": [
      "100%|██████████| 36/36 [00:08<00:00,  4.36it/s]\n",
      "100%|██████████| 9/9 [00:01<00:00,  8.57it/s]\n",
      "100%|██████████| 36/36 [00:04<00:00,  8.69it/s]\n"
     ]
    },
    {
     "name": "stdout",
     "output_type": "stream",
     "text": [
      "epoch: 8, f1_val: 0.5522739938190188, f1_train: 0.7172779649596659\n"
     ]
    },
    {
     "name": "stderr",
     "output_type": "stream",
     "text": [
      "100%|██████████| 36/36 [00:08<00:00,  4.36it/s]\n",
      "100%|██████████| 9/9 [00:01<00:00,  8.48it/s]\n",
      "100%|██████████| 36/36 [00:04<00:00,  8.67it/s]\n"
     ]
    },
    {
     "name": "stdout",
     "output_type": "stream",
     "text": [
      "epoch: 9, f1_val: 0.4079268222809109, f1_train: 0.51387715730757\n"
     ]
    },
    {
     "name": "stderr",
     "output_type": "stream",
     "text": [
      "100%|██████████| 36/36 [00:08<00:00,  4.35it/s]\n",
      "100%|██████████| 9/9 [00:01<00:00,  8.51it/s]\n",
      "100%|██████████| 36/36 [00:04<00:00,  8.72it/s]\n"
     ]
    },
    {
     "name": "stdout",
     "output_type": "stream",
     "text": [
      "epoch: 10, f1_val: 0.593862128583646, f1_train: 0.7771550846135876\n"
     ]
    },
    {
     "name": "stderr",
     "output_type": "stream",
     "text": [
      "100%|██████████| 36/36 [00:08<00:00,  4.36it/s]\n",
      "100%|██████████| 9/9 [00:01<00:00,  8.48it/s]\n",
      "100%|██████████| 36/36 [00:04<00:00,  8.69it/s]\n"
     ]
    },
    {
     "name": "stdout",
     "output_type": "stream",
     "text": [
      "epoch: 11, f1_val: 0.6399556642094159, f1_train: 0.8288957851264717\n"
     ]
    },
    {
     "name": "stderr",
     "output_type": "stream",
     "text": [
      "100%|██████████| 36/36 [00:08<00:00,  4.36it/s]\n",
      "100%|██████████| 9/9 [00:01<00:00,  8.52it/s]\n",
      "100%|██████████| 36/36 [00:04<00:00,  8.64it/s]\n"
     ]
    },
    {
     "name": "stdout",
     "output_type": "stream",
     "text": [
      "epoch: 12, f1_val: 0.46778824070303826, f1_train: 0.6097144534806235\n"
     ]
    },
    {
     "name": "stderr",
     "output_type": "stream",
     "text": [
      "100%|██████████| 36/36 [00:08<00:00,  4.36it/s]\n",
      "100%|██████████| 9/9 [00:01<00:00,  8.50it/s]\n",
      "100%|██████████| 36/36 [00:04<00:00,  8.63it/s]\n"
     ]
    },
    {
     "name": "stdout",
     "output_type": "stream",
     "text": [
      "epoch: 13, f1_val: 0.6002943789835111, f1_train: 0.7647212106594803\n"
     ]
    },
    {
     "name": "stderr",
     "output_type": "stream",
     "text": [
      "100%|██████████| 36/36 [00:08<00:00,  4.36it/s]\n",
      "100%|██████████| 9/9 [00:01<00:00,  8.51it/s]\n",
      "100%|██████████| 36/36 [00:04<00:00,  8.70it/s]\n"
     ]
    },
    {
     "name": "stdout",
     "output_type": "stream",
     "text": [
      "epoch: 14, f1_val: 0.5702387015464337, f1_train: 0.7614625033423413\n"
     ]
    },
    {
     "name": "stderr",
     "output_type": "stream",
     "text": [
      "100%|██████████| 36/36 [00:08<00:00,  4.34it/s]\n",
      "100%|██████████| 9/9 [00:01<00:00,  8.51it/s]\n",
      "100%|██████████| 36/36 [00:04<00:00,  8.71it/s]\n"
     ]
    },
    {
     "name": "stdout",
     "output_type": "stream",
     "text": [
      "epoch: 15, f1_val: 0.6623631769458828, f1_train: 0.8781167271332581\n"
     ]
    },
    {
     "name": "stderr",
     "output_type": "stream",
     "text": [
      "100%|██████████| 36/36 [00:08<00:00,  4.26it/s]\n",
      "100%|██████████| 9/9 [00:01<00:00,  8.55it/s]\n",
      "100%|██████████| 36/36 [00:04<00:00,  8.70it/s]\n"
     ]
    },
    {
     "name": "stdout",
     "output_type": "stream",
     "text": [
      "epoch: 16, f1_val: 0.66446769666488, f1_train: 0.8961148973354317\n"
     ]
    },
    {
     "name": "stderr",
     "output_type": "stream",
     "text": [
      "100%|██████████| 36/36 [00:08<00:00,  4.36it/s]\n",
      "100%|██████████| 9/9 [00:01<00:00,  8.45it/s]\n",
      "100%|██████████| 36/36 [00:04<00:00,  8.35it/s]\n"
     ]
    },
    {
     "name": "stdout",
     "output_type": "stream",
     "text": [
      "epoch: 17, f1_val: 0.6357436652309005, f1_train: 0.8115600671571803\n"
     ]
    },
    {
     "name": "stderr",
     "output_type": "stream",
     "text": [
      "100%|██████████| 36/36 [00:08<00:00,  4.23it/s]\n",
      "100%|██████████| 9/9 [00:01<00:00,  8.45it/s]\n",
      "100%|██████████| 36/36 [00:04<00:00,  8.69it/s]\n"
     ]
    },
    {
     "name": "stdout",
     "output_type": "stream",
     "text": [
      "epoch: 18, f1_val: 0.6194466535003896, f1_train: 0.8547881436976144\n"
     ]
    },
    {
     "name": "stderr",
     "output_type": "stream",
     "text": [
      "100%|██████████| 36/36 [00:08<00:00,  4.28it/s]\n",
      "100%|██████████| 9/9 [00:01<00:00,  8.51it/s]\n",
      "100%|██████████| 36/36 [00:04<00:00,  8.60it/s]\n"
     ]
    },
    {
     "name": "stdout",
     "output_type": "stream",
     "text": [
      "epoch: 19, f1_val: 0.688687347385183, f1_train: 0.9153216632947649\n"
     ]
    },
    {
     "name": "stderr",
     "output_type": "stream",
     "text": [
      "100%|██████████| 36/36 [00:08<00:00,  4.26it/s]\n",
      "100%|██████████| 9/9 [00:01<00:00,  8.49it/s]\n",
      "100%|██████████| 36/36 [00:04<00:00,  8.72it/s]\n"
     ]
    },
    {
     "name": "stdout",
     "output_type": "stream",
     "text": [
      "epoch: 20, f1_val: 0.6521539458628076, f1_train: 0.8894903938861017\n"
     ]
    },
    {
     "name": "stderr",
     "output_type": "stream",
     "text": [
      "100%|██████████| 36/36 [00:08<00:00,  4.31it/s]\n",
      "100%|██████████| 9/9 [00:01<00:00,  8.48it/s]\n",
      "100%|██████████| 36/36 [00:04<00:00,  8.70it/s]\n"
     ]
    },
    {
     "name": "stdout",
     "output_type": "stream",
     "text": [
      "epoch: 21, f1_val: 0.6397251769219321, f1_train: 0.8368866247100528\n"
     ]
    },
    {
     "name": "stderr",
     "output_type": "stream",
     "text": [
      "100%|██████████| 36/36 [00:08<00:00,  4.36it/s]\n",
      "100%|██████████| 9/9 [00:01<00:00,  8.52it/s]\n",
      "100%|██████████| 36/36 [00:04<00:00,  8.67it/s]\n"
     ]
    },
    {
     "name": "stdout",
     "output_type": "stream",
     "text": [
      "epoch: 22, f1_val: 0.6652842980070084, f1_train: 0.9005302410237027\n"
     ]
    },
    {
     "name": "stderr",
     "output_type": "stream",
     "text": [
      "100%|██████████| 36/36 [00:08<00:00,  4.35it/s]\n",
      "100%|██████████| 9/9 [00:01<00:00,  8.51it/s]\n",
      "100%|██████████| 36/36 [00:04<00:00,  8.68it/s]\n"
     ]
    },
    {
     "name": "stdout",
     "output_type": "stream",
     "text": [
      "epoch: 23, f1_val: 0.5651724104603263, f1_train: 0.7617052139798595\n"
     ]
    },
    {
     "name": "stderr",
     "output_type": "stream",
     "text": [
      "100%|██████████| 36/36 [00:08<00:00,  4.36it/s]\n",
      "100%|██████████| 9/9 [00:01<00:00,  8.53it/s]\n",
      "100%|██████████| 36/36 [00:04<00:00,  8.59it/s]\n"
     ]
    },
    {
     "name": "stdout",
     "output_type": "stream",
     "text": [
      "epoch: 24, f1_val: 0.6809590395224123, f1_train: 0.9330956552351658\n"
     ]
    },
    {
     "name": "stderr",
     "output_type": "stream",
     "text": [
      "100%|██████████| 36/36 [00:08<00:00,  4.36it/s]\n",
      "100%|██████████| 9/9 [00:01<00:00,  8.49it/s]\n",
      "100%|██████████| 36/36 [00:04<00:00,  8.70it/s]\n"
     ]
    },
    {
     "name": "stdout",
     "output_type": "stream",
     "text": [
      "epoch: 25, f1_val: 0.674144492858141, f1_train: 0.9214350371117338\n"
     ]
    },
    {
     "name": "stderr",
     "output_type": "stream",
     "text": [
      "100%|██████████| 36/36 [00:08<00:00,  4.35it/s]\n",
      "100%|██████████| 9/9 [00:01<00:00,  8.51it/s]\n",
      "100%|██████████| 36/36 [00:04<00:00,  8.66it/s]\n"
     ]
    },
    {
     "name": "stdout",
     "output_type": "stream",
     "text": [
      "epoch: 26, f1_val: 0.5724987833514085, f1_train: 0.7619533244507751\n"
     ]
    },
    {
     "name": "stderr",
     "output_type": "stream",
     "text": [
      "100%|██████████| 36/36 [00:08<00:00,  4.32it/s]\n",
      "100%|██████████| 9/9 [00:01<00:00,  8.52it/s]\n",
      "100%|██████████| 36/36 [00:04<00:00,  8.69it/s]\n"
     ]
    },
    {
     "name": "stdout",
     "output_type": "stream",
     "text": [
      "epoch: 27, f1_val: 0.6645404564391155, f1_train: 0.9048400271416733\n"
     ]
    },
    {
     "name": "stderr",
     "output_type": "stream",
     "text": [
      "100%|██████████| 36/36 [00:08<00:00,  4.36it/s]\n",
      "100%|██████████| 9/9 [00:01<00:00,  8.46it/s]\n",
      "100%|██████████| 36/36 [00:04<00:00,  8.68it/s]\n"
     ]
    },
    {
     "name": "stdout",
     "output_type": "stream",
     "text": [
      "epoch: 28, f1_val: 0.641219478147543, f1_train: 0.8992381783109118\n"
     ]
    },
    {
     "name": "stderr",
     "output_type": "stream",
     "text": [
      "100%|██████████| 36/36 [00:08<00:00,  4.35it/s]\n",
      "100%|██████████| 9/9 [00:01<00:00,  8.61it/s]\n",
      "100%|██████████| 36/36 [00:04<00:00,  8.70it/s]\n"
     ]
    },
    {
     "name": "stdout",
     "output_type": "stream",
     "text": [
      "epoch: 29, f1_val: 0.5780439656584065, f1_train: 0.8031220299853958\n"
     ]
    },
    {
     "name": "stderr",
     "output_type": "stream",
     "text": [
      "100%|██████████| 36/36 [00:08<00:00,  4.36it/s]\n",
      "100%|██████████| 9/9 [00:01<00:00,  8.51it/s]\n",
      "100%|██████████| 36/36 [00:04<00:00,  8.67it/s]\n"
     ]
    },
    {
     "name": "stdout",
     "output_type": "stream",
     "text": [
      "epoch: 30, f1_val: 0.6948317399435197, f1_train: 0.9263463570922738\n"
     ]
    },
    {
     "name": "stderr",
     "output_type": "stream",
     "text": [
      "100%|██████████| 36/36 [00:08<00:00,  4.36it/s]\n",
      "100%|██████████| 9/9 [00:01<00:00,  8.47it/s]\n",
      "100%|██████████| 36/36 [00:04<00:00,  8.68it/s]\n"
     ]
    },
    {
     "name": "stdout",
     "output_type": "stream",
     "text": [
      "epoch: 31, f1_val: 0.6875957991246756, f1_train: 0.9502583243418743\n"
     ]
    },
    {
     "name": "stderr",
     "output_type": "stream",
     "text": [
      "100%|██████████| 36/36 [00:08<00:00,  4.36it/s]\n",
      "100%|██████████| 9/9 [00:01<00:00,  8.53it/s]\n",
      "100%|██████████| 36/36 [00:04<00:00,  8.67it/s]\n"
     ]
    },
    {
     "name": "stdout",
     "output_type": "stream",
     "text": [
      "epoch: 32, f1_val: 0.6921132774383402, f1_train: 0.9487523227562198\n"
     ]
    },
    {
     "name": "stderr",
     "output_type": "stream",
     "text": [
      "100%|██████████| 36/36 [00:08<00:00,  4.36it/s]\n",
      "100%|██████████| 9/9 [00:01<00:00,  8.52it/s]\n",
      "100%|██████████| 36/36 [00:04<00:00,  8.70it/s]\n"
     ]
    },
    {
     "name": "stdout",
     "output_type": "stream",
     "text": [
      "epoch: 33, f1_val: 0.6445184753466253, f1_train: 0.8760744139679812\n"
     ]
    },
    {
     "name": "stderr",
     "output_type": "stream",
     "text": [
      "100%|██████████| 36/36 [00:08<00:00,  4.37it/s]\n",
      "100%|██████████| 9/9 [00:01<00:00,  8.47it/s]\n",
      "100%|██████████| 36/36 [00:04<00:00,  8.66it/s]\n"
     ]
    },
    {
     "name": "stdout",
     "output_type": "stream",
     "text": [
      "epoch: 34, f1_val: 0.6589520889670079, f1_train: 0.870147741076001\n"
     ]
    },
    {
     "name": "stderr",
     "output_type": "stream",
     "text": [
      "100%|██████████| 36/36 [00:08<00:00,  4.35it/s]\n",
      "100%|██████████| 9/9 [00:01<00:00,  8.49it/s]\n",
      "100%|██████████| 36/36 [00:04<00:00,  8.66it/s]\n"
     ]
    },
    {
     "name": "stdout",
     "output_type": "stream",
     "text": [
      "epoch: 35, f1_val: 0.5654086225158961, f1_train: 0.7835259369939643\n"
     ]
    },
    {
     "name": "stderr",
     "output_type": "stream",
     "text": [
      "100%|██████████| 36/36 [00:08<00:00,  4.36it/s]\n",
      "100%|██████████| 9/9 [00:01<00:00,  8.55it/s]\n",
      "100%|██████████| 36/36 [00:04<00:00,  8.69it/s]\n"
     ]
    },
    {
     "name": "stdout",
     "output_type": "stream",
     "text": [
      "epoch: 36, f1_val: 0.6281822634797413, f1_train: 0.8766015275643648\n"
     ]
    },
    {
     "name": "stderr",
     "output_type": "stream",
     "text": [
      "100%|██████████| 36/36 [00:08<00:00,  4.35it/s]\n",
      "100%|██████████| 9/9 [00:01<00:00,  8.56it/s]\n",
      "100%|██████████| 36/36 [00:04<00:00,  8.64it/s]\n"
     ]
    },
    {
     "name": "stdout",
     "output_type": "stream",
     "text": [
      "epoch: 37, f1_val: 0.621116433994599, f1_train: 0.8354554447634146\n"
     ]
    },
    {
     "name": "stderr",
     "output_type": "stream",
     "text": [
      "100%|██████████| 36/36 [00:08<00:00,  4.36it/s]\n",
      "100%|██████████| 9/9 [00:01<00:00,  8.49it/s]\n",
      "100%|██████████| 36/36 [00:04<00:00,  8.71it/s]\n"
     ]
    },
    {
     "name": "stdout",
     "output_type": "stream",
     "text": [
      "epoch: 38, f1_val: 0.6443663824488236, f1_train: 0.8756198776262887\n"
     ]
    },
    {
     "name": "stderr",
     "output_type": "stream",
     "text": [
      "100%|██████████| 36/36 [00:08<00:00,  4.36it/s]\n",
      "100%|██████████| 9/9 [00:01<00:00,  8.47it/s]\n",
      "100%|██████████| 36/36 [00:04<00:00,  8.70it/s]\n"
     ]
    },
    {
     "name": "stdout",
     "output_type": "stream",
     "text": [
      "epoch: 39, f1_val: 0.7027904699020106, f1_train: 0.9540726459846982\n"
     ]
    },
    {
     "name": "stderr",
     "output_type": "stream",
     "text": [
      "100%|██████████| 36/36 [00:08<00:00,  4.36it/s]\n",
      "100%|██████████| 9/9 [00:01<00:00,  8.55it/s]\n",
      "100%|██████████| 36/36 [00:04<00:00,  8.68it/s]\n"
     ]
    },
    {
     "name": "stdout",
     "output_type": "stream",
     "text": [
      "epoch: 40, f1_val: 0.6629844357079657, f1_train: 0.9069050202708246\n"
     ]
    },
    {
     "name": "stderr",
     "output_type": "stream",
     "text": [
      "100%|██████████| 36/36 [00:08<00:00,  4.35it/s]\n",
      "100%|██████████| 9/9 [00:01<00:00,  8.53it/s]\n",
      "100%|██████████| 36/36 [00:04<00:00,  8.71it/s]\n"
     ]
    },
    {
     "name": "stdout",
     "output_type": "stream",
     "text": [
      "epoch: 41, f1_val: 0.6734352372611405, f1_train: 0.9150880421505715\n"
     ]
    },
    {
     "name": "stderr",
     "output_type": "stream",
     "text": [
      "100%|██████████| 36/36 [00:08<00:00,  4.36it/s]\n",
      "100%|██████████| 9/9 [00:01<00:00,  8.54it/s]\n",
      "100%|██████████| 36/36 [00:04<00:00,  8.72it/s]\n"
     ]
    },
    {
     "name": "stdout",
     "output_type": "stream",
     "text": [
      "epoch: 42, f1_val: 0.6045921147895622, f1_train: 0.8321343861056029\n"
     ]
    },
    {
     "name": "stderr",
     "output_type": "stream",
     "text": [
      "100%|██████████| 36/36 [00:08<00:00,  4.36it/s]\n",
      "100%|██████████| 9/9 [00:01<00:00,  8.48it/s]\n",
      "100%|██████████| 36/36 [00:04<00:00,  8.70it/s]\n"
     ]
    },
    {
     "name": "stdout",
     "output_type": "stream",
     "text": [
      "epoch: 43, f1_val: 0.6658194213497024, f1_train: 0.8854228639243116\n"
     ]
    },
    {
     "name": "stderr",
     "output_type": "stream",
     "text": [
      "100%|██████████| 36/36 [00:08<00:00,  4.36it/s]\n",
      "100%|██████████| 9/9 [00:01<00:00,  8.54it/s]\n",
      "100%|██████████| 36/36 [00:04<00:00,  8.67it/s]\n"
     ]
    },
    {
     "name": "stdout",
     "output_type": "stream",
     "text": [
      "epoch: 44, f1_val: 0.6724070633956869, f1_train: 0.9120919473217187\n"
     ]
    },
    {
     "name": "stderr",
     "output_type": "stream",
     "text": [
      "100%|██████████| 36/36 [00:08<00:00,  4.36it/s]\n",
      "100%|██████████| 9/9 [00:01<00:00,  8.51it/s]\n",
      "100%|██████████| 36/36 [00:04<00:00,  8.68it/s]\n"
     ]
    },
    {
     "name": "stdout",
     "output_type": "stream",
     "text": [
      "epoch: 45, f1_val: 0.6555600274349517, f1_train: 0.9099525065704248\n"
     ]
    },
    {
     "name": "stderr",
     "output_type": "stream",
     "text": [
      "100%|██████████| 36/36 [00:08<00:00,  4.36it/s]\n",
      "100%|██████████| 9/9 [00:01<00:00,  8.55it/s]\n",
      "100%|██████████| 36/36 [00:04<00:00,  8.69it/s]\n"
     ]
    },
    {
     "name": "stdout",
     "output_type": "stream",
     "text": [
      "epoch: 46, f1_val: 0.7048994173378687, f1_train: 0.9648861113001391\n"
     ]
    },
    {
     "name": "stderr",
     "output_type": "stream",
     "text": [
      "100%|██████████| 36/36 [00:08<00:00,  4.36it/s]\n",
      "100%|██████████| 9/9 [00:01<00:00,  8.48it/s]\n",
      "100%|██████████| 36/36 [00:04<00:00,  8.65it/s]\n"
     ]
    },
    {
     "name": "stdout",
     "output_type": "stream",
     "text": [
      "epoch: 47, f1_val: 0.6835868200209801, f1_train: 0.9276630706074779\n"
     ]
    },
    {
     "name": "stderr",
     "output_type": "stream",
     "text": [
      "100%|██████████| 36/36 [00:08<00:00,  4.36it/s]\n",
      "100%|██████████| 9/9 [00:01<00:00,  8.47it/s]\n",
      "100%|██████████| 36/36 [00:04<00:00,  8.68it/s]\n"
     ]
    },
    {
     "name": "stdout",
     "output_type": "stream",
     "text": [
      "epoch: 48, f1_val: 0.6942320795635191, f1_train: 0.9387148233767688\n"
     ]
    },
    {
     "name": "stderr",
     "output_type": "stream",
     "text": [
      "100%|██████████| 36/36 [00:08<00:00,  4.36it/s]\n",
      "100%|██████████| 9/9 [00:01<00:00,  8.43it/s]\n",
      "100%|██████████| 36/36 [00:04<00:00,  8.63it/s]\n"
     ]
    },
    {
     "name": "stdout",
     "output_type": "stream",
     "text": [
      "epoch: 49, f1_val: 0.6708295534091848, f1_train: 0.9352048139288661\n"
     ]
    },
    {
     "name": "stderr",
     "output_type": "stream",
     "text": [
      "100%|██████████| 36/36 [00:08<00:00,  4.30it/s]\n",
      "100%|██████████| 9/9 [00:01<00:00,  8.33it/s]\n",
      "100%|██████████| 36/36 [00:04<00:00,  8.59it/s]\n"
     ]
    },
    {
     "name": "stdout",
     "output_type": "stream",
     "text": [
      "epoch: 50, f1_val: 0.7057594857246667, f1_train: 0.9444855937357958\n"
     ]
    },
    {
     "name": "stderr",
     "output_type": "stream",
     "text": [
      "100%|██████████| 36/36 [00:08<00:00,  4.34it/s]\n",
      "100%|██████████| 9/9 [00:01<00:00,  8.48it/s]\n",
      "100%|██████████| 36/36 [00:04<00:00,  8.63it/s]\n"
     ]
    },
    {
     "name": "stdout",
     "output_type": "stream",
     "text": [
      "epoch: 51, f1_val: 0.6747930356528189, f1_train: 0.9262953577520785\n"
     ]
    },
    {
     "name": "stderr",
     "output_type": "stream",
     "text": [
      "100%|██████████| 36/36 [00:08<00:00,  4.34it/s]\n",
      "100%|██████████| 9/9 [00:01<00:00,  8.47it/s]\n",
      "100%|██████████| 36/36 [00:04<00:00,  8.66it/s]\n"
     ]
    },
    {
     "name": "stdout",
     "output_type": "stream",
     "text": [
      "epoch: 52, f1_val: 0.6264797317154255, f1_train: 0.8636629242496914\n"
     ]
    },
    {
     "name": "stderr",
     "output_type": "stream",
     "text": [
      "100%|██████████| 36/36 [00:08<00:00,  4.34it/s]\n",
      "100%|██████████| 9/9 [00:01<00:00,  8.47it/s]\n",
      "100%|██████████| 36/36 [00:04<00:00,  8.65it/s]\n"
     ]
    },
    {
     "name": "stdout",
     "output_type": "stream",
     "text": [
      "epoch: 53, f1_val: 0.7176969878290864, f1_train: 0.9696978501864573\n"
     ]
    },
    {
     "name": "stderr",
     "output_type": "stream",
     "text": [
      "100%|██████████| 36/36 [00:08<00:00,  4.34it/s]\n",
      "100%|██████████| 9/9 [00:01<00:00,  8.48it/s]\n",
      "100%|██████████| 36/36 [00:04<00:00,  8.64it/s]\n"
     ]
    },
    {
     "name": "stdout",
     "output_type": "stream",
     "text": [
      "epoch: 54, f1_val: 0.6874305681111168, f1_train: 0.9394116473259445\n"
     ]
    },
    {
     "name": "stderr",
     "output_type": "stream",
     "text": [
      "100%|██████████| 36/36 [00:08<00:00,  4.29it/s]\n",
      "100%|██████████| 9/9 [00:01<00:00,  6.26it/s]\n",
      "100%|██████████| 36/36 [00:05<00:00,  6.27it/s]\n"
     ]
    },
    {
     "name": "stdout",
     "output_type": "stream",
     "text": [
      "epoch: 55, f1_val: 0.6996106110490373, f1_train: 0.9603277053285106\n"
     ]
    },
    {
     "name": "stderr",
     "output_type": "stream",
     "text": [
      "100%|██████████| 36/36 [00:08<00:00,  4.27it/s]\n",
      "100%|██████████| 9/9 [00:01<00:00,  6.20it/s]\n",
      "100%|██████████| 36/36 [00:05<00:00,  6.23it/s]\n"
     ]
    },
    {
     "name": "stdout",
     "output_type": "stream",
     "text": [
      "epoch: 56, f1_val: 0.6862752236759927, f1_train: 0.9600364509252911\n"
     ]
    },
    {
     "name": "stderr",
     "output_type": "stream",
     "text": [
      "100%|██████████| 36/36 [00:08<00:00,  4.18it/s]\n",
      "100%|██████████| 9/9 [00:01<00:00,  6.56it/s]\n",
      "100%|██████████| 36/36 [00:05<00:00,  6.33it/s]\n"
     ]
    },
    {
     "name": "stdout",
     "output_type": "stream",
     "text": [
      "epoch: 57, f1_val: 0.7103554588486115, f1_train: 0.9737959057968025\n"
     ]
    },
    {
     "name": "stderr",
     "output_type": "stream",
     "text": [
      "100%|██████████| 36/36 [00:08<00:00,  4.33it/s]\n",
      "100%|██████████| 9/9 [00:01<00:00,  6.33it/s]\n",
      "100%|██████████| 36/36 [00:05<00:00,  6.47it/s]\n"
     ]
    },
    {
     "name": "stdout",
     "output_type": "stream",
     "text": [
      "epoch: 58, f1_val: 0.6951239342550991, f1_train: 0.9545221942440594\n"
     ]
    },
    {
     "name": "stderr",
     "output_type": "stream",
     "text": [
      "100%|██████████| 36/36 [00:08<00:00,  4.33it/s]\n",
      "100%|██████████| 9/9 [00:01<00:00,  6.40it/s]\n",
      "100%|██████████| 36/36 [00:05<00:00,  6.49it/s]\n"
     ]
    },
    {
     "name": "stdout",
     "output_type": "stream",
     "text": [
      "epoch: 59, f1_val: 0.6946564694544626, f1_train: 0.9635471948917291\n"
     ]
    },
    {
     "name": "stderr",
     "output_type": "stream",
     "text": [
      "100%|██████████| 36/36 [00:08<00:00,  4.33it/s]\n",
      "100%|██████████| 9/9 [00:01<00:00,  6.40it/s]\n",
      "100%|██████████| 36/36 [00:05<00:00,  6.44it/s]\n"
     ]
    },
    {
     "name": "stdout",
     "output_type": "stream",
     "text": [
      "epoch: 60, f1_val: 0.714471157785214, f1_train: 0.9728636978590574\n"
     ]
    },
    {
     "name": "stderr",
     "output_type": "stream",
     "text": [
      "100%|██████████| 36/36 [00:08<00:00,  4.33it/s]\n",
      "100%|██████████| 9/9 [00:01<00:00,  6.47it/s]\n",
      "100%|██████████| 36/36 [00:05<00:00,  6.42it/s]\n"
     ]
    },
    {
     "name": "stdout",
     "output_type": "stream",
     "text": [
      "epoch: 61, f1_val: 0.684066243483102, f1_train: 0.9407857183907075\n"
     ]
    },
    {
     "name": "stderr",
     "output_type": "stream",
     "text": [
      "100%|██████████| 36/36 [00:08<00:00,  4.33it/s]\n",
      "100%|██████████| 9/9 [00:01<00:00,  6.40it/s]\n",
      "100%|██████████| 36/36 [00:05<00:00,  6.42it/s]\n"
     ]
    },
    {
     "name": "stdout",
     "output_type": "stream",
     "text": [
      "epoch: 62, f1_val: 0.707588902070126, f1_train: 0.9613862321893076\n"
     ]
    },
    {
     "name": "stderr",
     "output_type": "stream",
     "text": [
      "100%|██████████| 36/36 [00:08<00:00,  4.30it/s]\n",
      "100%|██████████| 9/9 [00:01<00:00,  8.47it/s]\n",
      "100%|██████████| 36/36 [00:04<00:00,  8.67it/s]\n"
     ]
    },
    {
     "name": "stdout",
     "output_type": "stream",
     "text": [
      "epoch: 63, f1_val: 0.7089054199296975, f1_train: 0.947772416370852\n"
     ]
    },
    {
     "name": "stderr",
     "output_type": "stream",
     "text": [
      "100%|██████████| 36/36 [00:08<00:00,  4.35it/s]\n",
      "100%|██████████| 9/9 [00:01<00:00,  8.55it/s]\n",
      "100%|██████████| 36/36 [00:04<00:00,  8.63it/s]\n"
     ]
    },
    {
     "name": "stdout",
     "output_type": "stream",
     "text": [
      "epoch: 64, f1_val: 0.7110039727049349, f1_train: 0.9725180777546796\n"
     ]
    },
    {
     "name": "stderr",
     "output_type": "stream",
     "text": [
      "100%|██████████| 36/36 [00:08<00:00,  4.35it/s]\n",
      "100%|██████████| 9/9 [00:01<00:00,  6.78it/s]\n",
      "100%|██████████| 36/36 [00:05<00:00,  6.48it/s]\n"
     ]
    },
    {
     "name": "stdout",
     "output_type": "stream",
     "text": [
      "epoch: 65, f1_val: 0.6383374225271923, f1_train: 0.8869125974739345\n"
     ]
    },
    {
     "name": "stderr",
     "output_type": "stream",
     "text": [
      "100%|██████████| 36/36 [00:08<00:00,  4.35it/s]\n",
      "100%|██████████| 9/9 [00:01<00:00,  6.27it/s]\n",
      "100%|██████████| 36/36 [00:05<00:00,  6.49it/s]\n"
     ]
    },
    {
     "name": "stdout",
     "output_type": "stream",
     "text": [
      "epoch: 66, f1_val: 0.7092756668564533, f1_train: 0.9650512792516152\n"
     ]
    },
    {
     "name": "stderr",
     "output_type": "stream",
     "text": [
      "100%|██████████| 36/36 [00:08<00:00,  4.30it/s]\n",
      "100%|██████████| 9/9 [00:01<00:00,  8.45it/s]\n",
      "100%|██████████| 36/36 [00:04<00:00,  8.58it/s]\n"
     ]
    },
    {
     "name": "stdout",
     "output_type": "stream",
     "text": [
      "epoch: 67, f1_val: 0.699124564536929, f1_train: 0.9558085510106518\n"
     ]
    },
    {
     "name": "stderr",
     "output_type": "stream",
     "text": [
      "100%|██████████| 36/36 [00:08<00:00,  4.33it/s]\n",
      "100%|██████████| 9/9 [00:01<00:00,  8.44it/s]\n",
      "100%|██████████| 36/36 [00:04<00:00,  8.62it/s]\n"
     ]
    },
    {
     "name": "stdout",
     "output_type": "stream",
     "text": [
      "epoch: 68, f1_val: 0.6892439176897607, f1_train: 0.9472962070053234\n"
     ]
    },
    {
     "name": "stderr",
     "output_type": "stream",
     "text": [
      "100%|██████████| 36/36 [00:08<00:00,  4.27it/s]\n",
      "100%|██████████| 9/9 [00:01<00:00,  8.42it/s]\n",
      "100%|██████████| 36/36 [00:04<00:00,  8.71it/s]\n"
     ]
    },
    {
     "name": "stdout",
     "output_type": "stream",
     "text": [
      "epoch: 69, f1_val: 0.6478607368151448, f1_train: 0.897714378262567\n"
     ]
    },
    {
     "name": "stderr",
     "output_type": "stream",
     "text": [
      "100%|██████████| 36/36 [00:08<00:00,  4.32it/s]\n",
      "100%|██████████| 9/9 [00:01<00:00,  8.51it/s]\n",
      "100%|██████████| 36/36 [00:04<00:00,  8.67it/s]\n"
     ]
    },
    {
     "name": "stdout",
     "output_type": "stream",
     "text": [
      "epoch: 70, f1_val: 0.6557942774511982, f1_train: 0.9030595078763923\n"
     ]
    },
    {
     "name": "stderr",
     "output_type": "stream",
     "text": [
      "100%|██████████| 36/36 [00:08<00:00,  4.26it/s]\n",
      "100%|██████████| 9/9 [00:01<00:00,  8.19it/s]\n",
      "100%|██████████| 36/36 [00:04<00:00,  8.39it/s]\n"
     ]
    },
    {
     "name": "stdout",
     "output_type": "stream",
     "text": [
      "epoch: 71, f1_val: 0.6807937445940291, f1_train: 0.9248618218700182\n"
     ]
    },
    {
     "name": "stderr",
     "output_type": "stream",
     "text": [
      "100%|██████████| 36/36 [00:08<00:00,  4.33it/s]\n",
      "100%|██████████| 9/9 [00:01<00:00,  8.53it/s]\n",
      "100%|██████████| 36/36 [00:04<00:00,  8.69it/s]\n"
     ]
    },
    {
     "name": "stdout",
     "output_type": "stream",
     "text": [
      "epoch: 72, f1_val: 0.679604061977035, f1_train: 0.9383843965239146\n"
     ]
    },
    {
     "name": "stderr",
     "output_type": "stream",
     "text": [
      "100%|██████████| 36/36 [00:08<00:00,  4.35it/s]\n",
      "100%|██████████| 9/9 [00:01<00:00,  8.56it/s]\n",
      "100%|██████████| 36/36 [00:04<00:00,  8.67it/s]\n"
     ]
    },
    {
     "name": "stdout",
     "output_type": "stream",
     "text": [
      "epoch: 73, f1_val: 0.6838264376213664, f1_train: 0.9287930356207021\n"
     ]
    },
    {
     "name": "stderr",
     "output_type": "stream",
     "text": [
      "100%|██████████| 36/36 [00:08<00:00,  4.35it/s]\n",
      "100%|██████████| 9/9 [00:01<00:00,  8.51it/s]\n",
      "100%|██████████| 36/36 [00:04<00:00,  8.68it/s]\n"
     ]
    },
    {
     "name": "stdout",
     "output_type": "stream",
     "text": [
      "epoch: 74, f1_val: 0.6602425159063845, f1_train: 0.9161313554522329\n"
     ]
    },
    {
     "name": "stderr",
     "output_type": "stream",
     "text": [
      "100%|██████████| 36/36 [00:08<00:00,  4.36it/s]\n",
      "100%|██████████| 9/9 [00:01<00:00,  8.44it/s]\n",
      "100%|██████████| 36/36 [00:04<00:00,  8.70it/s]\n"
     ]
    },
    {
     "name": "stdout",
     "output_type": "stream",
     "text": [
      "epoch: 75, f1_val: 0.6641706283994269, f1_train: 0.9321137424429327\n"
     ]
    },
    {
     "name": "stderr",
     "output_type": "stream",
     "text": [
      "100%|██████████| 36/36 [00:08<00:00,  4.36it/s]\n",
      "100%|██████████| 9/9 [00:01<00:00,  8.50it/s]\n",
      "100%|██████████| 36/36 [00:04<00:00,  8.70it/s]\n"
     ]
    },
    {
     "name": "stdout",
     "output_type": "stream",
     "text": [
      "epoch: 76, f1_val: 0.7011946089410774, f1_train: 0.9477375118060629\n"
     ]
    },
    {
     "name": "stderr",
     "output_type": "stream",
     "text": [
      "100%|██████████| 36/36 [00:08<00:00,  4.36it/s]\n",
      "100%|██████████| 9/9 [00:01<00:00,  8.53it/s]\n",
      "100%|██████████| 36/36 [00:04<00:00,  8.67it/s]\n"
     ]
    },
    {
     "name": "stdout",
     "output_type": "stream",
     "text": [
      "epoch: 77, f1_val: 0.7154194123837525, f1_train: 0.9614211109981851\n"
     ]
    },
    {
     "name": "stderr",
     "output_type": "stream",
     "text": [
      "100%|██████████| 36/36 [00:08<00:00,  4.36it/s]\n",
      "100%|██████████| 9/9 [00:01<00:00,  8.50it/s]\n",
      "100%|██████████| 36/36 [00:04<00:00,  8.67it/s]\n"
     ]
    },
    {
     "name": "stdout",
     "output_type": "stream",
     "text": [
      "epoch: 78, f1_val: 0.6984403305504192, f1_train: 0.9583868519572647\n"
     ]
    },
    {
     "name": "stderr",
     "output_type": "stream",
     "text": [
      "100%|██████████| 36/36 [00:08<00:00,  4.36it/s]\n",
      "100%|██████████| 9/9 [00:01<00:00,  8.45it/s]\n",
      "100%|██████████| 36/36 [00:04<00:00,  8.71it/s]\n"
     ]
    },
    {
     "name": "stdout",
     "output_type": "stream",
     "text": [
      "epoch: 79, f1_val: 0.7095117227362177, f1_train: 0.9697113611850268\n"
     ]
    },
    {
     "name": "stderr",
     "output_type": "stream",
     "text": [
      "100%|██████████| 36/36 [00:08<00:00,  4.36it/s]\n",
      "100%|██████████| 9/9 [00:01<00:00,  8.52it/s]\n",
      "100%|██████████| 36/36 [00:04<00:00,  8.70it/s]\n"
     ]
    },
    {
     "name": "stdout",
     "output_type": "stream",
     "text": [
      "epoch: 80, f1_val: 0.7035183750255095, f1_train: 0.9715917376347321\n"
     ]
    },
    {
     "name": "stderr",
     "output_type": "stream",
     "text": [
      "100%|██████████| 36/36 [00:08<00:00,  4.36it/s]\n",
      "100%|██████████| 9/9 [00:01<00:00,  8.45it/s]\n",
      "100%|██████████| 36/36 [00:04<00:00,  8.61it/s]\n"
     ]
    },
    {
     "name": "stdout",
     "output_type": "stream",
     "text": [
      "epoch: 81, f1_val: 0.686765035803201, f1_train: 0.9580066062080943\n"
     ]
    },
    {
     "name": "stderr",
     "output_type": "stream",
     "text": [
      "100%|██████████| 36/36 [00:08<00:00,  4.28it/s]\n",
      "100%|██████████| 9/9 [00:01<00:00,  8.46it/s]\n",
      "100%|██████████| 36/36 [00:04<00:00,  8.66it/s]\n"
     ]
    },
    {
     "name": "stdout",
     "output_type": "stream",
     "text": [
      "epoch: 82, f1_val: 0.6847433046356876, f1_train: 0.9500728935452987\n"
     ]
    },
    {
     "name": "stderr",
     "output_type": "stream",
     "text": [
      "100%|██████████| 36/36 [00:08<00:00,  4.36it/s]\n",
      "100%|██████████| 9/9 [00:01<00:00,  8.43it/s]\n",
      "100%|██████████| 36/36 [00:04<00:00,  8.67it/s]\n"
     ]
    },
    {
     "name": "stdout",
     "output_type": "stream",
     "text": [
      "epoch: 83, f1_val: 0.6857974929603683, f1_train: 0.9396886259027506\n"
     ]
    },
    {
     "name": "stderr",
     "output_type": "stream",
     "text": [
      "100%|██████████| 36/36 [00:08<00:00,  4.36it/s]\n",
      "100%|██████████| 9/9 [00:01<00:00,  8.51it/s]\n",
      "100%|██████████| 36/36 [00:04<00:00,  8.65it/s]\n"
     ]
    },
    {
     "name": "stdout",
     "output_type": "stream",
     "text": [
      "epoch: 84, f1_val: 0.6832068938352673, f1_train: 0.9256658520915217\n"
     ]
    },
    {
     "name": "stderr",
     "output_type": "stream",
     "text": [
      "100%|██████████| 36/36 [00:08<00:00,  4.36it/s]\n",
      "100%|██████████| 9/9 [00:01<00:00,  8.48it/s]\n",
      "100%|██████████| 36/36 [00:04<00:00,  8.67it/s]\n"
     ]
    },
    {
     "name": "stdout",
     "output_type": "stream",
     "text": [
      "epoch: 85, f1_val: 0.6691489352343102, f1_train: 0.9290529178307995\n"
     ]
    },
    {
     "name": "stderr",
     "output_type": "stream",
     "text": [
      "100%|██████████| 36/36 [00:08<00:00,  4.35it/s]\n",
      "100%|██████████| 9/9 [00:01<00:00,  8.58it/s]\n",
      "100%|██████████| 36/36 [00:04<00:00,  8.71it/s]\n"
     ]
    },
    {
     "name": "stdout",
     "output_type": "stream",
     "text": [
      "epoch: 86, f1_val: 0.6801061788241456, f1_train: 0.9300764577065951\n"
     ]
    },
    {
     "name": "stderr",
     "output_type": "stream",
     "text": [
      "100%|██████████| 36/36 [00:08<00:00,  4.36it/s]\n",
      "100%|██████████| 9/9 [00:01<00:00,  8.50it/s]\n",
      "100%|██████████| 36/36 [00:04<00:00,  8.72it/s]\n"
     ]
    },
    {
     "name": "stdout",
     "output_type": "stream",
     "text": [
      "epoch: 87, f1_val: 0.6890852618562553, f1_train: 0.938253084938633\n"
     ]
    },
    {
     "name": "stderr",
     "output_type": "stream",
     "text": [
      "100%|██████████| 36/36 [00:08<00:00,  4.36it/s]\n",
      "100%|██████████| 9/9 [00:01<00:00,  8.50it/s]\n",
      "100%|██████████| 36/36 [00:04<00:00,  8.70it/s]\n"
     ]
    },
    {
     "name": "stdout",
     "output_type": "stream",
     "text": [
      "epoch: 88, f1_val: 0.7094707539694075, f1_train: 0.9527733929747054\n"
     ]
    },
    {
     "name": "stderr",
     "output_type": "stream",
     "text": [
      "100%|██████████| 36/36 [00:08<00:00,  4.36it/s]\n",
      "100%|██████████| 9/9 [00:01<00:00,  8.47it/s]\n",
      "100%|██████████| 36/36 [00:04<00:00,  8.76it/s]\n"
     ]
    },
    {
     "name": "stdout",
     "output_type": "stream",
     "text": [
      "epoch: 89, f1_val: 0.719384854196018, f1_train: 0.9674764160357425\n"
     ]
    },
    {
     "name": "stderr",
     "output_type": "stream",
     "text": [
      "100%|██████████| 36/36 [00:08<00:00,  4.36it/s]\n",
      "100%|██████████| 9/9 [00:01<00:00,  8.51it/s]\n",
      "100%|██████████| 36/36 [00:04<00:00,  8.66it/s]\n"
     ]
    },
    {
     "name": "stdout",
     "output_type": "stream",
     "text": [
      "epoch: 90, f1_val: 0.714466803202396, f1_train: 0.9722100550826028\n"
     ]
    },
    {
     "name": "stderr",
     "output_type": "stream",
     "text": [
      "100%|██████████| 36/36 [00:08<00:00,  4.36it/s]\n",
      "100%|██████████| 9/9 [00:01<00:00,  8.47it/s]\n",
      "100%|██████████| 36/36 [00:04<00:00,  8.62it/s]\n"
     ]
    },
    {
     "name": "stdout",
     "output_type": "stream",
     "text": [
      "epoch: 91, f1_val: 0.7007033655603253, f1_train: 0.9566118364737807\n"
     ]
    },
    {
     "name": "stderr",
     "output_type": "stream",
     "text": [
      "100%|██████████| 36/36 [00:08<00:00,  4.36it/s]\n",
      "100%|██████████| 9/9 [00:01<00:00,  8.51it/s]\n",
      "100%|██████████| 36/36 [00:04<00:00,  8.66it/s]\n"
     ]
    },
    {
     "name": "stdout",
     "output_type": "stream",
     "text": [
      "epoch: 92, f1_val: 0.7096940302859203, f1_train: 0.9521230544932534\n"
     ]
    },
    {
     "name": "stderr",
     "output_type": "stream",
     "text": [
      "100%|██████████| 36/36 [00:08<00:00,  4.36it/s]\n",
      "100%|██████████| 9/9 [00:01<00:00,  8.49it/s]\n",
      "100%|██████████| 36/36 [00:04<00:00,  8.67it/s]\n"
     ]
    },
    {
     "name": "stdout",
     "output_type": "stream",
     "text": [
      "epoch: 93, f1_val: 0.7102489560243255, f1_train: 0.9549246511056368\n"
     ]
    },
    {
     "name": "stderr",
     "output_type": "stream",
     "text": [
      "100%|██████████| 36/36 [00:08<00:00,  4.35it/s]\n",
      "100%|██████████| 9/9 [00:01<00:00,  8.46it/s]\n",
      "100%|██████████| 36/36 [00:04<00:00,  8.63it/s]\n"
     ]
    },
    {
     "name": "stdout",
     "output_type": "stream",
     "text": [
      "epoch: 94, f1_val: 0.6954394432165439, f1_train: 0.9416862596613655\n"
     ]
    },
    {
     "name": "stderr",
     "output_type": "stream",
     "text": [
      "100%|██████████| 36/36 [00:08<00:00,  4.31it/s]\n",
      "100%|██████████| 9/9 [00:01<00:00,  8.42it/s]\n",
      "100%|██████████| 36/36 [00:04<00:00,  8.66it/s]\n"
     ]
    },
    {
     "name": "stdout",
     "output_type": "stream",
     "text": [
      "epoch: 95, f1_val: 0.6907298050242128, f1_train: 0.9507176888678068\n"
     ]
    },
    {
     "name": "stderr",
     "output_type": "stream",
     "text": [
      "100%|██████████| 36/36 [00:08<00:00,  4.36it/s]\n",
      "100%|██████████| 9/9 [00:01<00:00,  8.46it/s]\n",
      "100%|██████████| 36/36 [00:04<00:00,  8.70it/s]\n"
     ]
    },
    {
     "name": "stdout",
     "output_type": "stream",
     "text": [
      "epoch: 96, f1_val: 0.7037859903780952, f1_train: 0.9536765452387634\n"
     ]
    },
    {
     "name": "stderr",
     "output_type": "stream",
     "text": [
      "100%|██████████| 36/36 [00:08<00:00,  4.24it/s]\n",
      "100%|██████████| 9/9 [00:01<00:00,  8.12it/s]\n",
      "100%|██████████| 36/36 [00:04<00:00,  8.66it/s]\n"
     ]
    },
    {
     "name": "stdout",
     "output_type": "stream",
     "text": [
      "epoch: 97, f1_val: 0.6968917376159478, f1_train: 0.9487200820461157\n"
     ]
    },
    {
     "name": "stderr",
     "output_type": "stream",
     "text": [
      "100%|██████████| 36/36 [00:08<00:00,  4.36it/s]\n",
      "100%|██████████| 9/9 [00:01<00:00,  8.52it/s]\n",
      "100%|██████████| 36/36 [00:04<00:00,  8.69it/s]\n"
     ]
    },
    {
     "name": "stdout",
     "output_type": "stream",
     "text": [
      "epoch: 98, f1_val: 0.6822923204698316, f1_train: 0.9456586826078613\n"
     ]
    },
    {
     "name": "stderr",
     "output_type": "stream",
     "text": [
      "100%|██████████| 36/36 [00:08<00:00,  4.36it/s]\n",
      "100%|██████████| 9/9 [00:01<00:00,  8.52it/s]\n",
      "100%|██████████| 36/36 [00:04<00:00,  8.69it/s]\n",
      "C:\\ProgramData\\Anaconda3\\envs\\nlp-env\\lib\\site-packages\\torchaudio\\functional\\functional.py:584: UserWarning: At least one mel filterbank has all zero values. The value for `n_mels` (128) may be set too high. Or, the value for `n_freqs` (201) may be set too low.\n",
      "  warnings.warn(\n"
     ]
    },
    {
     "name": "stdout",
     "output_type": "stream",
     "text": [
      "epoch: 99, f1_val: 0.7054105566990205, f1_train: 0.9532517503230944\n",
      "Best F1 on validation: 0.719384854196018\n",
      "Loaded pretrained weights for efficientnet-b0\n"
     ]
    },
    {
     "name": "stderr",
     "output_type": "stream",
     "text": [
      "100%|██████████| 36/36 [00:08<00:00,  4.36it/s]\n",
      "100%|██████████| 9/9 [00:01<00:00,  8.30it/s]\n",
      "100%|██████████| 36/36 [00:04<00:00,  8.72it/s]\n"
     ]
    },
    {
     "name": "stdout",
     "output_type": "stream",
     "text": [
      "epoch: 0, f1_val: 0.0886400168156738, f1_train: 0.07883325151759511\n"
     ]
    },
    {
     "name": "stderr",
     "output_type": "stream",
     "text": [
      "100%|██████████| 36/36 [00:08<00:00,  4.36it/s]\n",
      "100%|██████████| 9/9 [00:01<00:00,  8.33it/s]\n",
      "100%|██████████| 36/36 [00:04<00:00,  8.69it/s]\n"
     ]
    },
    {
     "name": "stdout",
     "output_type": "stream",
     "text": [
      "epoch: 1, f1_val: 0.12071103580710799, f1_train: 0.12822327765749697\n"
     ]
    },
    {
     "name": "stderr",
     "output_type": "stream",
     "text": [
      "100%|██████████| 36/36 [00:08<00:00,  4.35it/s]\n",
      "100%|██████████| 9/9 [00:01<00:00,  8.41it/s]\n",
      "100%|██████████| 36/36 [00:04<00:00,  8.69it/s]\n"
     ]
    },
    {
     "name": "stdout",
     "output_type": "stream",
     "text": [
      "epoch: 2, f1_val: 0.17356954412867842, f1_train: 0.19677179115648522\n"
     ]
    },
    {
     "name": "stderr",
     "output_type": "stream",
     "text": [
      "100%|██████████| 36/36 [00:08<00:00,  4.36it/s]\n",
      "100%|██████████| 9/9 [00:01<00:00,  8.37it/s]\n",
      "100%|██████████| 36/36 [00:04<00:00,  8.72it/s]\n"
     ]
    },
    {
     "name": "stdout",
     "output_type": "stream",
     "text": [
      "epoch: 3, f1_val: 0.2315677192313834, f1_train: 0.2706192128796465\n"
     ]
    },
    {
     "name": "stderr",
     "output_type": "stream",
     "text": [
      "100%|██████████| 36/36 [00:08<00:00,  4.36it/s]\n",
      "100%|██████████| 9/9 [00:01<00:00,  8.45it/s]\n",
      "100%|██████████| 36/36 [00:04<00:00,  8.69it/s]\n"
     ]
    },
    {
     "name": "stdout",
     "output_type": "stream",
     "text": [
      "epoch: 4, f1_val: 0.2678372075975915, f1_train: 0.30433952189939434\n"
     ]
    },
    {
     "name": "stderr",
     "output_type": "stream",
     "text": [
      "100%|██████████| 36/36 [00:08<00:00,  4.36it/s]\n",
      "100%|██████████| 9/9 [00:01<00:00,  8.33it/s]\n",
      "100%|██████████| 36/36 [00:04<00:00,  8.67it/s]\n"
     ]
    },
    {
     "name": "stdout",
     "output_type": "stream",
     "text": [
      "epoch: 5, f1_val: 0.2951914761829461, f1_train: 0.34996150075659277\n"
     ]
    },
    {
     "name": "stderr",
     "output_type": "stream",
     "text": [
      "100%|██████████| 36/36 [00:08<00:00,  4.36it/s]\n",
      "100%|██████████| 9/9 [00:01<00:00,  8.36it/s]\n",
      "100%|██████████| 36/36 [00:04<00:00,  8.71it/s]\n"
     ]
    },
    {
     "name": "stdout",
     "output_type": "stream",
     "text": [
      "epoch: 6, f1_val: 0.22886628529169567, f1_train: 0.28650486409487685\n"
     ]
    },
    {
     "name": "stderr",
     "output_type": "stream",
     "text": [
      "100%|██████████| 36/36 [00:08<00:00,  4.35it/s]\n",
      "100%|██████████| 9/9 [00:01<00:00,  8.41it/s]\n",
      "100%|██████████| 36/36 [00:04<00:00,  8.70it/s]\n"
     ]
    },
    {
     "name": "stdout",
     "output_type": "stream",
     "text": [
      "epoch: 7, f1_val: 0.3126679580117647, f1_train: 0.40317314833040874\n"
     ]
    },
    {
     "name": "stderr",
     "output_type": "stream",
     "text": [
      "100%|██████████| 36/36 [00:08<00:00,  4.34it/s]\n",
      "100%|██████████| 9/9 [00:01<00:00,  8.22it/s]\n",
      "100%|██████████| 36/36 [00:04<00:00,  8.63it/s]\n"
     ]
    },
    {
     "name": "stdout",
     "output_type": "stream",
     "text": [
      "epoch: 8, f1_val: 0.4773460361749782, f1_train: 0.5954682898471876\n"
     ]
    },
    {
     "name": "stderr",
     "output_type": "stream",
     "text": [
      "100%|██████████| 36/36 [00:08<00:00,  4.35it/s]\n",
      "100%|██████████| 9/9 [00:01<00:00,  8.27it/s]\n",
      "100%|██████████| 36/36 [00:04<00:00,  8.68it/s]\n"
     ]
    },
    {
     "name": "stdout",
     "output_type": "stream",
     "text": [
      "epoch: 9, f1_val: 0.5518863484225482, f1_train: 0.707835773752428\n"
     ]
    },
    {
     "name": "stderr",
     "output_type": "stream",
     "text": [
      "100%|██████████| 36/36 [00:08<00:00,  4.36it/s]\n",
      "100%|██████████| 9/9 [00:01<00:00,  8.46it/s]\n",
      "100%|██████████| 36/36 [00:04<00:00,  8.58it/s]\n"
     ]
    },
    {
     "name": "stdout",
     "output_type": "stream",
     "text": [
      "epoch: 10, f1_val: 0.45718673355333067, f1_train: 0.6083042926025405\n"
     ]
    },
    {
     "name": "stderr",
     "output_type": "stream",
     "text": [
      "100%|██████████| 36/36 [00:08<00:00,  4.23it/s]\n",
      "100%|██████████| 9/9 [00:01<00:00,  6.20it/s]\n",
      "100%|██████████| 36/36 [00:05<00:00,  6.33it/s]\n"
     ]
    },
    {
     "name": "stdout",
     "output_type": "stream",
     "text": [
      "epoch: 11, f1_val: 0.5387234370337943, f1_train: 0.7111609919560276\n"
     ]
    },
    {
     "name": "stderr",
     "output_type": "stream",
     "text": [
      "100%|██████████| 36/36 [00:08<00:00,  4.31it/s]\n",
      "100%|██████████| 9/9 [00:01<00:00,  8.31it/s]\n",
      "100%|██████████| 36/36 [00:04<00:00,  8.63it/s]\n"
     ]
    },
    {
     "name": "stdout",
     "output_type": "stream",
     "text": [
      "epoch: 12, f1_val: 0.5032950559403042, f1_train: 0.6836865265174641\n"
     ]
    },
    {
     "name": "stderr",
     "output_type": "stream",
     "text": [
      "100%|██████████| 36/36 [00:08<00:00,  4.33it/s]\n",
      "100%|██████████| 9/9 [00:01<00:00,  8.12it/s]\n",
      "100%|██████████| 36/36 [00:04<00:00,  8.53it/s]\n"
     ]
    },
    {
     "name": "stdout",
     "output_type": "stream",
     "text": [
      "epoch: 13, f1_val: 0.3828294358069024, f1_train: 0.5006440193358825\n"
     ]
    },
    {
     "name": "stderr",
     "output_type": "stream",
     "text": [
      "100%|██████████| 36/36 [00:08<00:00,  4.32it/s]\n",
      "100%|██████████| 9/9 [00:01<00:00,  8.40it/s]\n",
      "100%|██████████| 36/36 [00:04<00:00,  8.57it/s]\n"
     ]
    },
    {
     "name": "stdout",
     "output_type": "stream",
     "text": [
      "epoch: 14, f1_val: 0.5822807230205698, f1_train: 0.7884504896433164\n"
     ]
    },
    {
     "name": "stderr",
     "output_type": "stream",
     "text": [
      "100%|██████████| 36/36 [00:08<00:00,  4.32it/s]\n",
      "100%|██████████| 9/9 [00:01<00:00,  5.53it/s]\n",
      "100%|██████████| 36/36 [00:05<00:00,  6.31it/s]\n"
     ]
    },
    {
     "name": "stdout",
     "output_type": "stream",
     "text": [
      "epoch: 15, f1_val: 0.3915381709368883, f1_train: 0.5504023183829272\n"
     ]
    },
    {
     "name": "stderr",
     "output_type": "stream",
     "text": [
      "100%|██████████| 36/36 [00:08<00:00,  4.26it/s]\n",
      "100%|██████████| 9/9 [00:01<00:00,  6.19it/s]\n",
      "100%|██████████| 36/36 [00:04<00:00,  8.50it/s]\n"
     ]
    },
    {
     "name": "stdout",
     "output_type": "stream",
     "text": [
      "epoch: 16, f1_val: 0.4411114353422284, f1_train: 0.623991531444634\n"
     ]
    },
    {
     "name": "stderr",
     "output_type": "stream",
     "text": [
      "100%|██████████| 36/36 [00:08<00:00,  4.36it/s]\n",
      "100%|██████████| 9/9 [00:01<00:00,  8.34it/s]\n",
      "100%|██████████| 36/36 [00:04<00:00,  8.66it/s]\n"
     ]
    },
    {
     "name": "stdout",
     "output_type": "stream",
     "text": [
      "epoch: 17, f1_val: 0.6542668346211269, f1_train: 0.8781877710763942\n"
     ]
    },
    {
     "name": "stderr",
     "output_type": "stream",
     "text": [
      "100%|██████████| 36/36 [00:08<00:00,  4.31it/s]\n",
      "100%|██████████| 9/9 [00:01<00:00,  8.23it/s]\n",
      "100%|██████████| 36/36 [00:04<00:00,  8.51it/s]\n"
     ]
    },
    {
     "name": "stdout",
     "output_type": "stream",
     "text": [
      "epoch: 18, f1_val: 0.4920938302442239, f1_train: 0.659732412437615\n"
     ]
    },
    {
     "name": "stderr",
     "output_type": "stream",
     "text": [
      "100%|██████████| 36/36 [00:08<00:00,  4.34it/s]\n",
      "100%|██████████| 9/9 [00:01<00:00,  8.20it/s]\n",
      "100%|██████████| 36/36 [00:04<00:00,  8.54it/s]\n"
     ]
    },
    {
     "name": "stdout",
     "output_type": "stream",
     "text": [
      "epoch: 19, f1_val: 0.5494469325816124, f1_train: 0.7646545446473518\n"
     ]
    },
    {
     "name": "stderr",
     "output_type": "stream",
     "text": [
      "100%|██████████| 36/36 [00:08<00:00,  4.34it/s]\n",
      "100%|██████████| 9/9 [00:01<00:00,  8.25it/s]\n",
      "100%|██████████| 36/36 [00:04<00:00,  8.51it/s]\n"
     ]
    },
    {
     "name": "stdout",
     "output_type": "stream",
     "text": [
      "epoch: 20, f1_val: 0.4610856280646357, f1_train: 0.6280227044626283\n"
     ]
    },
    {
     "name": "stderr",
     "output_type": "stream",
     "text": [
      "100%|██████████| 36/36 [00:08<00:00,  4.35it/s]\n",
      "100%|██████████| 9/9 [00:01<00:00,  8.17it/s]\n",
      "100%|██████████| 36/36 [00:04<00:00,  8.55it/s]\n"
     ]
    },
    {
     "name": "stdout",
     "output_type": "stream",
     "text": [
      "epoch: 21, f1_val: 0.47625372309656033, f1_train: 0.6757698321805338\n"
     ]
    },
    {
     "name": "stderr",
     "output_type": "stream",
     "text": [
      "100%|██████████| 36/36 [00:08<00:00,  4.34it/s]\n",
      "100%|██████████| 9/9 [00:01<00:00,  8.29it/s]\n",
      "100%|██████████| 36/36 [00:04<00:00,  8.53it/s]\n"
     ]
    },
    {
     "name": "stdout",
     "output_type": "stream",
     "text": [
      "epoch: 22, f1_val: 0.5181432934367594, f1_train: 0.7107820140599121\n"
     ]
    },
    {
     "name": "stderr",
     "output_type": "stream",
     "text": [
      "100%|██████████| 36/36 [00:08<00:00,  4.35it/s]\n",
      "100%|██████████| 9/9 [00:01<00:00,  8.25it/s]\n",
      "100%|██████████| 36/36 [00:04<00:00,  8.53it/s]\n"
     ]
    },
    {
     "name": "stdout",
     "output_type": "stream",
     "text": [
      "epoch: 23, f1_val: 0.6079111434098371, f1_train: 0.8440114516035712\n"
     ]
    },
    {
     "name": "stderr",
     "output_type": "stream",
     "text": [
      "100%|██████████| 36/36 [00:08<00:00,  4.34it/s]\n",
      "100%|██████████| 9/9 [00:01<00:00,  8.31it/s]\n",
      "100%|██████████| 36/36 [00:04<00:00,  8.54it/s]\n"
     ]
    },
    {
     "name": "stdout",
     "output_type": "stream",
     "text": [
      "epoch: 24, f1_val: 0.5044086419368592, f1_train: 0.6897591724408942\n"
     ]
    },
    {
     "name": "stderr",
     "output_type": "stream",
     "text": [
      "100%|██████████| 36/36 [00:08<00:00,  4.35it/s]\n",
      "100%|██████████| 9/9 [00:01<00:00,  8.25it/s]\n",
      "100%|██████████| 36/36 [00:04<00:00,  8.49it/s]\n"
     ]
    },
    {
     "name": "stdout",
     "output_type": "stream",
     "text": [
      "epoch: 25, f1_val: 0.45232573391905884, f1_train: 0.6382414418758179\n"
     ]
    },
    {
     "name": "stderr",
     "output_type": "stream",
     "text": [
      "100%|██████████| 36/36 [00:08<00:00,  4.34it/s]\n",
      "100%|██████████| 9/9 [00:01<00:00,  8.22it/s]\n",
      "100%|██████████| 36/36 [00:04<00:00,  8.48it/s]\n"
     ]
    },
    {
     "name": "stdout",
     "output_type": "stream",
     "text": [
      "epoch: 26, f1_val: 0.5214714781442801, f1_train: 0.7312006813226387\n"
     ]
    },
    {
     "name": "stderr",
     "output_type": "stream",
     "text": [
      "100%|██████████| 36/36 [00:08<00:00,  4.33it/s]\n",
      "100%|██████████| 9/9 [00:01<00:00,  8.28it/s]\n",
      "100%|██████████| 36/36 [00:04<00:00,  8.52it/s]\n"
     ]
    },
    {
     "name": "stdout",
     "output_type": "stream",
     "text": [
      "epoch: 27, f1_val: 0.6227095933078804, f1_train: 0.8677960278646845\n"
     ]
    },
    {
     "name": "stderr",
     "output_type": "stream",
     "text": [
      "100%|██████████| 36/36 [00:08<00:00,  4.34it/s]\n",
      "100%|██████████| 9/9 [00:01<00:00,  8.27it/s]\n",
      "100%|██████████| 36/36 [00:04<00:00,  8.48it/s]\n"
     ]
    },
    {
     "name": "stdout",
     "output_type": "stream",
     "text": [
      "epoch: 28, f1_val: 0.6868616761477846, f1_train: 0.9488152297921395\n"
     ]
    },
    {
     "name": "stderr",
     "output_type": "stream",
     "text": [
      "100%|██████████| 36/36 [00:08<00:00,  4.35it/s]\n",
      "100%|██████████| 9/9 [00:01<00:00,  8.24it/s]\n",
      "100%|██████████| 36/36 [00:04<00:00,  8.51it/s]\n"
     ]
    },
    {
     "name": "stdout",
     "output_type": "stream",
     "text": [
      "epoch: 29, f1_val: 0.6928859576950932, f1_train: 0.9360123546384167\n"
     ]
    },
    {
     "name": "stderr",
     "output_type": "stream",
     "text": [
      "100%|██████████| 36/36 [00:08<00:00,  4.28it/s]\n",
      "100%|██████████| 9/9 [00:01<00:00,  6.69it/s]\n",
      "100%|██████████| 36/36 [00:06<00:00,  5.90it/s]\n"
     ]
    },
    {
     "name": "stdout",
     "output_type": "stream",
     "text": [
      "epoch: 30, f1_val: 0.6510043100118776, f1_train: 0.9000119232363988\n"
     ]
    },
    {
     "name": "stderr",
     "output_type": "stream",
     "text": [
      "100%|██████████| 36/36 [00:08<00:00,  4.24it/s]\n",
      "100%|██████████| 9/9 [00:01<00:00,  6.38it/s]\n",
      "100%|██████████| 36/36 [00:05<00:00,  6.19it/s]\n"
     ]
    },
    {
     "name": "stdout",
     "output_type": "stream",
     "text": [
      "epoch: 31, f1_val: 0.5842580871691311, f1_train: 0.809773176250798\n"
     ]
    },
    {
     "name": "stderr",
     "output_type": "stream",
     "text": [
      "100%|██████████| 36/36 [00:08<00:00,  4.25it/s]\n",
      "100%|██████████| 9/9 [00:01<00:00,  6.31it/s]\n",
      "100%|██████████| 36/36 [00:05<00:00,  6.25it/s]\n"
     ]
    },
    {
     "name": "stdout",
     "output_type": "stream",
     "text": [
      "epoch: 32, f1_val: 0.6995761330458652, f1_train: 0.9396312417058577\n"
     ]
    },
    {
     "name": "stderr",
     "output_type": "stream",
     "text": [
      "100%|██████████| 36/36 [00:08<00:00,  4.22it/s]\n",
      "100%|██████████| 9/9 [00:01<00:00,  7.93it/s]\n",
      "100%|██████████| 36/36 [00:04<00:00,  8.37it/s]\n"
     ]
    },
    {
     "name": "stdout",
     "output_type": "stream",
     "text": [
      "epoch: 33, f1_val: 0.619107216245441, f1_train: 0.8677712884509007\n"
     ]
    },
    {
     "name": "stderr",
     "output_type": "stream",
     "text": [
      "100%|██████████| 36/36 [00:08<00:00,  4.26it/s]\n",
      "100%|██████████| 9/9 [00:01<00:00,  6.10it/s]\n",
      "100%|██████████| 36/36 [00:05<00:00,  6.20it/s]\n"
     ]
    },
    {
     "name": "stdout",
     "output_type": "stream",
     "text": [
      "epoch: 34, f1_val: 0.6755055327743885, f1_train: 0.9081414078831229\n"
     ]
    },
    {
     "name": "stderr",
     "output_type": "stream",
     "text": [
      "100%|██████████| 36/36 [00:08<00:00,  4.22it/s]\n",
      "100%|██████████| 9/9 [00:01<00:00,  6.03it/s]\n",
      "100%|██████████| 36/36 [00:05<00:00,  6.19it/s]\n"
     ]
    },
    {
     "name": "stdout",
     "output_type": "stream",
     "text": [
      "epoch: 35, f1_val: 0.6993130288539684, f1_train: 0.9502384519949089\n"
     ]
    },
    {
     "name": "stderr",
     "output_type": "stream",
     "text": [
      "100%|██████████| 36/36 [00:08<00:00,  4.19it/s]\n",
      "100%|██████████| 9/9 [00:01<00:00,  6.03it/s]\n",
      "100%|██████████| 36/36 [00:05<00:00,  6.21it/s]\n"
     ]
    },
    {
     "name": "stdout",
     "output_type": "stream",
     "text": [
      "epoch: 36, f1_val: 0.6301488328257548, f1_train: 0.8801104725334253\n"
     ]
    },
    {
     "name": "stderr",
     "output_type": "stream",
     "text": [
      "100%|██████████| 36/36 [00:08<00:00,  4.22it/s]\n",
      "100%|██████████| 9/9 [00:01<00:00,  6.06it/s]\n",
      "100%|██████████| 36/36 [00:05<00:00,  6.28it/s]\n"
     ]
    },
    {
     "name": "stdout",
     "output_type": "stream",
     "text": [
      "epoch: 37, f1_val: 0.7058568387039832, f1_train: 0.9456635803853538\n"
     ]
    },
    {
     "name": "stderr",
     "output_type": "stream",
     "text": [
      "100%|██████████| 36/36 [00:08<00:00,  4.22it/s]\n",
      "100%|██████████| 9/9 [00:01<00:00,  8.21it/s]\n",
      "100%|██████████| 36/36 [00:04<00:00,  8.47it/s]\n"
     ]
    },
    {
     "name": "stdout",
     "output_type": "stream",
     "text": [
      "epoch: 38, f1_val: 0.6706648491886901, f1_train: 0.9303191990018894\n"
     ]
    },
    {
     "name": "stderr",
     "output_type": "stream",
     "text": [
      "100%|██████████| 36/36 [00:08<00:00,  4.29it/s]\n",
      "100%|██████████| 9/9 [00:01<00:00,  8.16it/s]\n",
      "100%|██████████| 36/36 [00:04<00:00,  8.47it/s]\n"
     ]
    },
    {
     "name": "stdout",
     "output_type": "stream",
     "text": [
      "epoch: 39, f1_val: 0.6628588999672922, f1_train: 0.9318884471706171\n"
     ]
    },
    {
     "name": "stderr",
     "output_type": "stream",
     "text": [
      "100%|██████████| 36/36 [00:08<00:00,  4.29it/s]\n",
      "100%|██████████| 9/9 [00:01<00:00,  8.14it/s]\n",
      "100%|██████████| 36/36 [00:04<00:00,  8.38it/s]\n"
     ]
    },
    {
     "name": "stdout",
     "output_type": "stream",
     "text": [
      "epoch: 40, f1_val: 0.6867178718986704, f1_train: 0.9528476553812504\n"
     ]
    },
    {
     "name": "stderr",
     "output_type": "stream",
     "text": [
      "100%|██████████| 36/36 [00:08<00:00,  4.28it/s]\n",
      "100%|██████████| 9/9 [00:01<00:00,  8.21it/s]\n",
      "100%|██████████| 36/36 [00:04<00:00,  8.40it/s]\n"
     ]
    },
    {
     "name": "stdout",
     "output_type": "stream",
     "text": [
      "epoch: 41, f1_val: 0.6559985916540649, f1_train: 0.915647870819833\n"
     ]
    },
    {
     "name": "stderr",
     "output_type": "stream",
     "text": [
      "100%|██████████| 36/36 [00:08<00:00,  4.24it/s]\n",
      "100%|██████████| 9/9 [00:01<00:00,  6.02it/s]\n",
      "100%|██████████| 36/36 [00:05<00:00,  6.21it/s]\n"
     ]
    },
    {
     "name": "stdout",
     "output_type": "stream",
     "text": [
      "epoch: 42, f1_val: 0.6975534072642289, f1_train: 0.9507452790275125\n"
     ]
    },
    {
     "name": "stderr",
     "output_type": "stream",
     "text": [
      "100%|██████████| 36/36 [00:08<00:00,  4.18it/s]\n",
      "100%|██████████| 9/9 [00:01<00:00,  6.11it/s]\n",
      "100%|██████████| 36/36 [00:05<00:00,  6.14it/s]\n"
     ]
    },
    {
     "name": "stdout",
     "output_type": "stream",
     "text": [
      "epoch: 43, f1_val: 0.6793903091674058, f1_train: 0.9289299585254116\n"
     ]
    },
    {
     "name": "stderr",
     "output_type": "stream",
     "text": [
      "100%|██████████| 36/36 [00:08<00:00,  4.23it/s]\n",
      "100%|██████████| 9/9 [00:01<00:00,  6.14it/s]\n",
      "100%|██████████| 36/36 [00:05<00:00,  6.30it/s]\n"
     ]
    },
    {
     "name": "stdout",
     "output_type": "stream",
     "text": [
      "epoch: 44, f1_val: 0.615477489688418, f1_train: 0.8696094275078027\n"
     ]
    },
    {
     "name": "stderr",
     "output_type": "stream",
     "text": [
      "100%|██████████| 36/36 [00:08<00:00,  4.23it/s]\n",
      "100%|██████████| 9/9 [00:01<00:00,  6.17it/s]\n",
      "100%|██████████| 36/36 [00:04<00:00,  8.47it/s]\n"
     ]
    },
    {
     "name": "stdout",
     "output_type": "stream",
     "text": [
      "epoch: 45, f1_val: 0.652937496723531, f1_train: 0.9257124388818527\n"
     ]
    },
    {
     "name": "stderr",
     "output_type": "stream",
     "text": [
      "100%|██████████| 36/36 [00:08<00:00,  4.30it/s]\n",
      "100%|██████████| 9/9 [00:01<00:00,  8.18it/s]\n",
      "100%|██████████| 36/36 [00:04<00:00,  8.42it/s]\n"
     ]
    },
    {
     "name": "stdout",
     "output_type": "stream",
     "text": [
      "epoch: 46, f1_val: 0.6450664645492187, f1_train: 0.8950876701191645\n"
     ]
    },
    {
     "name": "stderr",
     "output_type": "stream",
     "text": [
      "100%|██████████| 36/36 [00:08<00:00,  4.25it/s]\n",
      "100%|██████████| 9/9 [00:01<00:00,  6.16it/s]\n",
      "100%|██████████| 36/36 [00:05<00:00,  6.25it/s]\n"
     ]
    },
    {
     "name": "stdout",
     "output_type": "stream",
     "text": [
      "epoch: 47, f1_val: 0.5472062786279199, f1_train: 0.7758763038249692\n"
     ]
    },
    {
     "name": "stderr",
     "output_type": "stream",
     "text": [
      "100%|██████████| 36/36 [00:08<00:00,  4.23it/s]\n",
      "100%|██████████| 9/9 [00:01<00:00,  6.19it/s]\n",
      "100%|██████████| 36/36 [00:05<00:00,  6.28it/s]\n"
     ]
    },
    {
     "name": "stdout",
     "output_type": "stream",
     "text": [
      "epoch: 48, f1_val: 0.6335158911916196, f1_train: 0.8585279385246547\n"
     ]
    },
    {
     "name": "stderr",
     "output_type": "stream",
     "text": [
      "100%|██████████| 36/36 [00:08<00:00,  4.23it/s]\n",
      "100%|██████████| 9/9 [00:01<00:00,  6.11it/s]\n",
      "100%|██████████| 36/36 [00:05<00:00,  6.30it/s]\n"
     ]
    },
    {
     "name": "stdout",
     "output_type": "stream",
     "text": [
      "epoch: 49, f1_val: 0.6213497189731931, f1_train: 0.866525440777638\n"
     ]
    },
    {
     "name": "stderr",
     "output_type": "stream",
     "text": [
      "100%|██████████| 36/36 [00:08<00:00,  4.23it/s]\n",
      "100%|██████████| 9/9 [00:01<00:00,  6.17it/s]\n",
      "100%|██████████| 36/36 [00:05<00:00,  6.27it/s]\n"
     ]
    },
    {
     "name": "stdout",
     "output_type": "stream",
     "text": [
      "epoch: 50, f1_val: 0.6859550936887001, f1_train: 0.9495109160664178\n"
     ]
    },
    {
     "name": "stderr",
     "output_type": "stream",
     "text": [
      "100%|██████████| 36/36 [00:08<00:00,  4.23it/s]\n",
      "100%|██████████| 9/9 [00:01<00:00,  8.15it/s]\n",
      "100%|██████████| 36/36 [00:05<00:00,  6.41it/s]\n"
     ]
    },
    {
     "name": "stdout",
     "output_type": "stream",
     "text": [
      "epoch: 51, f1_val: 0.6772137876972885, f1_train: 0.9388913859189322\n"
     ]
    },
    {
     "name": "stderr",
     "output_type": "stream",
     "text": [
      "100%|██████████| 36/36 [00:08<00:00,  4.21it/s]\n",
      "100%|██████████| 9/9 [00:01<00:00,  6.17it/s]\n",
      "100%|██████████| 36/36 [00:05<00:00,  6.29it/s]\n"
     ]
    },
    {
     "name": "stdout",
     "output_type": "stream",
     "text": [
      "epoch: 52, f1_val: 0.7234239145001551, f1_train: 0.9639262341103341\n"
     ]
    },
    {
     "name": "stderr",
     "output_type": "stream",
     "text": [
      "100%|██████████| 36/36 [00:08<00:00,  4.23it/s]\n",
      "100%|██████████| 9/9 [00:01<00:00,  6.83it/s]\n",
      "100%|██████████| 36/36 [00:04<00:00,  8.39it/s]\n"
     ]
    },
    {
     "name": "stdout",
     "output_type": "stream",
     "text": [
      "epoch: 53, f1_val: 0.7287889393897088, f1_train: 0.9688037741929006\n"
     ]
    },
    {
     "name": "stderr",
     "output_type": "stream",
     "text": [
      "100%|██████████| 36/36 [00:08<00:00,  4.29it/s]\n",
      "100%|██████████| 9/9 [00:01<00:00,  8.12it/s]\n",
      "100%|██████████| 36/36 [00:04<00:00,  8.36it/s]\n"
     ]
    },
    {
     "name": "stdout",
     "output_type": "stream",
     "text": [
      "epoch: 54, f1_val: 0.6957943679485731, f1_train: 0.9603054309362724\n"
     ]
    },
    {
     "name": "stderr",
     "output_type": "stream",
     "text": [
      "100%|██████████| 36/36 [00:08<00:00,  4.29it/s]\n",
      "100%|██████████| 9/9 [00:01<00:00,  8.08it/s]\n",
      "100%|██████████| 36/36 [00:04<00:00,  8.43it/s]\n"
     ]
    },
    {
     "name": "stdout",
     "output_type": "stream",
     "text": [
      "epoch: 55, f1_val: 0.7088858676496352, f1_train: 0.9683034107410624\n"
     ]
    },
    {
     "name": "stderr",
     "output_type": "stream",
     "text": [
      "100%|██████████| 36/36 [00:08<00:00,  4.24it/s]\n",
      "100%|██████████| 9/9 [00:01<00:00,  7.94it/s]\n",
      "100%|██████████| 36/36 [00:05<00:00,  6.61it/s]\n"
     ]
    },
    {
     "name": "stdout",
     "output_type": "stream",
     "text": [
      "epoch: 56, f1_val: 0.7173226646359427, f1_train: 0.9634157917231227\n"
     ]
    },
    {
     "name": "stderr",
     "output_type": "stream",
     "text": [
      "100%|██████████| 36/36 [00:08<00:00,  4.06it/s]\n",
      "100%|██████████| 9/9 [00:01<00:00,  6.14it/s]\n",
      "100%|██████████| 36/36 [00:05<00:00,  6.26it/s]\n"
     ]
    },
    {
     "name": "stdout",
     "output_type": "stream",
     "text": [
      "epoch: 57, f1_val: 0.6750664985233736, f1_train: 0.9577954475611197\n"
     ]
    },
    {
     "name": "stderr",
     "output_type": "stream",
     "text": [
      "100%|██████████| 36/36 [00:08<00:00,  4.10it/s]\n",
      "100%|██████████| 9/9 [00:01<00:00,  6.08it/s]\n",
      "100%|██████████| 36/36 [00:05<00:00,  6.26it/s]\n"
     ]
    },
    {
     "name": "stdout",
     "output_type": "stream",
     "text": [
      "epoch: 58, f1_val: 0.7054699789340628, f1_train: 0.9603956406059744\n"
     ]
    },
    {
     "name": "stderr",
     "output_type": "stream",
     "text": [
      "100%|██████████| 36/36 [00:08<00:00,  4.14it/s]\n",
      "100%|██████████| 9/9 [00:01<00:00,  6.14it/s]\n",
      "100%|██████████| 36/36 [00:05<00:00,  6.01it/s]\n"
     ]
    },
    {
     "name": "stdout",
     "output_type": "stream",
     "text": [
      "epoch: 59, f1_val: 0.7042792840967539, f1_train: 0.9658402589562601\n"
     ]
    },
    {
     "name": "stderr",
     "output_type": "stream",
     "text": [
      "100%|██████████| 36/36 [00:08<00:00,  4.24it/s]\n",
      "100%|██████████| 9/9 [00:01<00:00,  8.17it/s]\n",
      "100%|██████████| 36/36 [00:04<00:00,  8.40it/s]\n"
     ]
    },
    {
     "name": "stdout",
     "output_type": "stream",
     "text": [
      "epoch: 60, f1_val: 0.6643928854585968, f1_train: 0.9372623589068455\n"
     ]
    },
    {
     "name": "stderr",
     "output_type": "stream",
     "text": [
      "100%|██████████| 36/36 [00:08<00:00,  4.25it/s]\n",
      "100%|██████████| 9/9 [00:01<00:00,  8.07it/s]\n",
      "100%|██████████| 36/36 [00:04<00:00,  8.32it/s]\n"
     ]
    },
    {
     "name": "stdout",
     "output_type": "stream",
     "text": [
      "epoch: 61, f1_val: 0.661762241249632, f1_train: 0.9036454694602545\n"
     ]
    },
    {
     "name": "stderr",
     "output_type": "stream",
     "text": [
      "100%|██████████| 36/36 [00:08<00:00,  4.26it/s]\n",
      "100%|██████████| 9/9 [00:01<00:00,  8.16it/s]\n",
      "100%|██████████| 36/36 [00:04<00:00,  8.41it/s]\n"
     ]
    },
    {
     "name": "stdout",
     "output_type": "stream",
     "text": [
      "epoch: 62, f1_val: 0.6798419247761481, f1_train: 0.9541123290979332\n"
     ]
    },
    {
     "name": "stderr",
     "output_type": "stream",
     "text": [
      "100%|██████████| 36/36 [00:08<00:00,  4.18it/s]\n",
      "100%|██████████| 9/9 [00:01<00:00,  7.92it/s]\n",
      "100%|██████████| 36/36 [00:04<00:00,  8.42it/s]\n"
     ]
    },
    {
     "name": "stdout",
     "output_type": "stream",
     "text": [
      "epoch: 63, f1_val: 0.6959347093889654, f1_train: 0.9626654734785663\n"
     ]
    },
    {
     "name": "stderr",
     "output_type": "stream",
     "text": [
      "100%|██████████| 36/36 [00:08<00:00,  4.22it/s]\n",
      "100%|██████████| 9/9 [00:01<00:00,  8.11it/s]\n",
      "100%|██████████| 36/36 [00:04<00:00,  8.35it/s]\n"
     ]
    },
    {
     "name": "stdout",
     "output_type": "stream",
     "text": [
      "epoch: 64, f1_val: 0.7038548994639147, f1_train: 0.9676421573906755\n"
     ]
    },
    {
     "name": "stderr",
     "output_type": "stream",
     "text": [
      "100%|██████████| 36/36 [00:08<00:00,  4.20it/s]\n",
      "100%|██████████| 9/9 [00:01<00:00,  8.19it/s]\n",
      "100%|██████████| 36/36 [00:04<00:00,  8.46it/s]\n"
     ]
    },
    {
     "name": "stdout",
     "output_type": "stream",
     "text": [
      "epoch: 65, f1_val: 0.6928358278591129, f1_train: 0.9506015963034117\n"
     ]
    },
    {
     "name": "stderr",
     "output_type": "stream",
     "text": [
      "100%|██████████| 36/36 [00:08<00:00,  4.28it/s]\n",
      "100%|██████████| 9/9 [00:01<00:00,  7.89it/s]\n",
      "100%|██████████| 36/36 [00:04<00:00,  8.32it/s]\n"
     ]
    },
    {
     "name": "stdout",
     "output_type": "stream",
     "text": [
      "epoch: 66, f1_val: 0.7103062542414924, f1_train: 0.968123541404876\n"
     ]
    },
    {
     "name": "stderr",
     "output_type": "stream",
     "text": [
      "100%|██████████| 36/36 [00:08<00:00,  4.27it/s]\n",
      "100%|██████████| 9/9 [00:01<00:00,  8.08it/s]\n",
      "100%|██████████| 36/36 [00:04<00:00,  8.39it/s]\n"
     ]
    },
    {
     "name": "stdout",
     "output_type": "stream",
     "text": [
      "epoch: 67, f1_val: 0.7107341191524975, f1_train: 0.9641305557704879\n"
     ]
    },
    {
     "name": "stderr",
     "output_type": "stream",
     "text": [
      "100%|██████████| 36/36 [00:08<00:00,  4.24it/s]\n",
      "100%|██████████| 9/9 [00:01<00:00,  8.10it/s]\n",
      "100%|██████████| 36/36 [00:04<00:00,  8.42it/s]\n"
     ]
    },
    {
     "name": "stdout",
     "output_type": "stream",
     "text": [
      "epoch: 68, f1_val: 0.7014848177674375, f1_train: 0.9683280655467575\n"
     ]
    },
    {
     "name": "stderr",
     "output_type": "stream",
     "text": [
      "100%|██████████| 36/36 [00:08<00:00,  4.28it/s]\n",
      "100%|██████████| 9/9 [00:01<00:00,  8.08it/s]\n",
      "100%|██████████| 36/36 [00:04<00:00,  8.43it/s]\n"
     ]
    },
    {
     "name": "stdout",
     "output_type": "stream",
     "text": [
      "epoch: 69, f1_val: 0.7014115666112377, f1_train: 0.9663632638860137\n"
     ]
    },
    {
     "name": "stderr",
     "output_type": "stream",
     "text": [
      "100%|██████████| 36/36 [00:08<00:00,  4.26it/s]\n",
      "100%|██████████| 9/9 [00:01<00:00,  6.29it/s]\n",
      "100%|██████████| 36/36 [00:05<00:00,  6.34it/s]\n"
     ]
    },
    {
     "name": "stdout",
     "output_type": "stream",
     "text": [
      "epoch: 70, f1_val: 0.710744892440203, f1_train: 0.9669259633097231\n"
     ]
    },
    {
     "name": "stderr",
     "output_type": "stream",
     "text": [
      "100%|██████████| 36/36 [00:08<00:00,  4.27it/s]\n",
      "100%|██████████| 9/9 [00:01<00:00,  6.06it/s]\n",
      "100%|██████████| 36/36 [00:05<00:00,  6.25it/s]\n"
     ]
    },
    {
     "name": "stdout",
     "output_type": "stream",
     "text": [
      "epoch: 71, f1_val: 0.702622116556657, f1_train: 0.9691538812190661\n"
     ]
    },
    {
     "name": "stderr",
     "output_type": "stream",
     "text": [
      "100%|██████████| 36/36 [00:08<00:00,  4.18it/s]\n",
      "100%|██████████| 9/9 [00:01<00:00,  6.20it/s]\n",
      "100%|██████████| 36/36 [00:06<00:00,  5.82it/s]\n"
     ]
    },
    {
     "name": "stdout",
     "output_type": "stream",
     "text": [
      "epoch: 72, f1_val: 0.705453364677293, f1_train: 0.9678797086382719\n"
     ]
    },
    {
     "name": "stderr",
     "output_type": "stream",
     "text": [
      "100%|██████████| 36/36 [00:08<00:00,  4.20it/s]\n",
      "100%|██████████| 9/9 [00:01<00:00,  8.07it/s]\n",
      "100%|██████████| 36/36 [00:04<00:00,  8.34it/s]\n"
     ]
    },
    {
     "name": "stdout",
     "output_type": "stream",
     "text": [
      "epoch: 73, f1_val: 0.7010442818564451, f1_train: 0.9656385295355874\n"
     ]
    },
    {
     "name": "stderr",
     "output_type": "stream",
     "text": [
      "100%|██████████| 36/36 [00:08<00:00,  4.31it/s]\n",
      "100%|██████████| 9/9 [00:01<00:00,  8.23it/s]\n",
      "100%|██████████| 36/36 [00:04<00:00,  8.51it/s]\n"
     ]
    },
    {
     "name": "stdout",
     "output_type": "stream",
     "text": [
      "epoch: 74, f1_val: 0.7048587226370508, f1_train: 0.9663011273510624\n"
     ]
    },
    {
     "name": "stderr",
     "output_type": "stream",
     "text": [
      "100%|██████████| 36/36 [00:08<00:00,  4.31it/s]\n",
      "100%|██████████| 9/9 [00:01<00:00,  8.21it/s]\n",
      "100%|██████████| 36/36 [00:04<00:00,  8.47it/s]\n"
     ]
    },
    {
     "name": "stdout",
     "output_type": "stream",
     "text": [
      "epoch: 75, f1_val: 0.7122788168716051, f1_train: 0.9667617367323715\n"
     ]
    },
    {
     "name": "stderr",
     "output_type": "stream",
     "text": [
      "100%|██████████| 36/36 [00:08<00:00,  4.30it/s]\n",
      "100%|██████████| 9/9 [00:01<00:00,  8.21it/s]\n",
      "100%|██████████| 36/36 [00:04<00:00,  8.55it/s]\n"
     ]
    },
    {
     "name": "stdout",
     "output_type": "stream",
     "text": [
      "epoch: 76, f1_val: 0.7008038366353575, f1_train: 0.9682406964941289\n"
     ]
    },
    {
     "name": "stderr",
     "output_type": "stream",
     "text": [
      "100%|██████████| 36/36 [00:08<00:00,  4.31it/s]\n",
      "100%|██████████| 9/9 [00:01<00:00,  8.09it/s]\n",
      "100%|██████████| 36/36 [00:04<00:00,  8.16it/s]\n"
     ]
    },
    {
     "name": "stdout",
     "output_type": "stream",
     "text": [
      "epoch: 77, f1_val: 0.7232715671173495, f1_train: 0.9694873413894354\n"
     ]
    },
    {
     "name": "stderr",
     "output_type": "stream",
     "text": [
      "100%|██████████| 36/36 [00:08<00:00,  4.15it/s]\n",
      "100%|██████████| 9/9 [00:01<00:00,  5.57it/s]\n",
      "100%|██████████| 36/36 [00:04<00:00,  8.19it/s]\n"
     ]
    },
    {
     "name": "stdout",
     "output_type": "stream",
     "text": [
      "epoch: 78, f1_val: 0.7056637017415355, f1_train: 0.970356113629768\n"
     ]
    },
    {
     "name": "stderr",
     "output_type": "stream",
     "text": [
      "100%|██████████| 36/36 [00:08<00:00,  4.27it/s]\n",
      "100%|██████████| 9/9 [00:01<00:00,  8.20it/s]\n",
      "100%|██████████| 36/36 [00:04<00:00,  8.46it/s]\n"
     ]
    },
    {
     "name": "stdout",
     "output_type": "stream",
     "text": [
      "epoch: 79, f1_val: 0.7079434605923437, f1_train: 0.9710779972203817\n"
     ]
    },
    {
     "name": "stderr",
     "output_type": "stream",
     "text": [
      "100%|██████████| 36/36 [00:08<00:00,  4.18it/s]\n",
      "100%|██████████| 9/9 [00:01<00:00,  8.03it/s]\n",
      "100%|██████████| 36/36 [00:04<00:00,  8.31it/s]\n"
     ]
    },
    {
     "name": "stdout",
     "output_type": "stream",
     "text": [
      "epoch: 80, f1_val: 0.7133071379189295, f1_train: 0.9740939781295842\n"
     ]
    },
    {
     "name": "stderr",
     "output_type": "stream",
     "text": [
      "100%|██████████| 36/36 [00:08<00:00,  4.22it/s]\n",
      "100%|██████████| 9/9 [00:01<00:00,  8.12it/s]\n",
      "100%|██████████| 36/36 [00:04<00:00,  8.44it/s]\n"
     ]
    },
    {
     "name": "stdout",
     "output_type": "stream",
     "text": [
      "epoch: 81, f1_val: 0.7096840775579478, f1_train: 0.9722783981497888\n"
     ]
    },
    {
     "name": "stderr",
     "output_type": "stream",
     "text": [
      "100%|██████████| 36/36 [00:08<00:00,  4.30it/s]\n",
      "100%|██████████| 9/9 [00:01<00:00,  8.14it/s]\n",
      "100%|██████████| 36/36 [00:04<00:00,  8.45it/s]\n"
     ]
    },
    {
     "name": "stdout",
     "output_type": "stream",
     "text": [
      "epoch: 82, f1_val: 0.7092962247103757, f1_train: 0.9727395765716024\n"
     ]
    },
    {
     "name": "stderr",
     "output_type": "stream",
     "text": [
      "100%|██████████| 36/36 [00:08<00:00,  4.22it/s]\n",
      "100%|██████████| 9/9 [00:01<00:00,  7.97it/s]\n",
      "100%|██████████| 36/36 [00:04<00:00,  8.32it/s]\n"
     ]
    },
    {
     "name": "stdout",
     "output_type": "stream",
     "text": [
      "epoch: 83, f1_val: 0.7029311544673091, f1_train: 0.9677302897709755\n"
     ]
    },
    {
     "name": "stderr",
     "output_type": "stream",
     "text": [
      "100%|██████████| 36/36 [00:08<00:00,  4.26it/s]\n",
      "100%|██████████| 9/9 [00:01<00:00,  7.97it/s]\n",
      "100%|██████████| 36/36 [00:04<00:00,  8.31it/s]\n"
     ]
    },
    {
     "name": "stdout",
     "output_type": "stream",
     "text": [
      "epoch: 84, f1_val: 0.7130939661093558, f1_train: 0.9698058998865084\n"
     ]
    },
    {
     "name": "stderr",
     "output_type": "stream",
     "text": [
      "100%|██████████| 36/36 [00:08<00:00,  4.28it/s]\n",
      "100%|██████████| 9/9 [00:01<00:00,  7.97it/s]\n",
      "100%|██████████| 36/36 [00:04<00:00,  8.37it/s]\n"
     ]
    },
    {
     "name": "stdout",
     "output_type": "stream",
     "text": [
      "epoch: 85, f1_val: 0.7086458217510067, f1_train: 0.9727756589934697\n"
     ]
    },
    {
     "name": "stderr",
     "output_type": "stream",
     "text": [
      "100%|██████████| 36/36 [00:08<00:00,  4.28it/s]\n",
      "100%|██████████| 9/9 [00:01<00:00,  6.15it/s]\n",
      "100%|██████████| 36/36 [00:05<00:00,  6.36it/s]\n"
     ]
    },
    {
     "name": "stdout",
     "output_type": "stream",
     "text": [
      "epoch: 86, f1_val: 0.7068095903780248, f1_train: 0.9718550865639819\n"
     ]
    },
    {
     "name": "stderr",
     "output_type": "stream",
     "text": [
      "100%|██████████| 36/36 [00:08<00:00,  4.27it/s]\n",
      "100%|██████████| 9/9 [00:01<00:00,  6.24it/s]\n",
      "100%|██████████| 36/36 [00:05<00:00,  6.30it/s]\n"
     ]
    },
    {
     "name": "stdout",
     "output_type": "stream",
     "text": [
      "epoch: 87, f1_val: 0.7045398814748505, f1_train: 0.9732020654180459\n"
     ]
    },
    {
     "name": "stderr",
     "output_type": "stream",
     "text": [
      "100%|██████████| 36/36 [00:08<00:00,  4.19it/s]\n",
      "100%|██████████| 9/9 [00:01<00:00,  8.00it/s]\n",
      "100%|██████████| 36/36 [00:04<00:00,  8.28it/s]\n"
     ]
    },
    {
     "name": "stdout",
     "output_type": "stream",
     "text": [
      "epoch: 88, f1_val: 0.7252712332322001, f1_train: 0.9726239730431472\n"
     ]
    },
    {
     "name": "stderr",
     "output_type": "stream",
     "text": [
      "100%|██████████| 36/36 [00:08<00:00,  4.22it/s]\n",
      "100%|██████████| 9/9 [00:01<00:00,  8.15it/s]\n",
      "100%|██████████| 36/36 [00:04<00:00,  8.40it/s]\n"
     ]
    },
    {
     "name": "stdout",
     "output_type": "stream",
     "text": [
      "epoch: 89, f1_val: 0.7094418043143738, f1_train: 0.9671367254454606\n"
     ]
    },
    {
     "name": "stderr",
     "output_type": "stream",
     "text": [
      "100%|██████████| 36/36 [00:08<00:00,  4.28it/s]\n",
      "100%|██████████| 9/9 [00:01<00:00,  6.52it/s]\n",
      "100%|██████████| 36/36 [00:05<00:00,  6.31it/s]\n"
     ]
    },
    {
     "name": "stdout",
     "output_type": "stream",
     "text": [
      "epoch: 90, f1_val: 0.7019842021113701, f1_train: 0.9733481913067275\n"
     ]
    },
    {
     "name": "stderr",
     "output_type": "stream",
     "text": [
      "100%|██████████| 36/36 [00:08<00:00,  4.26it/s]\n",
      "100%|██████████| 9/9 [00:01<00:00,  6.24it/s]\n",
      "100%|██████████| 36/36 [00:05<00:00,  6.32it/s]\n"
     ]
    },
    {
     "name": "stdout",
     "output_type": "stream",
     "text": [
      "epoch: 91, f1_val: 0.7061819617143382, f1_train: 0.9699874330691677\n"
     ]
    },
    {
     "name": "stderr",
     "output_type": "stream",
     "text": [
      "100%|██████████| 36/36 [00:08<00:00,  4.26it/s]\n",
      "100%|██████████| 9/9 [00:01<00:00,  6.14it/s]\n",
      "100%|██████████| 36/36 [00:05<00:00,  6.26it/s]\n"
     ]
    },
    {
     "name": "stdout",
     "output_type": "stream",
     "text": [
      "epoch: 92, f1_val: 0.6986196870262589, f1_train: 0.970267838941234\n"
     ]
    },
    {
     "name": "stderr",
     "output_type": "stream",
     "text": [
      "100%|██████████| 36/36 [00:08<00:00,  4.19it/s]\n",
      "100%|██████████| 9/9 [00:01<00:00,  6.05it/s]\n",
      "100%|██████████| 36/36 [00:06<00:00,  5.92it/s]\n"
     ]
    },
    {
     "name": "stdout",
     "output_type": "stream",
     "text": [
      "epoch: 93, f1_val: 0.7020279580239759, f1_train: 0.9721680979972587\n"
     ]
    },
    {
     "name": "stderr",
     "output_type": "stream",
     "text": [
      "100%|██████████| 36/36 [00:08<00:00,  4.18it/s]\n",
      "100%|██████████| 9/9 [00:01<00:00,  5.67it/s]\n",
      "100%|██████████| 36/36 [00:04<00:00,  7.44it/s]\n"
     ]
    },
    {
     "name": "stdout",
     "output_type": "stream",
     "text": [
      "epoch: 94, f1_val: 0.71063760993438, f1_train: 0.9687499073603139\n"
     ]
    },
    {
     "name": "stderr",
     "output_type": "stream",
     "text": [
      "100%|██████████| 36/36 [00:08<00:00,  4.31it/s]\n",
      "100%|██████████| 9/9 [00:01<00:00,  8.23it/s]\n",
      "100%|██████████| 36/36 [00:04<00:00,  8.44it/s]\n"
     ]
    },
    {
     "name": "stdout",
     "output_type": "stream",
     "text": [
      "epoch: 95, f1_val: 0.7169245717859005, f1_train: 0.967269168791246\n"
     ]
    },
    {
     "name": "stderr",
     "output_type": "stream",
     "text": [
      "100%|██████████| 36/36 [00:08<00:00,  4.27it/s]\n",
      "100%|██████████| 9/9 [00:01<00:00,  8.23it/s]\n",
      "100%|██████████| 36/36 [00:04<00:00,  8.57it/s]\n"
     ]
    },
    {
     "name": "stdout",
     "output_type": "stream",
     "text": [
      "epoch: 96, f1_val: 0.695685397606275, f1_train: 0.9691958491506116\n"
     ]
    },
    {
     "name": "stderr",
     "output_type": "stream",
     "text": [
      "100%|██████████| 36/36 [00:08<00:00,  4.32it/s]\n",
      "100%|██████████| 9/9 [00:01<00:00,  8.27it/s]\n",
      "100%|██████████| 36/36 [00:04<00:00,  8.24it/s]\n"
     ]
    },
    {
     "name": "stdout",
     "output_type": "stream",
     "text": [
      "epoch: 97, f1_val: 0.6965749103183808, f1_train: 0.9691266825359172\n"
     ]
    },
    {
     "name": "stderr",
     "output_type": "stream",
     "text": [
      "100%|██████████| 36/36 [00:08<00:00,  4.20it/s]\n",
      "100%|██████████| 9/9 [00:01<00:00,  6.11it/s]\n",
      "100%|██████████| 36/36 [00:06<00:00,  5.95it/s]\n"
     ]
    },
    {
     "name": "stdout",
     "output_type": "stream",
     "text": [
      "epoch: 98, f1_val: 0.7018222544432218, f1_train: 0.9720602448880056\n"
     ]
    },
    {
     "name": "stderr",
     "output_type": "stream",
     "text": [
      "100%|██████████| 36/36 [00:08<00:00,  4.22it/s]\n",
      "100%|██████████| 9/9 [00:01<00:00,  6.20it/s]\n",
      "100%|██████████| 36/36 [00:05<00:00,  6.28it/s]\n",
      "C:\\ProgramData\\Anaconda3\\envs\\nlp-env\\lib\\site-packages\\torchaudio\\functional\\functional.py:584: UserWarning: At least one mel filterbank has all zero values. The value for `n_mels` (128) may be set too high. Or, the value for `n_freqs` (201) may be set too low.\n",
      "  warnings.warn(\n"
     ]
    },
    {
     "name": "stdout",
     "output_type": "stream",
     "text": [
      "epoch: 99, f1_val: 0.7169312679330727, f1_train: 0.9739072166409138\n",
      "Best F1 on validation: 0.7287889393897088\n",
      "Loaded pretrained weights for efficientnet-b0\n"
     ]
    },
    {
     "name": "stderr",
     "output_type": "stream",
     "text": [
      "100%|██████████| 36/36 [00:08<00:00,  4.10it/s]\n",
      "100%|██████████| 9/9 [00:01<00:00,  6.10it/s]\n",
      "100%|██████████| 36/36 [00:05<00:00,  6.17it/s]\n"
     ]
    },
    {
     "name": "stdout",
     "output_type": "stream",
     "text": [
      "epoch: 0, f1_val: 0.05432888665662133, f1_train: 0.060214665884650354\n"
     ]
    },
    {
     "name": "stderr",
     "output_type": "stream",
     "text": [
      "100%|██████████| 36/36 [00:08<00:00,  4.23it/s]\n",
      "100%|██████████| 9/9 [00:01<00:00,  6.35it/s]\n",
      "100%|██████████| 36/36 [00:05<00:00,  6.27it/s]\n"
     ]
    },
    {
     "name": "stdout",
     "output_type": "stream",
     "text": [
      "epoch: 1, f1_val: 0.14537360232135502, f1_train: 0.1637912698477405\n"
     ]
    },
    {
     "name": "stderr",
     "output_type": "stream",
     "text": [
      "100%|██████████| 36/36 [00:08<00:00,  4.25it/s]\n",
      "100%|██████████| 9/9 [00:01<00:00,  6.25it/s]\n",
      "100%|██████████| 36/36 [00:05<00:00,  6.20it/s]\n"
     ]
    },
    {
     "name": "stdout",
     "output_type": "stream",
     "text": [
      "epoch: 2, f1_val: 0.22448192912219753, f1_train: 0.2705771280308408\n"
     ]
    },
    {
     "name": "stderr",
     "output_type": "stream",
     "text": [
      "100%|██████████| 36/36 [00:08<00:00,  4.26it/s]\n",
      "100%|██████████| 9/9 [00:01<00:00,  6.44it/s]\n",
      "100%|██████████| 36/36 [00:05<00:00,  6.28it/s]\n"
     ]
    },
    {
     "name": "stdout",
     "output_type": "stream",
     "text": [
      "epoch: 3, f1_val: 0.26499570996914923, f1_train: 0.32857399838066687\n"
     ]
    },
    {
     "name": "stderr",
     "output_type": "stream",
     "text": [
      "100%|██████████| 36/36 [00:08<00:00,  4.25it/s]\n",
      "100%|██████████| 9/9 [00:01<00:00,  6.33it/s]\n",
      "100%|██████████| 36/36 [00:05<00:00,  6.38it/s]\n"
     ]
    },
    {
     "name": "stdout",
     "output_type": "stream",
     "text": [
      "epoch: 4, f1_val: 0.357446385262719, f1_train: 0.4481442765494069\n"
     ]
    },
    {
     "name": "stderr",
     "output_type": "stream",
     "text": [
      "100%|██████████| 36/36 [00:08<00:00,  4.27it/s]\n",
      "100%|██████████| 9/9 [00:01<00:00,  6.24it/s]\n",
      "100%|██████████| 36/36 [00:05<00:00,  6.19it/s]\n"
     ]
    },
    {
     "name": "stdout",
     "output_type": "stream",
     "text": [
      "epoch: 5, f1_val: 0.3240929444186969, f1_train: 0.42168048982879514\n"
     ]
    },
    {
     "name": "stderr",
     "output_type": "stream",
     "text": [
      "100%|██████████| 36/36 [00:08<00:00,  4.23it/s]\n",
      "100%|██████████| 9/9 [00:01<00:00,  8.42it/s]\n",
      "100%|██████████| 36/36 [00:04<00:00,  8.47it/s]\n"
     ]
    },
    {
     "name": "stdout",
     "output_type": "stream",
     "text": [
      "epoch: 6, f1_val: 0.3756743029775282, f1_train: 0.456965832913649\n"
     ]
    },
    {
     "name": "stderr",
     "output_type": "stream",
     "text": [
      "100%|██████████| 36/36 [00:08<00:00,  4.21it/s]\n",
      "100%|██████████| 9/9 [00:01<00:00,  8.32it/s]\n",
      "100%|██████████| 36/36 [00:04<00:00,  8.40it/s]\n"
     ]
    },
    {
     "name": "stdout",
     "output_type": "stream",
     "text": [
      "epoch: 7, f1_val: 0.44674119596686723, f1_train: 0.5784662729997161\n"
     ]
    },
    {
     "name": "stderr",
     "output_type": "stream",
     "text": [
      "100%|██████████| 36/36 [00:08<00:00,  4.30it/s]\n",
      "100%|██████████| 9/9 [00:01<00:00,  8.28it/s]\n",
      "100%|██████████| 36/36 [00:04<00:00,  8.40it/s]\n"
     ]
    },
    {
     "name": "stdout",
     "output_type": "stream",
     "text": [
      "epoch: 8, f1_val: 0.4376165047012998, f1_train: 0.5867186974437053\n"
     ]
    },
    {
     "name": "stderr",
     "output_type": "stream",
     "text": [
      "100%|██████████| 36/36 [00:08<00:00,  4.19it/s]\n",
      "100%|██████████| 9/9 [00:01<00:00,  7.91it/s]\n",
      "100%|██████████| 36/36 [00:04<00:00,  7.82it/s]\n"
     ]
    },
    {
     "name": "stdout",
     "output_type": "stream",
     "text": [
      "epoch: 9, f1_val: 0.5049101751232642, f1_train: 0.6964025861154666\n"
     ]
    },
    {
     "name": "stderr",
     "output_type": "stream",
     "text": [
      "100%|██████████| 36/36 [00:08<00:00,  4.04it/s]\n",
      "100%|██████████| 9/9 [00:01<00:00,  8.00it/s]\n",
      "100%|██████████| 36/36 [00:04<00:00,  8.25it/s]\n"
     ]
    },
    {
     "name": "stdout",
     "output_type": "stream",
     "text": [
      "epoch: 10, f1_val: 0.4923353525675342, f1_train: 0.6944832908356604\n"
     ]
    },
    {
     "name": "stderr",
     "output_type": "stream",
     "text": [
      "100%|██████████| 36/36 [00:08<00:00,  4.03it/s]\n",
      "100%|██████████| 9/9 [00:01<00:00,  7.90it/s]\n",
      "100%|██████████| 36/36 [00:04<00:00,  8.00it/s]\n"
     ]
    },
    {
     "name": "stdout",
     "output_type": "stream",
     "text": [
      "epoch: 11, f1_val: 0.48351616485003607, f1_train: 0.6669664526340857\n"
     ]
    },
    {
     "name": "stderr",
     "output_type": "stream",
     "text": [
      "100%|██████████| 36/36 [00:09<00:00,  3.96it/s]\n",
      "100%|██████████| 9/9 [00:01<00:00,  7.65it/s]\n",
      "100%|██████████| 36/36 [00:04<00:00,  8.13it/s]\n"
     ]
    },
    {
     "name": "stdout",
     "output_type": "stream",
     "text": [
      "epoch: 12, f1_val: 0.5383674728728906, f1_train: 0.7369874817914628\n"
     ]
    },
    {
     "name": "stderr",
     "output_type": "stream",
     "text": [
      "100%|██████████| 36/36 [00:08<00:00,  4.26it/s]\n",
      "100%|██████████| 9/9 [00:01<00:00,  8.28it/s]\n",
      "100%|██████████| 36/36 [00:04<00:00,  8.39it/s]\n"
     ]
    },
    {
     "name": "stdout",
     "output_type": "stream",
     "text": [
      "epoch: 13, f1_val: 0.48246183890437805, f1_train: 0.6748079127378936\n"
     ]
    },
    {
     "name": "stderr",
     "output_type": "stream",
     "text": [
      "100%|██████████| 36/36 [00:08<00:00,  4.31it/s]\n",
      "100%|██████████| 9/9 [00:01<00:00,  8.31it/s]\n",
      "100%|██████████| 36/36 [00:04<00:00,  8.34it/s]\n"
     ]
    },
    {
     "name": "stdout",
     "output_type": "stream",
     "text": [
      "epoch: 14, f1_val: 0.44462632495645504, f1_train: 0.635534865008013\n"
     ]
    },
    {
     "name": "stderr",
     "output_type": "stream",
     "text": [
      "100%|██████████| 36/36 [00:08<00:00,  4.28it/s]\n",
      "100%|██████████| 9/9 [00:01<00:00,  8.37it/s]\n",
      "100%|██████████| 36/36 [00:04<00:00,  8.40it/s]\n"
     ]
    },
    {
     "name": "stdout",
     "output_type": "stream",
     "text": [
      "epoch: 15, f1_val: 0.5167066577001855, f1_train: 0.6919384752198114\n"
     ]
    },
    {
     "name": "stderr",
     "output_type": "stream",
     "text": [
      "100%|██████████| 36/36 [00:08<00:00,  4.29it/s]\n",
      "100%|██████████| 9/9 [00:01<00:00,  8.29it/s]\n",
      "100%|██████████| 36/36 [00:04<00:00,  8.34it/s]\n"
     ]
    },
    {
     "name": "stdout",
     "output_type": "stream",
     "text": [
      "epoch: 16, f1_val: 0.5454879407892934, f1_train: 0.7295916670541759\n"
     ]
    },
    {
     "name": "stderr",
     "output_type": "stream",
     "text": [
      "100%|██████████| 36/36 [00:08<00:00,  4.20it/s]\n",
      "100%|██████████| 9/9 [00:01<00:00,  6.24it/s]\n",
      "100%|██████████| 36/36 [00:05<00:00,  6.28it/s]\n"
     ]
    },
    {
     "name": "stdout",
     "output_type": "stream",
     "text": [
      "epoch: 17, f1_val: 0.42600806194488045, f1_train: 0.6080514367035948\n"
     ]
    },
    {
     "name": "stderr",
     "output_type": "stream",
     "text": [
      "100%|██████████| 36/36 [00:08<00:00,  4.24it/s]\n",
      "100%|██████████| 9/9 [00:01<00:00,  6.24it/s]\n",
      "100%|██████████| 36/36 [00:05<00:00,  6.27it/s]\n"
     ]
    },
    {
     "name": "stdout",
     "output_type": "stream",
     "text": [
      "epoch: 18, f1_val: 0.5189687267020677, f1_train: 0.7013996128357792\n"
     ]
    },
    {
     "name": "stderr",
     "output_type": "stream",
     "text": [
      "100%|██████████| 36/36 [00:08<00:00,  4.24it/s]\n",
      "100%|██████████| 9/9 [00:01<00:00,  6.06it/s]\n",
      "100%|██████████| 36/36 [00:04<00:00,  7.64it/s]\n"
     ]
    },
    {
     "name": "stdout",
     "output_type": "stream",
     "text": [
      "epoch: 19, f1_val: 0.4519310755539869, f1_train: 0.6359500811304206\n"
     ]
    },
    {
     "name": "stderr",
     "output_type": "stream",
     "text": [
      "100%|██████████| 36/36 [00:08<00:00,  4.20it/s]\n",
      "100%|██████████| 9/9 [00:01<00:00,  6.21it/s]\n",
      "100%|██████████| 36/36 [00:05<00:00,  6.18it/s]\n"
     ]
    },
    {
     "name": "stdout",
     "output_type": "stream",
     "text": [
      "epoch: 20, f1_val: 0.5354633006475357, f1_train: 0.7153406205567073\n"
     ]
    },
    {
     "name": "stderr",
     "output_type": "stream",
     "text": [
      "100%|██████████| 36/36 [00:08<00:00,  4.26it/s]\n",
      "100%|██████████| 9/9 [00:01<00:00,  6.28it/s]\n",
      "100%|██████████| 36/36 [00:05<00:00,  6.27it/s]\n"
     ]
    },
    {
     "name": "stdout",
     "output_type": "stream",
     "text": [
      "epoch: 21, f1_val: 0.5534893713966407, f1_train: 0.737306094544231\n"
     ]
    },
    {
     "name": "stderr",
     "output_type": "stream",
     "text": [
      "100%|██████████| 36/36 [00:08<00:00,  4.27it/s]\n",
      "100%|██████████| 9/9 [00:01<00:00,  5.98it/s]\n",
      "100%|██████████| 36/36 [00:05<00:00,  6.23it/s]\n"
     ]
    },
    {
     "name": "stdout",
     "output_type": "stream",
     "text": [
      "epoch: 22, f1_val: 0.5980278719259773, f1_train: 0.817132806597465\n"
     ]
    },
    {
     "name": "stderr",
     "output_type": "stream",
     "text": [
      "100%|██████████| 36/36 [00:08<00:00,  4.25it/s]\n",
      "100%|██████████| 9/9 [00:01<00:00,  6.28it/s]\n",
      "100%|██████████| 36/36 [00:05<00:00,  6.21it/s]\n"
     ]
    },
    {
     "name": "stdout",
     "output_type": "stream",
     "text": [
      "epoch: 23, f1_val: 0.5976423554076395, f1_train: 0.8136658680596778\n"
     ]
    },
    {
     "name": "stderr",
     "output_type": "stream",
     "text": [
      "100%|██████████| 36/36 [00:08<00:00,  4.26it/s]\n",
      "100%|██████████| 9/9 [00:01<00:00,  6.16it/s]\n",
      "100%|██████████| 36/36 [00:05<00:00,  6.27it/s]\n"
     ]
    },
    {
     "name": "stdout",
     "output_type": "stream",
     "text": [
      "epoch: 24, f1_val: 0.6024704700357402, f1_train: 0.8408168181386625\n"
     ]
    },
    {
     "name": "stderr",
     "output_type": "stream",
     "text": [
      "100%|██████████| 36/36 [00:08<00:00,  4.27it/s]\n",
      "100%|██████████| 9/9 [00:01<00:00,  6.26it/s]\n",
      "100%|██████████| 36/36 [00:05<00:00,  6.24it/s]\n"
     ]
    },
    {
     "name": "stdout",
     "output_type": "stream",
     "text": [
      "epoch: 25, f1_val: 0.6141680467585768, f1_train: 0.8368585883800611\n"
     ]
    },
    {
     "name": "stderr",
     "output_type": "stream",
     "text": [
      "100%|██████████| 36/36 [00:08<00:00,  4.26it/s]\n",
      "100%|██████████| 9/9 [00:01<00:00,  6.36it/s]\n",
      "100%|██████████| 36/36 [00:05<00:00,  6.18it/s]\n"
     ]
    },
    {
     "name": "stdout",
     "output_type": "stream",
     "text": [
      "epoch: 26, f1_val: 0.5862443549433747, f1_train: 0.8385637083684324\n"
     ]
    },
    {
     "name": "stderr",
     "output_type": "stream",
     "text": [
      "100%|██████████| 36/36 [00:08<00:00,  4.25it/s]\n",
      "100%|██████████| 9/9 [00:01<00:00,  6.08it/s]\n",
      "100%|██████████| 36/36 [00:05<00:00,  6.18it/s]\n"
     ]
    },
    {
     "name": "stdout",
     "output_type": "stream",
     "text": [
      "epoch: 27, f1_val: 0.6164752979401626, f1_train: 0.8583921418065212\n"
     ]
    },
    {
     "name": "stderr",
     "output_type": "stream",
     "text": [
      "100%|██████████| 36/36 [00:08<00:00,  4.27it/s]\n",
      "100%|██████████| 9/9 [00:01<00:00,  6.24it/s]\n",
      "100%|██████████| 36/36 [00:05<00:00,  6.23it/s]\n"
     ]
    },
    {
     "name": "stdout",
     "output_type": "stream",
     "text": [
      "epoch: 28, f1_val: 0.6196305767311588, f1_train: 0.8568333162731343\n"
     ]
    },
    {
     "name": "stderr",
     "output_type": "stream",
     "text": [
      "100%|██████████| 36/36 [00:08<00:00,  4.26it/s]\n",
      "100%|██████████| 9/9 [00:01<00:00,  6.26it/s]\n",
      "100%|██████████| 36/36 [00:05<00:00,  6.22it/s]\n"
     ]
    },
    {
     "name": "stdout",
     "output_type": "stream",
     "text": [
      "epoch: 29, f1_val: 0.5993183791293158, f1_train: 0.8113980582942595\n"
     ]
    },
    {
     "name": "stderr",
     "output_type": "stream",
     "text": [
      "100%|██████████| 36/36 [00:08<00:00,  4.24it/s]\n",
      "100%|██████████| 9/9 [00:01<00:00,  6.29it/s]\n",
      "100%|██████████| 36/36 [00:05<00:00,  6.26it/s]\n"
     ]
    },
    {
     "name": "stdout",
     "output_type": "stream",
     "text": [
      "epoch: 30, f1_val: 0.5581249728380124, f1_train: 0.7831625073909989\n"
     ]
    },
    {
     "name": "stderr",
     "output_type": "stream",
     "text": [
      "100%|██████████| 36/36 [00:08<00:00,  4.22it/s]\n",
      "100%|██████████| 9/9 [00:01<00:00,  6.16it/s]\n",
      "100%|██████████| 36/36 [00:05<00:00,  6.26it/s]\n"
     ]
    },
    {
     "name": "stdout",
     "output_type": "stream",
     "text": [
      "epoch: 31, f1_val: 0.6067828865263873, f1_train: 0.8374402983002754\n"
     ]
    },
    {
     "name": "stderr",
     "output_type": "stream",
     "text": [
      "100%|██████████| 36/36 [00:08<00:00,  4.23it/s]\n",
      "100%|██████████| 9/9 [00:01<00:00,  6.15it/s]\n",
      "100%|██████████| 36/36 [00:05<00:00,  6.28it/s]\n"
     ]
    },
    {
     "name": "stdout",
     "output_type": "stream",
     "text": [
      "epoch: 32, f1_val: 0.6058661551107887, f1_train: 0.8584126924182445\n"
     ]
    },
    {
     "name": "stderr",
     "output_type": "stream",
     "text": [
      "100%|██████████| 36/36 [00:08<00:00,  4.25it/s]\n",
      "100%|██████████| 9/9 [00:01<00:00,  8.32it/s]\n",
      "100%|██████████| 36/36 [00:04<00:00,  8.33it/s]\n"
     ]
    },
    {
     "name": "stdout",
     "output_type": "stream",
     "text": [
      "epoch: 33, f1_val: 0.6632083138333618, f1_train: 0.8881949581919253\n"
     ]
    },
    {
     "name": "stderr",
     "output_type": "stream",
     "text": [
      "100%|██████████| 36/36 [00:08<00:00,  4.26it/s]\n",
      "100%|██████████| 9/9 [00:01<00:00,  6.28it/s]\n",
      "100%|██████████| 36/36 [00:05<00:00,  6.24it/s]\n"
     ]
    },
    {
     "name": "stdout",
     "output_type": "stream",
     "text": [
      "epoch: 34, f1_val: 0.6002544273498798, f1_train: 0.8369471269366573\n"
     ]
    },
    {
     "name": "stderr",
     "output_type": "stream",
     "text": [
      "100%|██████████| 36/36 [00:08<00:00,  4.25it/s]\n",
      "100%|██████████| 9/9 [00:01<00:00,  6.34it/s]\n",
      "100%|██████████| 36/36 [00:05<00:00,  6.32it/s]\n"
     ]
    },
    {
     "name": "stdout",
     "output_type": "stream",
     "text": [
      "epoch: 35, f1_val: 0.6549445706040612, f1_train: 0.8750146536696845\n"
     ]
    },
    {
     "name": "stderr",
     "output_type": "stream",
     "text": [
      "100%|██████████| 36/36 [00:08<00:00,  4.23it/s]\n",
      "100%|██████████| 9/9 [00:01<00:00,  6.14it/s]\n",
      "100%|██████████| 36/36 [00:05<00:00,  6.20it/s]\n"
     ]
    },
    {
     "name": "stdout",
     "output_type": "stream",
     "text": [
      "epoch: 36, f1_val: 0.6223370760012007, f1_train: 0.8355495243649117\n"
     ]
    },
    {
     "name": "stderr",
     "output_type": "stream",
     "text": [
      "100%|██████████| 36/36 [00:08<00:00,  4.21it/s]\n",
      "100%|██████████| 9/9 [00:01<00:00,  5.99it/s]\n",
      "100%|██████████| 36/36 [00:05<00:00,  6.18it/s]\n"
     ]
    },
    {
     "name": "stdout",
     "output_type": "stream",
     "text": [
      "epoch: 37, f1_val: 0.6324911586477637, f1_train: 0.847448944241189\n"
     ]
    },
    {
     "name": "stderr",
     "output_type": "stream",
     "text": [
      "100%|██████████| 36/36 [00:08<00:00,  4.27it/s]\n",
      "100%|██████████| 9/9 [00:01<00:00,  6.21it/s]\n",
      "100%|██████████| 36/36 [00:05<00:00,  6.26it/s]\n"
     ]
    },
    {
     "name": "stdout",
     "output_type": "stream",
     "text": [
      "epoch: 38, f1_val: 0.6025558070619118, f1_train: 0.8275044736286578\n"
     ]
    },
    {
     "name": "stderr",
     "output_type": "stream",
     "text": [
      "100%|██████████| 36/36 [00:08<00:00,  4.23it/s]\n",
      "100%|██████████| 9/9 [00:01<00:00,  6.28it/s]\n",
      "100%|██████████| 36/36 [00:05<00:00,  6.31it/s]\n"
     ]
    },
    {
     "name": "stdout",
     "output_type": "stream",
     "text": [
      "epoch: 39, f1_val: 0.6174731047813128, f1_train: 0.8438022237180716\n"
     ]
    },
    {
     "name": "stderr",
     "output_type": "stream",
     "text": [
      "100%|██████████| 36/36 [00:08<00:00,  4.26it/s]\n",
      "100%|██████████| 9/9 [00:01<00:00,  6.29it/s]\n",
      "100%|██████████| 36/36 [00:05<00:00,  6.18it/s]\n"
     ]
    },
    {
     "name": "stdout",
     "output_type": "stream",
     "text": [
      "epoch: 40, f1_val: 0.6331061600431112, f1_train: 0.8505975223557102\n"
     ]
    },
    {
     "name": "stderr",
     "output_type": "stream",
     "text": [
      "100%|██████████| 36/36 [00:08<00:00,  4.21it/s]\n",
      "100%|██████████| 9/9 [00:01<00:00,  6.10it/s]\n",
      "100%|██████████| 36/36 [00:05<00:00,  6.26it/s]\n"
     ]
    },
    {
     "name": "stdout",
     "output_type": "stream",
     "text": [
      "epoch: 41, f1_val: 0.6048651618434924, f1_train: 0.836575907546544\n"
     ]
    },
    {
     "name": "stderr",
     "output_type": "stream",
     "text": [
      "100%|██████████| 36/36 [00:08<00:00,  4.21it/s]\n",
      "100%|██████████| 9/9 [00:01<00:00,  5.86it/s]\n",
      "100%|██████████| 36/36 [00:04<00:00,  7.70it/s]\n"
     ]
    },
    {
     "name": "stdout",
     "output_type": "stream",
     "text": [
      "epoch: 42, f1_val: 0.5723210222507364, f1_train: 0.7984874596891074\n"
     ]
    },
    {
     "name": "stderr",
     "output_type": "stream",
     "text": [
      "100%|██████████| 36/36 [00:08<00:00,  4.30it/s]\n",
      "100%|██████████| 9/9 [00:01<00:00,  8.34it/s]\n",
      "100%|██████████| 36/36 [00:04<00:00,  8.43it/s]\n"
     ]
    },
    {
     "name": "stdout",
     "output_type": "stream",
     "text": [
      "epoch: 43, f1_val: 0.5743269127609287, f1_train: 0.8301301658584189\n"
     ]
    },
    {
     "name": "stderr",
     "output_type": "stream",
     "text": [
      "100%|██████████| 36/36 [00:08<00:00,  4.30it/s]\n",
      "100%|██████████| 9/9 [00:01<00:00,  8.31it/s]\n",
      "100%|██████████| 36/36 [00:04<00:00,  8.39it/s]\n"
     ]
    },
    {
     "name": "stdout",
     "output_type": "stream",
     "text": [
      "epoch: 44, f1_val: 0.5921733721575935, f1_train: 0.8401517128588033\n"
     ]
    },
    {
     "name": "stderr",
     "output_type": "stream",
     "text": [
      "100%|██████████| 36/36 [00:08<00:00,  4.28it/s]\n",
      "100%|██████████| 9/9 [00:01<00:00,  8.25it/s]\n",
      "100%|██████████| 36/36 [00:04<00:00,  8.38it/s]\n"
     ]
    },
    {
     "name": "stdout",
     "output_type": "stream",
     "text": [
      "epoch: 45, f1_val: 0.6214217022995392, f1_train: 0.8580262897995932\n"
     ]
    },
    {
     "name": "stderr",
     "output_type": "stream",
     "text": [
      "100%|██████████| 36/36 [00:08<00:00,  4.29it/s]\n",
      "100%|██████████| 9/9 [00:01<00:00,  8.40it/s]\n",
      "100%|██████████| 36/36 [00:04<00:00,  8.39it/s]\n"
     ]
    },
    {
     "name": "stdout",
     "output_type": "stream",
     "text": [
      "epoch: 46, f1_val: 0.6104033792409232, f1_train: 0.8602336187104809\n"
     ]
    },
    {
     "name": "stderr",
     "output_type": "stream",
     "text": [
      "100%|██████████| 36/36 [00:08<00:00,  4.30it/s]\n",
      "100%|██████████| 9/9 [00:01<00:00,  8.28it/s]\n",
      "100%|██████████| 36/36 [00:04<00:00,  8.41it/s]\n"
     ]
    },
    {
     "name": "stdout",
     "output_type": "stream",
     "text": [
      "epoch: 47, f1_val: 0.6358179905566457, f1_train: 0.8688705014501199\n"
     ]
    },
    {
     "name": "stderr",
     "output_type": "stream",
     "text": [
      "100%|██████████| 36/36 [00:08<00:00,  4.28it/s]\n",
      "100%|██████████| 9/9 [00:01<00:00,  8.17it/s]\n",
      "100%|██████████| 36/36 [00:04<00:00,  8.36it/s]\n"
     ]
    },
    {
     "name": "stdout",
     "output_type": "stream",
     "text": [
      "epoch: 48, f1_val: 0.6615785937599232, f1_train: 0.8841931293323609\n"
     ]
    },
    {
     "name": "stderr",
     "output_type": "stream",
     "text": [
      "100%|██████████| 36/36 [00:08<00:00,  4.28it/s]\n",
      "100%|██████████| 9/9 [00:01<00:00,  8.28it/s]\n",
      "100%|██████████| 36/36 [00:04<00:00,  8.38it/s]\n"
     ]
    },
    {
     "name": "stdout",
     "output_type": "stream",
     "text": [
      "epoch: 49, f1_val: 0.631880375413701, f1_train: 0.8825434761248442\n"
     ]
    },
    {
     "name": "stderr",
     "output_type": "stream",
     "text": [
      "100%|██████████| 36/36 [00:08<00:00,  4.25it/s]\n",
      "100%|██████████| 9/9 [00:01<00:00,  8.15it/s]\n",
      "100%|██████████| 36/36 [00:04<00:00,  8.30it/s]\n"
     ]
    },
    {
     "name": "stdout",
     "output_type": "stream",
     "text": [
      "epoch: 50, f1_val: 0.6241199751841986, f1_train: 0.8629413124805565\n"
     ]
    },
    {
     "name": "stderr",
     "output_type": "stream",
     "text": [
      "100%|██████████| 36/36 [00:08<00:00,  4.27it/s]\n",
      "100%|██████████| 9/9 [00:01<00:00,  8.22it/s]\n",
      "100%|██████████| 36/36 [00:05<00:00,  6.70it/s]\n"
     ]
    },
    {
     "name": "stdout",
     "output_type": "stream",
     "text": [
      "epoch: 51, f1_val: 0.6228774287989631, f1_train: 0.8383619181338764\n"
     ]
    },
    {
     "name": "stderr",
     "output_type": "stream",
     "text": [
      "100%|██████████| 36/36 [00:08<00:00,  4.26it/s]\n",
      "100%|██████████| 9/9 [00:01<00:00,  6.29it/s]\n",
      "100%|██████████| 36/36 [00:05<00:00,  6.27it/s]\n"
     ]
    },
    {
     "name": "stdout",
     "output_type": "stream",
     "text": [
      "epoch: 52, f1_val: 0.6302060594336808, f1_train: 0.854063921941364\n"
     ]
    },
    {
     "name": "stderr",
     "output_type": "stream",
     "text": [
      "100%|██████████| 36/36 [00:08<00:00,  4.26it/s]\n",
      "100%|██████████| 9/9 [00:01<00:00,  6.21it/s]\n",
      "100%|██████████| 36/36 [00:05<00:00,  6.27it/s]\n"
     ]
    },
    {
     "name": "stdout",
     "output_type": "stream",
     "text": [
      "epoch: 53, f1_val: 0.642433386777724, f1_train: 0.8808399369648185\n"
     ]
    },
    {
     "name": "stderr",
     "output_type": "stream",
     "text": [
      "100%|██████████| 36/36 [00:08<00:00,  4.26it/s]\n",
      "100%|██████████| 9/9 [00:01<00:00,  5.88it/s]\n",
      "100%|██████████| 36/36 [00:05<00:00,  6.31it/s]\n"
     ]
    },
    {
     "name": "stdout",
     "output_type": "stream",
     "text": [
      "epoch: 54, f1_val: 0.6455879984196119, f1_train: 0.8953459760449233\n"
     ]
    },
    {
     "name": "stderr",
     "output_type": "stream",
     "text": [
      "100%|██████████| 36/36 [00:08<00:00,  4.26it/s]\n",
      "100%|██████████| 9/9 [00:01<00:00,  6.23it/s]\n",
      "100%|██████████| 36/36 [00:05<00:00,  6.26it/s]\n"
     ]
    },
    {
     "name": "stdout",
     "output_type": "stream",
     "text": [
      "epoch: 55, f1_val: 0.6543227801944819, f1_train: 0.9061391542094158\n"
     ]
    },
    {
     "name": "stderr",
     "output_type": "stream",
     "text": [
      "100%|██████████| 36/36 [00:08<00:00,  4.23it/s]\n",
      "100%|██████████| 9/9 [00:01<00:00,  6.24it/s]\n",
      "100%|██████████| 36/36 [00:05<00:00,  6.17it/s]\n"
     ]
    },
    {
     "name": "stdout",
     "output_type": "stream",
     "text": [
      "epoch: 56, f1_val: 0.6427858303571756, f1_train: 0.8853875235179951\n"
     ]
    },
    {
     "name": "stderr",
     "output_type": "stream",
     "text": [
      "100%|██████████| 36/36 [00:08<00:00,  4.29it/s]\n",
      "100%|██████████| 9/9 [00:01<00:00,  8.40it/s]\n",
      "100%|██████████| 36/36 [00:04<00:00,  8.38it/s]\n"
     ]
    },
    {
     "name": "stdout",
     "output_type": "stream",
     "text": [
      "epoch: 57, f1_val: 0.6641208930828123, f1_train: 0.8985731633354919\n"
     ]
    },
    {
     "name": "stderr",
     "output_type": "stream",
     "text": [
      "100%|██████████| 36/36 [00:08<00:00,  4.15it/s]\n",
      "100%|██████████| 9/9 [00:01<00:00,  6.25it/s]\n",
      "100%|██████████| 36/36 [00:05<00:00,  6.12it/s]\n"
     ]
    },
    {
     "name": "stdout",
     "output_type": "stream",
     "text": [
      "epoch: 58, f1_val: 0.6169641018500295, f1_train: 0.8796193671930964\n"
     ]
    },
    {
     "name": "stderr",
     "output_type": "stream",
     "text": [
      "100%|██████████| 36/36 [00:08<00:00,  4.17it/s]\n",
      "100%|██████████| 9/9 [00:01<00:00,  6.20it/s]\n",
      "100%|██████████| 36/36 [00:05<00:00,  6.21it/s]\n"
     ]
    },
    {
     "name": "stdout",
     "output_type": "stream",
     "text": [
      "epoch: 59, f1_val: 0.6215018010335549, f1_train: 0.8701578911346867\n"
     ]
    },
    {
     "name": "stderr",
     "output_type": "stream",
     "text": [
      "100%|██████████| 36/36 [00:08<00:00,  4.22it/s]\n",
      "100%|██████████| 9/9 [00:01<00:00,  6.23it/s]\n",
      "100%|██████████| 36/36 [00:05<00:00,  6.17it/s]\n"
     ]
    },
    {
     "name": "stdout",
     "output_type": "stream",
     "text": [
      "epoch: 60, f1_val: 0.6373946471299081, f1_train: 0.8966648236262278\n"
     ]
    },
    {
     "name": "stderr",
     "output_type": "stream",
     "text": [
      "100%|██████████| 36/36 [00:08<00:00,  4.20it/s]\n",
      "100%|██████████| 9/9 [00:01<00:00,  6.24it/s]\n",
      "100%|██████████| 36/36 [00:05<00:00,  6.18it/s]\n"
     ]
    },
    {
     "name": "stdout",
     "output_type": "stream",
     "text": [
      "epoch: 61, f1_val: 0.6677348793949526, f1_train: 0.8902101219499279\n"
     ]
    },
    {
     "name": "stderr",
     "output_type": "stream",
     "text": [
      "100%|██████████| 36/36 [00:08<00:00,  4.23it/s]\n",
      "100%|██████████| 9/9 [00:01<00:00,  6.27it/s]\n",
      "100%|██████████| 36/36 [00:05<00:00,  6.21it/s]\n"
     ]
    },
    {
     "name": "stdout",
     "output_type": "stream",
     "text": [
      "epoch: 62, f1_val: 0.6522379403055035, f1_train: 0.8868749815263188\n"
     ]
    },
    {
     "name": "stderr",
     "output_type": "stream",
     "text": [
      "100%|██████████| 36/36 [00:08<00:00,  4.26it/s]\n",
      "100%|██████████| 9/9 [00:01<00:00,  6.18it/s]\n",
      "100%|██████████| 36/36 [00:05<00:00,  6.22it/s]\n"
     ]
    },
    {
     "name": "stdout",
     "output_type": "stream",
     "text": [
      "epoch: 63, f1_val: 0.6407548157077485, f1_train: 0.8727307193982878\n"
     ]
    },
    {
     "name": "stderr",
     "output_type": "stream",
     "text": [
      "100%|██████████| 36/36 [00:08<00:00,  4.25it/s]\n",
      "100%|██████████| 9/9 [00:01<00:00,  6.14it/s]\n",
      "100%|██████████| 36/36 [00:05<00:00,  6.30it/s]\n"
     ]
    },
    {
     "name": "stdout",
     "output_type": "stream",
     "text": [
      "epoch: 64, f1_val: 0.6424373894680528, f1_train: 0.8862156190515635\n"
     ]
    },
    {
     "name": "stderr",
     "output_type": "stream",
     "text": [
      "100%|██████████| 36/36 [00:08<00:00,  4.27it/s]\n",
      "100%|██████████| 9/9 [00:01<00:00,  6.40it/s]\n",
      "100%|██████████| 36/36 [00:05<00:00,  6.32it/s]\n"
     ]
    },
    {
     "name": "stdout",
     "output_type": "stream",
     "text": [
      "epoch: 65, f1_val: 0.6405908674595088, f1_train: 0.8829414603526452\n"
     ]
    },
    {
     "name": "stderr",
     "output_type": "stream",
     "text": [
      "100%|██████████| 36/36 [00:08<00:00,  4.27it/s]\n",
      "100%|██████████| 9/9 [00:01<00:00,  6.33it/s]\n",
      "100%|██████████| 36/36 [00:05<00:00,  6.31it/s]\n"
     ]
    },
    {
     "name": "stdout",
     "output_type": "stream",
     "text": [
      "epoch: 66, f1_val: 0.6613255520331709, f1_train: 0.9055160537826817\n"
     ]
    },
    {
     "name": "stderr",
     "output_type": "stream",
     "text": [
      "100%|██████████| 36/36 [00:08<00:00,  4.27it/s]\n",
      "100%|██████████| 9/9 [00:01<00:00,  6.25it/s]\n",
      "100%|██████████| 36/36 [00:05<00:00,  6.28it/s]\n"
     ]
    },
    {
     "name": "stdout",
     "output_type": "stream",
     "text": [
      "epoch: 67, f1_val: 0.663723786248578, f1_train: 0.902529692209365\n"
     ]
    },
    {
     "name": "stderr",
     "output_type": "stream",
     "text": [
      "100%|██████████| 36/36 [00:08<00:00,  4.27it/s]\n",
      "100%|██████████| 9/9 [00:01<00:00,  6.23it/s]\n",
      "100%|██████████| 36/36 [00:05<00:00,  6.19it/s]\n"
     ]
    },
    {
     "name": "stdout",
     "output_type": "stream",
     "text": [
      "epoch: 68, f1_val: 0.6586323610767794, f1_train: 0.8966437184321375\n"
     ]
    },
    {
     "name": "stderr",
     "output_type": "stream",
     "text": [
      "100%|██████████| 36/36 [00:08<00:00,  4.26it/s]\n",
      "100%|██████████| 9/9 [00:01<00:00,  6.22it/s]\n",
      "100%|██████████| 36/36 [00:05<00:00,  6.31it/s]\n"
     ]
    },
    {
     "name": "stdout",
     "output_type": "stream",
     "text": [
      "epoch: 69, f1_val: 0.6402437067318644, f1_train: 0.8849541139594908\n"
     ]
    },
    {
     "name": "stderr",
     "output_type": "stream",
     "text": [
      "100%|██████████| 36/36 [00:08<00:00,  4.27it/s]\n",
      "100%|██████████| 9/9 [00:01<00:00,  6.20it/s]\n",
      "100%|██████████| 36/36 [00:05<00:00,  6.25it/s]\n"
     ]
    },
    {
     "name": "stdout",
     "output_type": "stream",
     "text": [
      "epoch: 70, f1_val: 0.6408420276126857, f1_train: 0.9026634007712494\n"
     ]
    },
    {
     "name": "stderr",
     "output_type": "stream",
     "text": [
      "100%|██████████| 36/36 [00:08<00:00,  4.27it/s]\n",
      "100%|██████████| 9/9 [00:01<00:00,  6.15it/s]\n",
      "100%|██████████| 36/36 [00:05<00:00,  6.22it/s]\n"
     ]
    },
    {
     "name": "stdout",
     "output_type": "stream",
     "text": [
      "epoch: 71, f1_val: 0.6333378761412076, f1_train: 0.8826620706503905\n"
     ]
    },
    {
     "name": "stderr",
     "output_type": "stream",
     "text": [
      "100%|██████████| 36/36 [00:08<00:00,  4.27it/s]\n",
      "100%|██████████| 9/9 [00:01<00:00,  6.32it/s]\n",
      "100%|██████████| 36/36 [00:05<00:00,  6.33it/s]\n"
     ]
    },
    {
     "name": "stdout",
     "output_type": "stream",
     "text": [
      "epoch: 72, f1_val: 0.6383181729442844, f1_train: 0.875111183161736\n"
     ]
    },
    {
     "name": "stderr",
     "output_type": "stream",
     "text": [
      "100%|██████████| 36/36 [00:08<00:00,  4.27it/s]\n",
      "100%|██████████| 9/9 [00:01<00:00,  6.39it/s]\n",
      "100%|██████████| 36/36 [00:05<00:00,  6.06it/s]\n"
     ]
    },
    {
     "name": "stdout",
     "output_type": "stream",
     "text": [
      "epoch: 73, f1_val: 0.6252491355396743, f1_train: 0.8714680983636486\n"
     ]
    },
    {
     "name": "stderr",
     "output_type": "stream",
     "text": [
      "100%|██████████| 36/36 [00:08<00:00,  4.26it/s]\n",
      "100%|██████████| 9/9 [00:01<00:00,  6.25it/s]\n",
      "100%|██████████| 36/36 [00:05<00:00,  6.30it/s]\n"
     ]
    },
    {
     "name": "stdout",
     "output_type": "stream",
     "text": [
      "epoch: 74, f1_val: 0.6478710051911003, f1_train: 0.8850907924391616\n"
     ]
    },
    {
     "name": "stderr",
     "output_type": "stream",
     "text": [
      "100%|██████████| 36/36 [00:08<00:00,  4.24it/s]\n",
      "100%|██████████| 9/9 [00:01<00:00,  6.12it/s]\n",
      "100%|██████████| 36/36 [00:05<00:00,  6.23it/s]\n"
     ]
    },
    {
     "name": "stdout",
     "output_type": "stream",
     "text": [
      "epoch: 75, f1_val: 0.6181390441964222, f1_train: 0.8788871995783688\n"
     ]
    },
    {
     "name": "stderr",
     "output_type": "stream",
     "text": [
      "100%|██████████| 36/36 [00:08<00:00,  4.27it/s]\n",
      "100%|██████████| 9/9 [00:01<00:00,  6.34it/s]\n",
      "100%|██████████| 36/36 [00:05<00:00,  6.35it/s]\n"
     ]
    },
    {
     "name": "stdout",
     "output_type": "stream",
     "text": [
      "epoch: 76, f1_val: 0.6253262279343624, f1_train: 0.8867466839189696\n"
     ]
    },
    {
     "name": "stderr",
     "output_type": "stream",
     "text": [
      "100%|██████████| 36/36 [00:08<00:00,  4.27it/s]\n",
      "100%|██████████| 9/9 [00:01<00:00,  6.32it/s]\n",
      "100%|██████████| 36/36 [00:05<00:00,  6.34it/s]\n"
     ]
    },
    {
     "name": "stdout",
     "output_type": "stream",
     "text": [
      "epoch: 77, f1_val: 0.6376377562696149, f1_train: 0.8828114178233913\n"
     ]
    },
    {
     "name": "stderr",
     "output_type": "stream",
     "text": [
      "100%|██████████| 36/36 [00:08<00:00,  4.26it/s]\n",
      "100%|██████████| 9/9 [00:01<00:00,  6.29it/s]\n",
      "100%|██████████| 36/36 [00:05<00:00,  6.28it/s]\n"
     ]
    },
    {
     "name": "stdout",
     "output_type": "stream",
     "text": [
      "epoch: 78, f1_val: 0.6335009811123287, f1_train: 0.889754795494313\n"
     ]
    },
    {
     "name": "stderr",
     "output_type": "stream",
     "text": [
      "100%|██████████| 36/36 [00:08<00:00,  4.25it/s]\n",
      "100%|██████████| 9/9 [00:01<00:00,  6.29it/s]\n",
      "100%|██████████| 36/36 [00:05<00:00,  6.24it/s]\n"
     ]
    },
    {
     "name": "stdout",
     "output_type": "stream",
     "text": [
      "epoch: 79, f1_val: 0.6438871047490364, f1_train: 0.8882570093854801\n"
     ]
    },
    {
     "name": "stderr",
     "output_type": "stream",
     "text": [
      "100%|██████████| 36/36 [00:08<00:00,  4.26it/s]\n",
      "100%|██████████| 9/9 [00:01<00:00,  6.35it/s]\n",
      "100%|██████████| 36/36 [00:05<00:00,  6.29it/s]\n"
     ]
    },
    {
     "name": "stdout",
     "output_type": "stream",
     "text": [
      "epoch: 80, f1_val: 0.6660045619927258, f1_train: 0.8981660557220766\n"
     ]
    },
    {
     "name": "stderr",
     "output_type": "stream",
     "text": [
      "100%|██████████| 36/36 [00:08<00:00,  4.27it/s]\n",
      "100%|██████████| 9/9 [00:01<00:00,  6.39it/s]\n",
      "100%|██████████| 36/36 [00:05<00:00,  6.32it/s]\n"
     ]
    },
    {
     "name": "stdout",
     "output_type": "stream",
     "text": [
      "epoch: 81, f1_val: 0.6451670988566026, f1_train: 0.8869523081376713\n"
     ]
    },
    {
     "name": "stderr",
     "output_type": "stream",
     "text": [
      "100%|██████████| 36/36 [00:08<00:00,  4.26it/s]\n",
      "100%|██████████| 9/9 [00:01<00:00,  6.30it/s]\n",
      "100%|██████████| 36/36 [00:05<00:00,  6.37it/s]\n"
     ]
    },
    {
     "name": "stdout",
     "output_type": "stream",
     "text": [
      "epoch: 82, f1_val: 0.6458076704950317, f1_train: 0.8896301714562989\n"
     ]
    },
    {
     "name": "stderr",
     "output_type": "stream",
     "text": [
      "100%|██████████| 36/36 [00:08<00:00,  4.25it/s]\n",
      "100%|██████████| 9/9 [00:01<00:00,  6.32it/s]\n",
      "100%|██████████| 36/36 [00:05<00:00,  7.18it/s]\n"
     ]
    },
    {
     "name": "stdout",
     "output_type": "stream",
     "text": [
      "epoch: 83, f1_val: 0.6496595957073256, f1_train: 0.8834038850424045\n"
     ]
    },
    {
     "name": "stderr",
     "output_type": "stream",
     "text": [
      "100%|██████████| 36/36 [00:08<00:00,  4.35it/s]\n",
      "100%|██████████| 9/9 [00:01<00:00,  8.50it/s]\n",
      "100%|██████████| 36/36 [00:04<00:00,  8.64it/s]\n"
     ]
    },
    {
     "name": "stdout",
     "output_type": "stream",
     "text": [
      "epoch: 84, f1_val: 0.6300852240532081, f1_train: 0.8838106085730776\n"
     ]
    },
    {
     "name": "stderr",
     "output_type": "stream",
     "text": [
      "100%|██████████| 36/36 [00:08<00:00,  4.36it/s]\n",
      "100%|██████████| 9/9 [00:01<00:00,  8.49it/s]\n",
      "100%|██████████| 36/36 [00:04<00:00,  8.63it/s]\n"
     ]
    },
    {
     "name": "stdout",
     "output_type": "stream",
     "text": [
      "epoch: 85, f1_val: 0.6640074905903697, f1_train: 0.8965368098931356\n"
     ]
    },
    {
     "name": "stderr",
     "output_type": "stream",
     "text": [
      "100%|██████████| 36/36 [00:08<00:00,  4.35it/s]\n",
      "100%|██████████| 9/9 [00:01<00:00,  8.44it/s]\n",
      "100%|██████████| 36/36 [00:04<00:00,  8.59it/s]\n"
     ]
    },
    {
     "name": "stdout",
     "output_type": "stream",
     "text": [
      "epoch: 86, f1_val: 0.6658469129661551, f1_train: 0.891042011468613\n"
     ]
    },
    {
     "name": "stderr",
     "output_type": "stream",
     "text": [
      "100%|██████████| 36/36 [00:08<00:00,  4.36it/s]\n",
      "100%|██████████| 9/9 [00:01<00:00,  8.40it/s]\n",
      "100%|██████████| 36/36 [00:04<00:00,  8.61it/s]\n"
     ]
    },
    {
     "name": "stdout",
     "output_type": "stream",
     "text": [
      "epoch: 87, f1_val: 0.6541047764058495, f1_train: 0.9003399366772395\n"
     ]
    },
    {
     "name": "stderr",
     "output_type": "stream",
     "text": [
      "100%|██████████| 36/36 [00:08<00:00,  4.35it/s]\n",
      "100%|██████████| 9/9 [00:01<00:00,  8.48it/s]\n",
      "100%|██████████| 36/36 [00:04<00:00,  8.58it/s]\n"
     ]
    },
    {
     "name": "stdout",
     "output_type": "stream",
     "text": [
      "epoch: 88, f1_val: 0.644120881946007, f1_train: 0.8893203098283349\n"
     ]
    },
    {
     "name": "stderr",
     "output_type": "stream",
     "text": [
      "100%|██████████| 36/36 [00:08<00:00,  4.35it/s]\n",
      "100%|██████████| 9/9 [00:01<00:00,  8.48it/s]\n",
      "100%|██████████| 36/36 [00:04<00:00,  8.59it/s]\n"
     ]
    },
    {
     "name": "stdout",
     "output_type": "stream",
     "text": [
      "epoch: 89, f1_val: 0.6528858151610256, f1_train: 0.8998852166944421\n"
     ]
    },
    {
     "name": "stderr",
     "output_type": "stream",
     "text": [
      "100%|██████████| 36/36 [00:08<00:00,  4.36it/s]\n",
      "100%|██████████| 9/9 [00:01<00:00,  8.49it/s]\n",
      "100%|██████████| 36/36 [00:04<00:00,  8.62it/s]\n"
     ]
    },
    {
     "name": "stdout",
     "output_type": "stream",
     "text": [
      "epoch: 90, f1_val: 0.6613351434056497, f1_train: 0.8952767198051261\n"
     ]
    },
    {
     "name": "stderr",
     "output_type": "stream",
     "text": [
      "100%|██████████| 36/36 [00:08<00:00,  4.35it/s]\n",
      "100%|██████████| 9/9 [00:01<00:00,  8.50it/s]\n",
      "100%|██████████| 36/36 [00:04<00:00,  8.60it/s]\n"
     ]
    },
    {
     "name": "stdout",
     "output_type": "stream",
     "text": [
      "epoch: 91, f1_val: 0.6550781056759695, f1_train: 0.8852761208227629\n"
     ]
    },
    {
     "name": "stderr",
     "output_type": "stream",
     "text": [
      "100%|██████████| 36/36 [00:08<00:00,  4.35it/s]\n",
      "100%|██████████| 9/9 [00:01<00:00,  8.47it/s]\n",
      "100%|██████████| 36/36 [00:04<00:00,  8.63it/s]\n"
     ]
    },
    {
     "name": "stdout",
     "output_type": "stream",
     "text": [
      "epoch: 92, f1_val: 0.6413724428620777, f1_train: 0.8769603724734709\n"
     ]
    },
    {
     "name": "stderr",
     "output_type": "stream",
     "text": [
      "100%|██████████| 36/36 [00:08<00:00,  4.35it/s]\n",
      "100%|██████████| 9/9 [00:01<00:00,  8.49it/s]\n",
      "100%|██████████| 36/36 [00:04<00:00,  8.57it/s]\n"
     ]
    },
    {
     "name": "stdout",
     "output_type": "stream",
     "text": [
      "epoch: 93, f1_val: 0.643565863084147, f1_train: 0.8798742459480102\n"
     ]
    },
    {
     "name": "stderr",
     "output_type": "stream",
     "text": [
      "100%|██████████| 36/36 [00:08<00:00,  4.35it/s]\n",
      "100%|██████████| 9/9 [00:01<00:00,  8.46it/s]\n",
      "100%|██████████| 36/36 [00:04<00:00,  8.63it/s]\n"
     ]
    },
    {
     "name": "stdout",
     "output_type": "stream",
     "text": [
      "epoch: 94, f1_val: 0.6515063788558271, f1_train: 0.8773177619318699\n"
     ]
    },
    {
     "name": "stderr",
     "output_type": "stream",
     "text": [
      "100%|██████████| 36/36 [00:08<00:00,  4.35it/s]\n",
      "100%|██████████| 9/9 [00:01<00:00,  8.53it/s]\n",
      "100%|██████████| 36/36 [00:04<00:00,  8.61it/s]\n"
     ]
    },
    {
     "name": "stdout",
     "output_type": "stream",
     "text": [
      "epoch: 95, f1_val: 0.6348081441514773, f1_train: 0.8780425691968207\n"
     ]
    },
    {
     "name": "stderr",
     "output_type": "stream",
     "text": [
      "100%|██████████| 36/36 [00:08<00:00,  4.35it/s]\n",
      "100%|██████████| 9/9 [00:01<00:00,  8.51it/s]\n",
      "100%|██████████| 36/36 [00:04<00:00,  8.61it/s]\n"
     ]
    },
    {
     "name": "stdout",
     "output_type": "stream",
     "text": [
      "epoch: 96, f1_val: 0.6286952931744624, f1_train: 0.866578732370663\n"
     ]
    },
    {
     "name": "stderr",
     "output_type": "stream",
     "text": [
      "100%|██████████| 36/36 [00:08<00:00,  4.35it/s]\n",
      "100%|██████████| 9/9 [00:01<00:00,  8.52it/s]\n",
      "100%|██████████| 36/36 [00:04<00:00,  8.62it/s]\n"
     ]
    },
    {
     "name": "stdout",
     "output_type": "stream",
     "text": [
      "epoch: 97, f1_val: 0.6138908928033114, f1_train: 0.8695445073977787\n"
     ]
    },
    {
     "name": "stderr",
     "output_type": "stream",
     "text": [
      "100%|██████████| 36/36 [00:08<00:00,  4.36it/s]\n",
      "100%|██████████| 9/9 [00:01<00:00,  8.51it/s]\n",
      "100%|██████████| 36/36 [00:04<00:00,  8.63it/s]\n"
     ]
    },
    {
     "name": "stdout",
     "output_type": "stream",
     "text": [
      "epoch: 98, f1_val: 0.6143171674257153, f1_train: 0.8785574523172645\n"
     ]
    },
    {
     "name": "stderr",
     "output_type": "stream",
     "text": [
      "100%|██████████| 36/36 [00:08<00:00,  4.35it/s]\n",
      "100%|██████████| 9/9 [00:01<00:00,  8.55it/s]\n",
      "100%|██████████| 36/36 [00:04<00:00,  8.60it/s]\n",
      "C:\\ProgramData\\Anaconda3\\envs\\nlp-env\\lib\\site-packages\\torchaudio\\functional\\functional.py:584: UserWarning: At least one mel filterbank has all zero values. The value for `n_mels` (128) may be set too high. Or, the value for `n_freqs` (201) may be set too low.\n",
      "  warnings.warn(\n"
     ]
    },
    {
     "name": "stdout",
     "output_type": "stream",
     "text": [
      "epoch: 99, f1_val: 0.6569769367401526, f1_train: 0.8842828284240458\n",
      "Best F1 on validation: 0.6677348793949526\n",
      "Loaded pretrained weights for efficientnet-b0\n"
     ]
    },
    {
     "name": "stderr",
     "output_type": "stream",
     "text": [
      "100%|██████████| 36/36 [00:08<00:00,  4.29it/s]\n",
      "100%|██████████| 9/9 [00:01<00:00,  8.56it/s]\n",
      "100%|██████████| 36/36 [00:04<00:00,  8.57it/s]\n"
     ]
    },
    {
     "name": "stdout",
     "output_type": "stream",
     "text": [
      "epoch: 0, f1_val: 0.08169746512888287, f1_train: 0.07899494771275796\n"
     ]
    },
    {
     "name": "stderr",
     "output_type": "stream",
     "text": [
      "100%|██████████| 36/36 [00:08<00:00,  4.35it/s]\n",
      "100%|██████████| 9/9 [00:01<00:00,  8.54it/s]\n",
      "100%|██████████| 36/36 [00:04<00:00,  8.60it/s]\n"
     ]
    },
    {
     "name": "stdout",
     "output_type": "stream",
     "text": [
      "epoch: 1, f1_val: 0.15715894495786362, f1_train: 0.16530697319323226\n"
     ]
    },
    {
     "name": "stderr",
     "output_type": "stream",
     "text": [
      "100%|██████████| 36/36 [00:08<00:00,  4.35it/s]\n",
      "100%|██████████| 9/9 [00:01<00:00,  8.58it/s]\n",
      "100%|██████████| 36/36 [00:04<00:00,  8.59it/s]\n"
     ]
    },
    {
     "name": "stdout",
     "output_type": "stream",
     "text": [
      "epoch: 2, f1_val: 0.2532589428931553, f1_train: 0.27726834912983267\n"
     ]
    },
    {
     "name": "stderr",
     "output_type": "stream",
     "text": [
      "100%|██████████| 36/36 [00:08<00:00,  4.35it/s]\n",
      "100%|██████████| 9/9 [00:01<00:00,  8.60it/s]\n",
      "100%|██████████| 36/36 [00:04<00:00,  8.63it/s]\n"
     ]
    },
    {
     "name": "stdout",
     "output_type": "stream",
     "text": [
      "epoch: 3, f1_val: 0.28858886189911476, f1_train: 0.307700512904949\n"
     ]
    },
    {
     "name": "stderr",
     "output_type": "stream",
     "text": [
      "100%|██████████| 36/36 [00:08<00:00,  4.35it/s]\n",
      "100%|██████████| 9/9 [00:01<00:00,  8.57it/s]\n",
      "100%|██████████| 36/36 [00:04<00:00,  8.63it/s]\n"
     ]
    },
    {
     "name": "stdout",
     "output_type": "stream",
     "text": [
      "epoch: 4, f1_val: 0.4102164641883026, f1_train: 0.4594279425872639\n"
     ]
    },
    {
     "name": "stderr",
     "output_type": "stream",
     "text": [
      "100%|██████████| 36/36 [00:08<00:00,  4.35it/s]\n",
      "100%|██████████| 9/9 [00:01<00:00,  8.61it/s]\n",
      "100%|██████████| 36/36 [00:04<00:00,  8.65it/s]\n"
     ]
    },
    {
     "name": "stdout",
     "output_type": "stream",
     "text": [
      "epoch: 5, f1_val: 0.44174485976132116, f1_train: 0.5301818376904213\n"
     ]
    },
    {
     "name": "stderr",
     "output_type": "stream",
     "text": [
      "100%|██████████| 36/36 [00:08<00:00,  4.35it/s]\n",
      "100%|██████████| 9/9 [00:01<00:00,  8.57it/s]\n",
      "100%|██████████| 36/36 [00:04<00:00,  8.63it/s]\n"
     ]
    },
    {
     "name": "stdout",
     "output_type": "stream",
     "text": [
      "epoch: 6, f1_val: 0.45436495031294427, f1_train: 0.5385551213394076\n"
     ]
    },
    {
     "name": "stderr",
     "output_type": "stream",
     "text": [
      "100%|██████████| 36/36 [00:08<00:00,  4.35it/s]\n",
      "100%|██████████| 9/9 [00:01<00:00,  8.62it/s]\n",
      "100%|██████████| 36/36 [00:04<00:00,  8.61it/s]\n"
     ]
    },
    {
     "name": "stdout",
     "output_type": "stream",
     "text": [
      "epoch: 7, f1_val: 0.5390609370629552, f1_train: 0.6475027060597277\n"
     ]
    },
    {
     "name": "stderr",
     "output_type": "stream",
     "text": [
      "100%|██████████| 36/36 [00:08<00:00,  4.35it/s]\n",
      "100%|██████████| 9/9 [00:01<00:00,  8.62it/s]\n",
      "100%|██████████| 36/36 [00:04<00:00,  8.59it/s]\n"
     ]
    },
    {
     "name": "stdout",
     "output_type": "stream",
     "text": [
      "epoch: 8, f1_val: 0.4959800979701178, f1_train: 0.6447746132891038\n"
     ]
    },
    {
     "name": "stderr",
     "output_type": "stream",
     "text": [
      "100%|██████████| 36/36 [00:08<00:00,  4.35it/s]\n",
      "100%|██████████| 9/9 [00:01<00:00,  8.61it/s]\n",
      "100%|██████████| 36/36 [00:04<00:00,  8.61it/s]\n"
     ]
    },
    {
     "name": "stdout",
     "output_type": "stream",
     "text": [
      "epoch: 9, f1_val: 0.4842235760109677, f1_train: 0.6148583189732667\n"
     ]
    },
    {
     "name": "stderr",
     "output_type": "stream",
     "text": [
      "100%|██████████| 36/36 [00:08<00:00,  4.35it/s]\n",
      "100%|██████████| 9/9 [00:01<00:00,  8.64it/s]\n",
      "100%|██████████| 36/36 [00:04<00:00,  8.60it/s]\n"
     ]
    },
    {
     "name": "stdout",
     "output_type": "stream",
     "text": [
      "epoch: 10, f1_val: 0.5077756910505669, f1_train: 0.6317456089584533\n"
     ]
    },
    {
     "name": "stderr",
     "output_type": "stream",
     "text": [
      "100%|██████████| 36/36 [00:08<00:00,  4.36it/s]\n",
      "100%|██████████| 9/9 [00:01<00:00,  8.58it/s]\n",
      "100%|██████████| 36/36 [00:04<00:00,  8.61it/s]\n"
     ]
    },
    {
     "name": "stdout",
     "output_type": "stream",
     "text": [
      "epoch: 11, f1_val: 0.6051270953100896, f1_train: 0.7882073103051981\n"
     ]
    },
    {
     "name": "stderr",
     "output_type": "stream",
     "text": [
      "100%|██████████| 36/36 [00:08<00:00,  4.35it/s]\n",
      "100%|██████████| 9/9 [00:01<00:00,  8.52it/s]\n",
      "100%|██████████| 36/36 [00:04<00:00,  8.57it/s]\n"
     ]
    },
    {
     "name": "stdout",
     "output_type": "stream",
     "text": [
      "epoch: 12, f1_val: 0.5963057659866383, f1_train: 0.8088499108948669\n"
     ]
    },
    {
     "name": "stderr",
     "output_type": "stream",
     "text": [
      "100%|██████████| 36/36 [00:08<00:00,  4.35it/s]\n",
      "100%|██████████| 9/9 [00:01<00:00,  8.60it/s]\n",
      "100%|██████████| 36/36 [00:04<00:00,  8.56it/s]\n"
     ]
    },
    {
     "name": "stdout",
     "output_type": "stream",
     "text": [
      "epoch: 13, f1_val: 0.5556297068499841, f1_train: 0.7481952559942899\n"
     ]
    },
    {
     "name": "stderr",
     "output_type": "stream",
     "text": [
      "100%|██████████| 36/36 [00:08<00:00,  4.35it/s]\n",
      "100%|██████████| 9/9 [00:01<00:00,  8.62it/s]\n",
      "100%|██████████| 36/36 [00:04<00:00,  8.57it/s]\n"
     ]
    },
    {
     "name": "stdout",
     "output_type": "stream",
     "text": [
      "epoch: 14, f1_val: 0.5938141871412597, f1_train: 0.7756136356479195\n"
     ]
    },
    {
     "name": "stderr",
     "output_type": "stream",
     "text": [
      "100%|██████████| 36/36 [00:08<00:00,  4.35it/s]\n",
      "100%|██████████| 9/9 [00:01<00:00,  8.61it/s]\n",
      "100%|██████████| 36/36 [00:04<00:00,  8.53it/s]\n"
     ]
    },
    {
     "name": "stdout",
     "output_type": "stream",
     "text": [
      "epoch: 15, f1_val: 0.5711534638413786, f1_train: 0.7500752845936074\n"
     ]
    },
    {
     "name": "stderr",
     "output_type": "stream",
     "text": [
      "100%|██████████| 36/36 [00:08<00:00,  4.35it/s]\n",
      "100%|██████████| 9/9 [00:01<00:00,  8.36it/s]\n",
      "100%|██████████| 36/36 [00:04<00:00,  8.56it/s]\n"
     ]
    },
    {
     "name": "stdout",
     "output_type": "stream",
     "text": [
      "epoch: 16, f1_val: 0.6379809103252778, f1_train: 0.8371807080388476\n"
     ]
    },
    {
     "name": "stderr",
     "output_type": "stream",
     "text": [
      "100%|██████████| 36/36 [00:08<00:00,  4.35it/s]\n",
      "100%|██████████| 9/9 [00:01<00:00,  8.59it/s]\n",
      "100%|██████████| 36/36 [00:04<00:00,  8.63it/s]\n"
     ]
    },
    {
     "name": "stdout",
     "output_type": "stream",
     "text": [
      "epoch: 17, f1_val: 0.673026764951477, f1_train: 0.8939070626703489\n"
     ]
    },
    {
     "name": "stderr",
     "output_type": "stream",
     "text": [
      "100%|██████████| 36/36 [00:08<00:00,  4.35it/s]\n",
      "100%|██████████| 9/9 [00:01<00:00,  8.63it/s]\n",
      "100%|██████████| 36/36 [00:04<00:00,  8.62it/s]\n"
     ]
    },
    {
     "name": "stdout",
     "output_type": "stream",
     "text": [
      "epoch: 18, f1_val: 0.6452414650578705, f1_train: 0.8439183428082555\n"
     ]
    },
    {
     "name": "stderr",
     "output_type": "stream",
     "text": [
      "100%|██████████| 36/36 [00:08<00:00,  4.36it/s]\n",
      "100%|██████████| 9/9 [00:01<00:00,  8.64it/s]\n",
      "100%|██████████| 36/36 [00:04<00:00,  8.58it/s]\n"
     ]
    },
    {
     "name": "stdout",
     "output_type": "stream",
     "text": [
      "epoch: 19, f1_val: 0.6388023518696365, f1_train: 0.8809334127810707\n"
     ]
    },
    {
     "name": "stderr",
     "output_type": "stream",
     "text": [
      "100%|██████████| 36/36 [00:08<00:00,  4.35it/s]\n",
      "100%|██████████| 9/9 [00:01<00:00,  8.64it/s]\n",
      "100%|██████████| 36/36 [00:04<00:00,  8.63it/s]\n"
     ]
    },
    {
     "name": "stdout",
     "output_type": "stream",
     "text": [
      "epoch: 20, f1_val: 0.6550180159484567, f1_train: 0.8866092117595646\n"
     ]
    },
    {
     "name": "stderr",
     "output_type": "stream",
     "text": [
      "100%|██████████| 36/36 [00:08<00:00,  4.35it/s]\n",
      "100%|██████████| 9/9 [00:01<00:00,  8.61it/s]\n",
      "100%|██████████| 36/36 [00:04<00:00,  8.55it/s]\n"
     ]
    },
    {
     "name": "stdout",
     "output_type": "stream",
     "text": [
      "epoch: 21, f1_val: 0.6673400982232275, f1_train: 0.9047231327187871\n"
     ]
    },
    {
     "name": "stderr",
     "output_type": "stream",
     "text": [
      "100%|██████████| 36/36 [00:08<00:00,  4.36it/s]\n",
      "100%|██████████| 9/9 [00:01<00:00,  8.55it/s]\n",
      "100%|██████████| 36/36 [00:04<00:00,  8.54it/s]\n"
     ]
    },
    {
     "name": "stdout",
     "output_type": "stream",
     "text": [
      "epoch: 22, f1_val: 0.684509710705924, f1_train: 0.9173284223806923\n"
     ]
    },
    {
     "name": "stderr",
     "output_type": "stream",
     "text": [
      "100%|██████████| 36/36 [00:08<00:00,  4.35it/s]\n",
      "100%|██████████| 9/9 [00:01<00:00,  8.59it/s]\n",
      "100%|██████████| 36/36 [00:04<00:00,  8.55it/s]\n"
     ]
    },
    {
     "name": "stdout",
     "output_type": "stream",
     "text": [
      "epoch: 23, f1_val: 0.6036664044973156, f1_train: 0.8074444183528069\n"
     ]
    },
    {
     "name": "stderr",
     "output_type": "stream",
     "text": [
      "100%|██████████| 36/36 [00:08<00:00,  4.35it/s]\n",
      "100%|██████████| 9/9 [00:01<00:00,  8.54it/s]\n",
      "100%|██████████| 36/36 [00:04<00:00,  8.58it/s]\n"
     ]
    },
    {
     "name": "stdout",
     "output_type": "stream",
     "text": [
      "epoch: 24, f1_val: 0.6187141617796331, f1_train: 0.8086012716460984\n"
     ]
    },
    {
     "name": "stderr",
     "output_type": "stream",
     "text": [
      "100%|██████████| 36/36 [00:08<00:00,  4.35it/s]\n",
      "100%|██████████| 9/9 [00:01<00:00,  8.53it/s]\n",
      "100%|██████████| 36/36 [00:04<00:00,  8.55it/s]\n"
     ]
    },
    {
     "name": "stdout",
     "output_type": "stream",
     "text": [
      "epoch: 25, f1_val: 0.6124421597291829, f1_train: 0.8268854644744187\n"
     ]
    },
    {
     "name": "stderr",
     "output_type": "stream",
     "text": [
      "100%|██████████| 36/36 [00:08<00:00,  4.36it/s]\n",
      "100%|██████████| 9/9 [00:01<00:00,  8.54it/s]\n",
      "100%|██████████| 36/36 [00:04<00:00,  8.54it/s]\n"
     ]
    },
    {
     "name": "stdout",
     "output_type": "stream",
     "text": [
      "epoch: 26, f1_val: 0.5930650786110637, f1_train: 0.8036642717104295\n"
     ]
    },
    {
     "name": "stderr",
     "output_type": "stream",
     "text": [
      "100%|██████████| 36/36 [00:08<00:00,  4.36it/s]\n",
      "100%|██████████| 9/9 [00:01<00:00,  8.51it/s]\n",
      "100%|██████████| 36/36 [00:04<00:00,  8.54it/s]\n"
     ]
    },
    {
     "name": "stdout",
     "output_type": "stream",
     "text": [
      "epoch: 27, f1_val: 0.6542913799260406, f1_train: 0.8754465754226384\n"
     ]
    },
    {
     "name": "stderr",
     "output_type": "stream",
     "text": [
      "100%|██████████| 36/36 [00:08<00:00,  4.35it/s]\n",
      "100%|██████████| 9/9 [00:01<00:00,  8.56it/s]\n",
      "100%|██████████| 36/36 [00:04<00:00,  8.62it/s]\n"
     ]
    },
    {
     "name": "stdout",
     "output_type": "stream",
     "text": [
      "epoch: 28, f1_val: 0.6435478884315371, f1_train: 0.8705764384264538\n"
     ]
    },
    {
     "name": "stderr",
     "output_type": "stream",
     "text": [
      "100%|██████████| 36/36 [00:08<00:00,  4.36it/s]\n",
      "100%|██████████| 9/9 [00:01<00:00,  8.55it/s]\n",
      "100%|██████████| 36/36 [00:04<00:00,  8.61it/s]\n"
     ]
    },
    {
     "name": "stdout",
     "output_type": "stream",
     "text": [
      "epoch: 29, f1_val: 0.6411570623544919, f1_train: 0.8645940564568032\n"
     ]
    },
    {
     "name": "stderr",
     "output_type": "stream",
     "text": [
      "100%|██████████| 36/36 [00:08<00:00,  4.35it/s]\n",
      "100%|██████████| 9/9 [00:01<00:00,  8.60it/s]\n",
      "100%|██████████| 36/36 [00:04<00:00,  8.60it/s]\n"
     ]
    },
    {
     "name": "stdout",
     "output_type": "stream",
     "text": [
      "epoch: 30, f1_val: 0.6591705126193058, f1_train: 0.8895939880053314\n"
     ]
    },
    {
     "name": "stderr",
     "output_type": "stream",
     "text": [
      "100%|██████████| 36/36 [00:08<00:00,  4.35it/s]\n",
      "100%|██████████| 9/9 [00:01<00:00,  8.54it/s]\n",
      "100%|██████████| 36/36 [00:04<00:00,  8.60it/s]\n"
     ]
    },
    {
     "name": "stdout",
     "output_type": "stream",
     "text": [
      "epoch: 31, f1_val: 0.6770042547991912, f1_train: 0.9330312016309714\n"
     ]
    },
    {
     "name": "stderr",
     "output_type": "stream",
     "text": [
      "100%|██████████| 36/36 [00:08<00:00,  4.35it/s]\n",
      "100%|██████████| 9/9 [00:01<00:00,  8.63it/s]\n",
      "100%|██████████| 36/36 [00:04<00:00,  8.60it/s]\n"
     ]
    },
    {
     "name": "stdout",
     "output_type": "stream",
     "text": [
      "epoch: 32, f1_val: 0.6657537547749377, f1_train: 0.9100025270025608\n"
     ]
    },
    {
     "name": "stderr",
     "output_type": "stream",
     "text": [
      "100%|██████████| 36/36 [00:08<00:00,  4.35it/s]\n",
      "100%|██████████| 9/9 [00:01<00:00,  8.60it/s]\n",
      "100%|██████████| 36/36 [00:04<00:00,  8.59it/s]\n"
     ]
    },
    {
     "name": "stdout",
     "output_type": "stream",
     "text": [
      "epoch: 33, f1_val: 0.7070809795222598, f1_train: 0.9406570813147582\n"
     ]
    },
    {
     "name": "stderr",
     "output_type": "stream",
     "text": [
      "100%|██████████| 36/36 [00:08<00:00,  4.36it/s]\n",
      "100%|██████████| 9/9 [00:01<00:00,  8.53it/s]\n",
      "100%|██████████| 36/36 [00:04<00:00,  8.57it/s]\n"
     ]
    },
    {
     "name": "stdout",
     "output_type": "stream",
     "text": [
      "epoch: 34, f1_val: 0.7008237175930946, f1_train: 0.9448672853711059\n"
     ]
    },
    {
     "name": "stderr",
     "output_type": "stream",
     "text": [
      "100%|██████████| 36/36 [00:08<00:00,  4.35it/s]\n",
      "100%|██████████| 9/9 [00:01<00:00,  8.51it/s]\n",
      "100%|██████████| 36/36 [00:04<00:00,  8.64it/s]\n"
     ]
    },
    {
     "name": "stdout",
     "output_type": "stream",
     "text": [
      "epoch: 35, f1_val: 0.707039302557921, f1_train: 0.9453412728089897\n"
     ]
    },
    {
     "name": "stderr",
     "output_type": "stream",
     "text": [
      "100%|██████████| 36/36 [00:08<00:00,  4.35it/s]\n",
      "100%|██████████| 9/9 [00:01<00:00,  8.58it/s]\n",
      "100%|██████████| 36/36 [00:04<00:00,  8.61it/s]\n"
     ]
    },
    {
     "name": "stdout",
     "output_type": "stream",
     "text": [
      "epoch: 36, f1_val: 0.6992535555901276, f1_train: 0.9454189941162416\n"
     ]
    },
    {
     "name": "stderr",
     "output_type": "stream",
     "text": [
      "100%|██████████| 36/36 [00:08<00:00,  4.35it/s]\n",
      "100%|██████████| 9/9 [00:01<00:00,  8.64it/s]\n",
      "100%|██████████| 36/36 [00:04<00:00,  8.60it/s]\n"
     ]
    },
    {
     "name": "stdout",
     "output_type": "stream",
     "text": [
      "epoch: 37, f1_val: 0.6993000320978445, f1_train: 0.9440458326650931\n"
     ]
    },
    {
     "name": "stderr",
     "output_type": "stream",
     "text": [
      "100%|██████████| 36/36 [00:08<00:00,  4.35it/s]\n",
      "100%|██████████| 9/9 [00:01<00:00,  8.57it/s]\n",
      "100%|██████████| 36/36 [00:04<00:00,  8.45it/s]\n"
     ]
    },
    {
     "name": "stdout",
     "output_type": "stream",
     "text": [
      "epoch: 38, f1_val: 0.6849004288003112, f1_train: 0.9437580842474752\n"
     ]
    },
    {
     "name": "stderr",
     "output_type": "stream",
     "text": [
      "100%|██████████| 36/36 [00:08<00:00,  4.35it/s]\n",
      "100%|██████████| 9/9 [00:01<00:00,  8.62it/s]\n",
      "100%|██████████| 36/36 [00:04<00:00,  8.62it/s]\n"
     ]
    },
    {
     "name": "stdout",
     "output_type": "stream",
     "text": [
      "epoch: 39, f1_val: 0.7190790141966144, f1_train: 0.9494556545519311\n"
     ]
    },
    {
     "name": "stderr",
     "output_type": "stream",
     "text": [
      "100%|██████████| 36/36 [00:08<00:00,  4.35it/s]\n",
      "100%|██████████| 9/9 [00:01<00:00,  8.59it/s]\n",
      "100%|██████████| 36/36 [00:04<00:00,  8.59it/s]\n"
     ]
    },
    {
     "name": "stdout",
     "output_type": "stream",
     "text": [
      "epoch: 40, f1_val: 0.6982407659813021, f1_train: 0.9491363129176257\n"
     ]
    },
    {
     "name": "stderr",
     "output_type": "stream",
     "text": [
      "100%|██████████| 36/36 [00:08<00:00,  4.35it/s]\n",
      "100%|██████████| 9/9 [00:01<00:00,  8.63it/s]\n",
      "100%|██████████| 36/36 [00:04<00:00,  8.62it/s]\n"
     ]
    },
    {
     "name": "stdout",
     "output_type": "stream",
     "text": [
      "epoch: 41, f1_val: 0.6936235482658768, f1_train: 0.9515241588689942\n"
     ]
    },
    {
     "name": "stderr",
     "output_type": "stream",
     "text": [
      "100%|██████████| 36/36 [00:08<00:00,  4.35it/s]\n",
      "100%|██████████| 9/9 [00:01<00:00,  8.59it/s]\n",
      "100%|██████████| 36/36 [00:04<00:00,  8.61it/s]\n"
     ]
    },
    {
     "name": "stdout",
     "output_type": "stream",
     "text": [
      "epoch: 42, f1_val: 0.7139566972348949, f1_train: 0.9528850509750966\n"
     ]
    },
    {
     "name": "stderr",
     "output_type": "stream",
     "text": [
      "100%|██████████| 36/36 [00:08<00:00,  4.35it/s]\n",
      "100%|██████████| 9/9 [00:01<00:00,  8.57it/s]\n",
      "100%|██████████| 36/36 [00:04<00:00,  8.59it/s]\n"
     ]
    },
    {
     "name": "stdout",
     "output_type": "stream",
     "text": [
      "epoch: 43, f1_val: 0.7109637722678547, f1_train: 0.951396771113119\n"
     ]
    },
    {
     "name": "stderr",
     "output_type": "stream",
     "text": [
      "100%|██████████| 36/36 [00:08<00:00,  4.35it/s]\n",
      "100%|██████████| 9/9 [00:01<00:00,  8.62it/s]\n",
      "100%|██████████| 36/36 [00:04<00:00,  8.58it/s]\n"
     ]
    },
    {
     "name": "stdout",
     "output_type": "stream",
     "text": [
      "epoch: 44, f1_val: 0.6996833484765794, f1_train: 0.9523875309843338\n"
     ]
    },
    {
     "name": "stderr",
     "output_type": "stream",
     "text": [
      "100%|██████████| 36/36 [00:08<00:00,  4.35it/s]\n",
      "100%|██████████| 9/9 [00:01<00:00,  8.57it/s]\n",
      "100%|██████████| 36/36 [00:04<00:00,  8.61it/s]\n"
     ]
    },
    {
     "name": "stdout",
     "output_type": "stream",
     "text": [
      "epoch: 45, f1_val: 0.6936262093866531, f1_train: 0.9192183948070122\n"
     ]
    },
    {
     "name": "stderr",
     "output_type": "stream",
     "text": [
      "100%|██████████| 36/36 [00:08<00:00,  4.36it/s]\n",
      "100%|██████████| 9/9 [00:01<00:00,  8.59it/s]\n",
      "100%|██████████| 36/36 [00:04<00:00,  8.62it/s]\n"
     ]
    },
    {
     "name": "stdout",
     "output_type": "stream",
     "text": [
      "epoch: 46, f1_val: 0.6905864667977087, f1_train: 0.9433101407402267\n"
     ]
    },
    {
     "name": "stderr",
     "output_type": "stream",
     "text": [
      "100%|██████████| 36/36 [00:08<00:00,  4.35it/s]\n",
      "100%|██████████| 9/9 [00:01<00:00,  8.58it/s]\n",
      "100%|██████████| 36/36 [00:04<00:00,  8.59it/s]\n"
     ]
    },
    {
     "name": "stdout",
     "output_type": "stream",
     "text": [
      "epoch: 47, f1_val: 0.7003543711284401, f1_train: 0.9436946050438484\n"
     ]
    },
    {
     "name": "stderr",
     "output_type": "stream",
     "text": [
      "100%|██████████| 36/36 [00:08<00:00,  4.35it/s]\n",
      "100%|██████████| 9/9 [00:01<00:00,  8.56it/s]\n",
      "100%|██████████| 36/36 [00:04<00:00,  8.53it/s]\n"
     ]
    },
    {
     "name": "stdout",
     "output_type": "stream",
     "text": [
      "epoch: 48, f1_val: 0.7015443319681444, f1_train: 0.9583691105379197\n"
     ]
    },
    {
     "name": "stderr",
     "output_type": "stream",
     "text": [
      "100%|██████████| 36/36 [00:08<00:00,  4.35it/s]\n",
      "100%|██████████| 9/9 [00:01<00:00,  8.53it/s]\n",
      "100%|██████████| 36/36 [00:04<00:00,  8.57it/s]\n"
     ]
    },
    {
     "name": "stdout",
     "output_type": "stream",
     "text": [
      "epoch: 49, f1_val: 0.7130183283436495, f1_train: 0.9549274074207901\n"
     ]
    },
    {
     "name": "stderr",
     "output_type": "stream",
     "text": [
      "100%|██████████| 36/36 [00:08<00:00,  4.35it/s]\n",
      "100%|██████████| 9/9 [00:01<00:00,  8.57it/s]\n",
      "100%|██████████| 36/36 [00:04<00:00,  8.53it/s]\n"
     ]
    },
    {
     "name": "stdout",
     "output_type": "stream",
     "text": [
      "epoch: 50, f1_val: 0.711773628092664, f1_train: 0.9581778442415547\n"
     ]
    },
    {
     "name": "stderr",
     "output_type": "stream",
     "text": [
      "100%|██████████| 36/36 [00:08<00:00,  4.35it/s]\n",
      "100%|██████████| 9/9 [00:01<00:00,  8.63it/s]\n",
      "100%|██████████| 36/36 [00:04<00:00,  8.58it/s]\n"
     ]
    },
    {
     "name": "stdout",
     "output_type": "stream",
     "text": [
      "epoch: 51, f1_val: 0.711656828703817, f1_train: 0.9543006067515878\n"
     ]
    },
    {
     "name": "stderr",
     "output_type": "stream",
     "text": [
      "100%|██████████| 36/36 [00:08<00:00,  4.35it/s]\n",
      "100%|██████████| 9/9 [00:01<00:00,  8.64it/s]\n",
      "100%|██████████| 36/36 [00:04<00:00,  8.59it/s]\n"
     ]
    },
    {
     "name": "stdout",
     "output_type": "stream",
     "text": [
      "epoch: 52, f1_val: 0.7031517156907507, f1_train: 0.9581468804193375\n"
     ]
    },
    {
     "name": "stderr",
     "output_type": "stream",
     "text": [
      "100%|██████████| 36/36 [00:08<00:00,  4.36it/s]\n",
      "100%|██████████| 9/9 [00:01<00:00,  8.60it/s]\n",
      "100%|██████████| 36/36 [00:04<00:00,  8.61it/s]\n"
     ]
    },
    {
     "name": "stdout",
     "output_type": "stream",
     "text": [
      "epoch: 53, f1_val: 0.7025235460688599, f1_train: 0.9499748634009229\n"
     ]
    },
    {
     "name": "stderr",
     "output_type": "stream",
     "text": [
      "100%|██████████| 36/36 [00:08<00:00,  4.34it/s]\n",
      "100%|██████████| 9/9 [00:01<00:00,  8.56it/s]\n",
      "100%|██████████| 36/36 [00:04<00:00,  8.59it/s]\n"
     ]
    },
    {
     "name": "stdout",
     "output_type": "stream",
     "text": [
      "epoch: 54, f1_val: 0.7131855474399389, f1_train: 0.9546115896900025\n"
     ]
    },
    {
     "name": "stderr",
     "output_type": "stream",
     "text": [
      "100%|██████████| 36/36 [00:08<00:00,  4.35it/s]\n",
      "100%|██████████| 9/9 [00:01<00:00,  8.64it/s]\n",
      "100%|██████████| 36/36 [00:04<00:00,  8.64it/s]\n"
     ]
    },
    {
     "name": "stdout",
     "output_type": "stream",
     "text": [
      "epoch: 55, f1_val: 0.7185459556596951, f1_train: 0.9595488306189356\n"
     ]
    },
    {
     "name": "stderr",
     "output_type": "stream",
     "text": [
      "100%|██████████| 36/36 [00:08<00:00,  4.36it/s]\n",
      "100%|██████████| 9/9 [00:01<00:00,  8.51it/s]\n",
      "100%|██████████| 36/36 [00:04<00:00,  8.59it/s]\n"
     ]
    },
    {
     "name": "stdout",
     "output_type": "stream",
     "text": [
      "epoch: 56, f1_val: 0.710576067892625, f1_train: 0.9568034676040077\n"
     ]
    },
    {
     "name": "stderr",
     "output_type": "stream",
     "text": [
      "100%|██████████| 36/36 [00:08<00:00,  4.35it/s]\n",
      "100%|██████████| 9/9 [00:01<00:00,  8.46it/s]\n",
      "100%|██████████| 36/36 [00:04<00:00,  8.56it/s]\n"
     ]
    },
    {
     "name": "stdout",
     "output_type": "stream",
     "text": [
      "epoch: 57, f1_val: 0.714404287529995, f1_train: 0.956438912928569\n"
     ]
    },
    {
     "name": "stderr",
     "output_type": "stream",
     "text": [
      "100%|██████████| 36/36 [00:08<00:00,  4.35it/s]\n",
      "100%|██████████| 9/9 [00:01<00:00,  8.54it/s]\n",
      "100%|██████████| 36/36 [00:04<00:00,  8.56it/s]\n"
     ]
    },
    {
     "name": "stdout",
     "output_type": "stream",
     "text": [
      "epoch: 58, f1_val: 0.7071208440489231, f1_train: 0.9538508899061748\n"
     ]
    },
    {
     "name": "stderr",
     "output_type": "stream",
     "text": [
      "100%|██████████| 36/36 [00:08<00:00,  4.35it/s]\n",
      "100%|██████████| 9/9 [00:01<00:00,  8.58it/s]\n",
      "100%|██████████| 36/36 [00:04<00:00,  8.57it/s]\n"
     ]
    },
    {
     "name": "stdout",
     "output_type": "stream",
     "text": [
      "epoch: 59, f1_val: 0.7120708987134063, f1_train: 0.9564434256413404\n"
     ]
    },
    {
     "name": "stderr",
     "output_type": "stream",
     "text": [
      "100%|██████████| 36/36 [00:08<00:00,  4.35it/s]\n",
      "100%|██████████| 9/9 [00:01<00:00,  8.60it/s]\n",
      "100%|██████████| 36/36 [00:04<00:00,  8.42it/s]\n"
     ]
    },
    {
     "name": "stdout",
     "output_type": "stream",
     "text": [
      "epoch: 60, f1_val: 0.7091442273025579, f1_train: 0.9526879092794128\n"
     ]
    },
    {
     "name": "stderr",
     "output_type": "stream",
     "text": [
      "100%|██████████| 36/36 [00:08<00:00,  4.35it/s]\n",
      "100%|██████████| 9/9 [00:01<00:00,  8.50it/s]\n",
      "100%|██████████| 36/36 [00:04<00:00,  8.58it/s]\n"
     ]
    },
    {
     "name": "stdout",
     "output_type": "stream",
     "text": [
      "epoch: 61, f1_val: 0.7185037878392253, f1_train: 0.9562021489682414\n"
     ]
    },
    {
     "name": "stderr",
     "output_type": "stream",
     "text": [
      "100%|██████████| 36/36 [00:08<00:00,  4.35it/s]\n",
      "100%|██████████| 9/9 [00:01<00:00,  8.57it/s]\n",
      "100%|██████████| 36/36 [00:04<00:00,  8.60it/s]\n"
     ]
    },
    {
     "name": "stdout",
     "output_type": "stream",
     "text": [
      "epoch: 62, f1_val: 0.7188743083507261, f1_train: 0.9615404824541185\n"
     ]
    },
    {
     "name": "stderr",
     "output_type": "stream",
     "text": [
      "100%|██████████| 36/36 [00:08<00:00,  4.35it/s]\n",
      "100%|██████████| 9/9 [00:01<00:00,  8.39it/s]\n",
      "100%|██████████| 36/36 [00:04<00:00,  8.48it/s]\n"
     ]
    },
    {
     "name": "stdout",
     "output_type": "stream",
     "text": [
      "epoch: 63, f1_val: 0.715574206990102, f1_train: 0.9622937407518264\n"
     ]
    },
    {
     "name": "stderr",
     "output_type": "stream",
     "text": [
      "100%|██████████| 36/36 [00:08<00:00,  4.35it/s]\n",
      "100%|██████████| 9/9 [00:01<00:00,  8.54it/s]\n",
      "100%|██████████| 36/36 [00:04<00:00,  8.58it/s]\n"
     ]
    },
    {
     "name": "stdout",
     "output_type": "stream",
     "text": [
      "epoch: 64, f1_val: 0.7178095523582931, f1_train: 0.9595216696373464\n"
     ]
    },
    {
     "name": "stderr",
     "output_type": "stream",
     "text": [
      "100%|██████████| 36/36 [00:08<00:00,  4.35it/s]\n",
      "100%|██████████| 9/9 [00:01<00:00,  8.59it/s]\n",
      "100%|██████████| 36/36 [00:04<00:00,  8.57it/s]\n"
     ]
    },
    {
     "name": "stdout",
     "output_type": "stream",
     "text": [
      "epoch: 65, f1_val: 0.697736171451433, f1_train: 0.9597507416933747\n"
     ]
    },
    {
     "name": "stderr",
     "output_type": "stream",
     "text": [
      "100%|██████████| 36/36 [00:08<00:00,  4.36it/s]\n",
      "100%|██████████| 9/9 [00:01<00:00,  8.56it/s]\n",
      "100%|██████████| 36/36 [00:04<00:00,  8.61it/s]\n"
     ]
    },
    {
     "name": "stdout",
     "output_type": "stream",
     "text": [
      "epoch: 66, f1_val: 0.7000015603568183, f1_train: 0.9587370364990696\n"
     ]
    },
    {
     "name": "stderr",
     "output_type": "stream",
     "text": [
      "100%|██████████| 36/36 [00:08<00:00,  4.36it/s]\n",
      "100%|██████████| 9/9 [00:01<00:00,  8.56it/s]\n",
      "100%|██████████| 36/36 [00:04<00:00,  8.56it/s]\n"
     ]
    },
    {
     "name": "stdout",
     "output_type": "stream",
     "text": [
      "epoch: 67, f1_val: 0.710482786460861, f1_train: 0.9579944592635175\n"
     ]
    },
    {
     "name": "stderr",
     "output_type": "stream",
     "text": [
      "100%|██████████| 36/36 [00:08<00:00,  4.36it/s]\n",
      "100%|██████████| 9/9 [00:01<00:00,  8.53it/s]\n",
      "100%|██████████| 36/36 [00:04<00:00,  8.57it/s]\n"
     ]
    },
    {
     "name": "stdout",
     "output_type": "stream",
     "text": [
      "epoch: 68, f1_val: 0.7195213598742072, f1_train: 0.9621367653971042\n"
     ]
    },
    {
     "name": "stderr",
     "output_type": "stream",
     "text": [
      "100%|██████████| 36/36 [00:08<00:00,  4.36it/s]\n",
      "100%|██████████| 9/9 [00:01<00:00,  8.53it/s]\n",
      "100%|██████████| 36/36 [00:04<00:00,  8.60it/s]\n"
     ]
    },
    {
     "name": "stdout",
     "output_type": "stream",
     "text": [
      "epoch: 69, f1_val: 0.705406045650666, f1_train: 0.9612194762653896\n"
     ]
    },
    {
     "name": "stderr",
     "output_type": "stream",
     "text": [
      "100%|██████████| 36/36 [00:08<00:00,  4.36it/s]\n",
      "100%|██████████| 9/9 [00:01<00:00,  8.55it/s]\n",
      "100%|██████████| 36/36 [00:04<00:00,  8.57it/s]\n"
     ]
    },
    {
     "name": "stdout",
     "output_type": "stream",
     "text": [
      "epoch: 70, f1_val: 0.7286321702168385, f1_train: 0.9600358202554532\n"
     ]
    },
    {
     "name": "stderr",
     "output_type": "stream",
     "text": [
      "100%|██████████| 36/36 [00:08<00:00,  4.32it/s]\n",
      "100%|██████████| 9/9 [00:01<00:00,  6.28it/s]\n",
      "100%|██████████| 36/36 [00:05<00:00,  6.21it/s]\n"
     ]
    },
    {
     "name": "stdout",
     "output_type": "stream",
     "text": [
      "epoch: 71, f1_val: 0.725396984094941, f1_train: 0.9646457557363181\n"
     ]
    },
    {
     "name": "stderr",
     "output_type": "stream",
     "text": [
      "100%|██████████| 36/36 [00:08<00:00,  4.25it/s]\n",
      "100%|██████████| 9/9 [00:01<00:00,  6.51it/s]\n",
      "100%|██████████| 36/36 [00:05<00:00,  6.17it/s]\n"
     ]
    },
    {
     "name": "stdout",
     "output_type": "stream",
     "text": [
      "epoch: 72, f1_val: 0.7200019173325957, f1_train: 0.9644221547762946\n"
     ]
    },
    {
     "name": "stderr",
     "output_type": "stream",
     "text": [
      "100%|██████████| 36/36 [00:08<00:00,  4.25it/s]\n",
      "100%|██████████| 9/9 [00:01<00:00,  6.29it/s]\n",
      "100%|██████████| 36/36 [00:05<00:00,  6.22it/s]\n"
     ]
    },
    {
     "name": "stdout",
     "output_type": "stream",
     "text": [
      "epoch: 73, f1_val: 0.711291305119732, f1_train: 0.9651256601563899\n"
     ]
    },
    {
     "name": "stderr",
     "output_type": "stream",
     "text": [
      "100%|██████████| 36/36 [00:08<00:00,  4.23it/s]\n",
      "100%|██████████| 9/9 [00:01<00:00,  6.26it/s]\n",
      "100%|██████████| 36/36 [00:05<00:00,  6.20it/s]\n"
     ]
    },
    {
     "name": "stdout",
     "output_type": "stream",
     "text": [
      "epoch: 74, f1_val: 0.7120534707115728, f1_train: 0.9598195937804398\n"
     ]
    },
    {
     "name": "stderr",
     "output_type": "stream",
     "text": [
      "100%|██████████| 36/36 [00:08<00:00,  4.23it/s]\n",
      "100%|██████████| 9/9 [00:01<00:00,  6.09it/s]\n",
      "100%|██████████| 36/36 [00:05<00:00,  6.23it/s]\n"
     ]
    },
    {
     "name": "stdout",
     "output_type": "stream",
     "text": [
      "epoch: 75, f1_val: 0.712372041257694, f1_train: 0.9629576646273299\n"
     ]
    },
    {
     "name": "stderr",
     "output_type": "stream",
     "text": [
      "100%|██████████| 36/36 [00:08<00:00,  4.16it/s]\n",
      "100%|██████████| 9/9 [00:01<00:00,  6.15it/s]\n",
      "100%|██████████| 36/36 [00:05<00:00,  6.19it/s]\n"
     ]
    },
    {
     "name": "stdout",
     "output_type": "stream",
     "text": [
      "epoch: 76, f1_val: 0.7176862307513353, f1_train: 0.9677357488434174\n"
     ]
    },
    {
     "name": "stderr",
     "output_type": "stream",
     "text": [
      "100%|██████████| 36/36 [00:08<00:00,  4.24it/s]\n",
      "100%|██████████| 9/9 [00:01<00:00,  6.34it/s]\n",
      "100%|██████████| 36/36 [00:05<00:00,  6.24it/s]\n"
     ]
    },
    {
     "name": "stdout",
     "output_type": "stream",
     "text": [
      "epoch: 77, f1_val: 0.7158663984955541, f1_train: 0.9693036452924648\n"
     ]
    },
    {
     "name": "stderr",
     "output_type": "stream",
     "text": [
      "100%|██████████| 36/36 [00:08<00:00,  4.24it/s]\n",
      "100%|██████████| 9/9 [00:01<00:00,  6.26it/s]\n",
      "100%|██████████| 36/36 [00:05<00:00,  6.23it/s]\n"
     ]
    },
    {
     "name": "stdout",
     "output_type": "stream",
     "text": [
      "epoch: 78, f1_val: 0.7174238853484771, f1_train: 0.9679394949162251\n"
     ]
    },
    {
     "name": "stderr",
     "output_type": "stream",
     "text": [
      "100%|██████████| 36/36 [00:08<00:00,  4.25it/s]\n",
      "100%|██████████| 9/9 [00:01<00:00,  6.26it/s]\n",
      "100%|██████████| 36/36 [00:05<00:00,  6.25it/s]\n"
     ]
    },
    {
     "name": "stdout",
     "output_type": "stream",
     "text": [
      "epoch: 79, f1_val: 0.7200752195863268, f1_train: 0.9648825520748456\n"
     ]
    },
    {
     "name": "stderr",
     "output_type": "stream",
     "text": [
      "100%|██████████| 36/36 [00:08<00:00,  4.24it/s]\n",
      "100%|██████████| 9/9 [00:01<00:00,  6.24it/s]\n",
      "100%|██████████| 36/36 [00:05<00:00,  6.23it/s]\n"
     ]
    },
    {
     "name": "stdout",
     "output_type": "stream",
     "text": [
      "epoch: 80, f1_val: 0.7135206802272787, f1_train: 0.9673469050179527\n"
     ]
    },
    {
     "name": "stderr",
     "output_type": "stream",
     "text": [
      "100%|██████████| 36/36 [00:08<00:00,  4.24it/s]\n",
      "100%|██████████| 9/9 [00:01<00:00,  6.29it/s]\n",
      "100%|██████████| 36/36 [00:05<00:00,  6.23it/s]\n"
     ]
    },
    {
     "name": "stdout",
     "output_type": "stream",
     "text": [
      "epoch: 81, f1_val: 0.7096454465906226, f1_train: 0.9651265674124835\n"
     ]
    },
    {
     "name": "stderr",
     "output_type": "stream",
     "text": [
      "100%|██████████| 36/36 [00:08<00:00,  4.25it/s]\n",
      "100%|██████████| 9/9 [00:01<00:00,  6.43it/s]\n",
      "100%|██████████| 36/36 [00:05<00:00,  6.28it/s]\n"
     ]
    },
    {
     "name": "stdout",
     "output_type": "stream",
     "text": [
      "epoch: 82, f1_val: 0.7179245221839436, f1_train: 0.9675546247745933\n"
     ]
    },
    {
     "name": "stderr",
     "output_type": "stream",
     "text": [
      "100%|██████████| 36/36 [00:08<00:00,  4.25it/s]\n",
      "100%|██████████| 9/9 [00:01<00:00,  6.10it/s]\n",
      "100%|██████████| 36/36 [00:05<00:00,  6.28it/s]\n"
     ]
    },
    {
     "name": "stdout",
     "output_type": "stream",
     "text": [
      "epoch: 83, f1_val: 0.7068156027933222, f1_train: 0.9657300729710597\n"
     ]
    },
    {
     "name": "stderr",
     "output_type": "stream",
     "text": [
      "100%|██████████| 36/36 [00:08<00:00,  4.25it/s]\n",
      "100%|██████████| 9/9 [00:01<00:00,  6.32it/s]\n",
      "100%|██████████| 36/36 [00:05<00:00,  6.26it/s]\n"
     ]
    },
    {
     "name": "stdout",
     "output_type": "stream",
     "text": [
      "epoch: 84, f1_val: 0.7045516390433688, f1_train: 0.964620823155731\n"
     ]
    },
    {
     "name": "stderr",
     "output_type": "stream",
     "text": [
      "100%|██████████| 36/36 [00:08<00:00,  4.11it/s]\n",
      "100%|██████████| 9/9 [00:01<00:00,  6.16it/s]\n",
      "100%|██████████| 36/36 [00:05<00:00,  6.25it/s]\n"
     ]
    },
    {
     "name": "stdout",
     "output_type": "stream",
     "text": [
      "epoch: 85, f1_val: 0.6977963116817131, f1_train: 0.9634409691231451\n"
     ]
    },
    {
     "name": "stderr",
     "output_type": "stream",
     "text": [
      "100%|██████████| 36/36 [00:08<00:00,  4.25it/s]\n",
      "100%|██████████| 9/9 [00:01<00:00,  6.35it/s]\n",
      "100%|██████████| 36/36 [00:05<00:00,  6.25it/s]\n"
     ]
    },
    {
     "name": "stdout",
     "output_type": "stream",
     "text": [
      "epoch: 86, f1_val: 0.713692541320407, f1_train: 0.962766711317994\n"
     ]
    },
    {
     "name": "stderr",
     "output_type": "stream",
     "text": [
      "100%|██████████| 36/36 [00:08<00:00,  4.24it/s]\n",
      "100%|██████████| 9/9 [00:01<00:00,  6.10it/s]\n",
      "100%|██████████| 36/36 [00:05<00:00,  6.25it/s]\n"
     ]
    },
    {
     "name": "stdout",
     "output_type": "stream",
     "text": [
      "epoch: 87, f1_val: 0.7114933853152589, f1_train: 0.9598478275148856\n"
     ]
    },
    {
     "name": "stderr",
     "output_type": "stream",
     "text": [
      "100%|██████████| 36/36 [00:08<00:00,  4.25it/s]\n",
      "100%|██████████| 9/9 [00:01<00:00,  6.63it/s]\n",
      "100%|██████████| 36/36 [00:05<00:00,  6.21it/s]\n"
     ]
    },
    {
     "name": "stdout",
     "output_type": "stream",
     "text": [
      "epoch: 88, f1_val: 0.718962299553958, f1_train: 0.96545629897398\n"
     ]
    },
    {
     "name": "stderr",
     "output_type": "stream",
     "text": [
      "100%|██████████| 36/36 [00:08<00:00,  4.25it/s]\n",
      "100%|██████████| 9/9 [00:01<00:00,  6.33it/s]\n",
      "100%|██████████| 36/36 [00:05<00:00,  6.20it/s]\n"
     ]
    },
    {
     "name": "stdout",
     "output_type": "stream",
     "text": [
      "epoch: 89, f1_val: 0.7014557200115173, f1_train: 0.9625573095709791\n"
     ]
    },
    {
     "name": "stderr",
     "output_type": "stream",
     "text": [
      "100%|██████████| 36/36 [00:08<00:00,  4.24it/s]\n",
      "100%|██████████| 9/9 [00:01<00:00,  6.35it/s]\n",
      "100%|██████████| 36/36 [00:05<00:00,  6.25it/s]\n"
     ]
    },
    {
     "name": "stdout",
     "output_type": "stream",
     "text": [
      "epoch: 90, f1_val: 0.7217841404164062, f1_train: 0.9641731372363871\n"
     ]
    },
    {
     "name": "stderr",
     "output_type": "stream",
     "text": [
      "100%|██████████| 36/36 [00:08<00:00,  4.23it/s]\n",
      "100%|██████████| 9/9 [00:01<00:00,  6.33it/s]\n",
      "100%|██████████| 36/36 [00:05<00:00,  6.29it/s]\n"
     ]
    },
    {
     "name": "stdout",
     "output_type": "stream",
     "text": [
      "epoch: 91, f1_val: 0.7150379242718591, f1_train: 0.9594075433496821\n"
     ]
    },
    {
     "name": "stderr",
     "output_type": "stream",
     "text": [
      "100%|██████████| 36/36 [00:08<00:00,  4.23it/s]\n",
      "100%|██████████| 9/9 [00:01<00:00,  6.31it/s]\n",
      "100%|██████████| 36/36 [00:05<00:00,  6.29it/s]\n"
     ]
    },
    {
     "name": "stdout",
     "output_type": "stream",
     "text": [
      "epoch: 92, f1_val: 0.7097864889963903, f1_train: 0.9631225861577266\n"
     ]
    },
    {
     "name": "stderr",
     "output_type": "stream",
     "text": [
      "100%|██████████| 36/36 [00:08<00:00,  4.24it/s]\n",
      "100%|██████████| 9/9 [00:01<00:00,  6.30it/s]\n",
      "100%|██████████| 36/36 [00:05<00:00,  6.28it/s]\n"
     ]
    },
    {
     "name": "stdout",
     "output_type": "stream",
     "text": [
      "epoch: 93, f1_val: 0.7037298566517658, f1_train: 0.9598126294337246\n"
     ]
    },
    {
     "name": "stderr",
     "output_type": "stream",
     "text": [
      "100%|██████████| 36/36 [00:08<00:00,  4.24it/s]\n",
      "100%|██████████| 9/9 [00:01<00:00,  6.33it/s]\n",
      "100%|██████████| 36/36 [00:05<00:00,  6.21it/s]\n"
     ]
    },
    {
     "name": "stdout",
     "output_type": "stream",
     "text": [
      "epoch: 94, f1_val: 0.7075406662527125, f1_train: 0.9653703760414583\n"
     ]
    },
    {
     "name": "stderr",
     "output_type": "stream",
     "text": [
      "100%|██████████| 36/36 [00:08<00:00,  4.25it/s]\n",
      "100%|██████████| 9/9 [00:01<00:00,  6.39it/s]\n",
      "100%|██████████| 36/36 [00:05<00:00,  6.24it/s]\n"
     ]
    },
    {
     "name": "stdout",
     "output_type": "stream",
     "text": [
      "epoch: 95, f1_val: 0.7072667546000281, f1_train: 0.9612248914134245\n"
     ]
    },
    {
     "name": "stderr",
     "output_type": "stream",
     "text": [
      "100%|██████████| 36/36 [00:08<00:00,  4.25it/s]\n",
      "100%|██████████| 9/9 [00:01<00:00,  6.21it/s]\n",
      "100%|██████████| 36/36 [00:05<00:00,  6.22it/s]\n"
     ]
    },
    {
     "name": "stdout",
     "output_type": "stream",
     "text": [
      "epoch: 96, f1_val: 0.7076195999164101, f1_train: 0.9657491852572178\n"
     ]
    },
    {
     "name": "stderr",
     "output_type": "stream",
     "text": [
      "100%|██████████| 36/36 [00:08<00:00,  4.23it/s]\n",
      "100%|██████████| 9/9 [00:01<00:00,  6.32it/s]\n",
      "100%|██████████| 36/36 [00:05<00:00,  6.23it/s]\n"
     ]
    },
    {
     "name": "stdout",
     "output_type": "stream",
     "text": [
      "epoch: 97, f1_val: 0.7071719720581426, f1_train: 0.9560254046400183\n"
     ]
    },
    {
     "name": "stderr",
     "output_type": "stream",
     "text": [
      "100%|██████████| 36/36 [00:08<00:00,  4.24it/s]\n",
      "100%|██████████| 9/9 [00:01<00:00,  6.30it/s]\n",
      "100%|██████████| 36/36 [00:05<00:00,  6.23it/s]\n"
     ]
    },
    {
     "name": "stdout",
     "output_type": "stream",
     "text": [
      "epoch: 98, f1_val: 0.7050701603005445, f1_train: 0.9672088547991974\n"
     ]
    },
    {
     "name": "stderr",
     "output_type": "stream",
     "text": [
      "100%|██████████| 36/36 [00:08<00:00,  4.25it/s]\n",
      "100%|██████████| 9/9 [00:01<00:00,  6.21it/s]\n",
      "100%|██████████| 36/36 [00:05<00:00,  6.17it/s]\n",
      "C:\\ProgramData\\Anaconda3\\envs\\nlp-env\\lib\\site-packages\\torchaudio\\functional\\functional.py:584: UserWarning: At least one mel filterbank has all zero values. The value for `n_mels` (128) may be set too high. Or, the value for `n_freqs` (201) may be set too low.\n",
      "  warnings.warn(\n"
     ]
    },
    {
     "name": "stdout",
     "output_type": "stream",
     "text": [
      "epoch: 99, f1_val: 0.7219953806727041, f1_train: 0.9672174047464056\n",
      "Best F1 on validation: 0.7286321702168385\n",
      "Loaded pretrained weights for efficientnet-b0\n"
     ]
    },
    {
     "name": "stderr",
     "output_type": "stream",
     "text": [
      "100%|██████████| 36/36 [00:08<00:00,  4.23it/s]\n",
      "100%|██████████| 9/9 [00:01<00:00,  6.14it/s]\n",
      "100%|██████████| 36/36 [00:05<00:00,  6.22it/s]\n"
     ]
    },
    {
     "name": "stdout",
     "output_type": "stream",
     "text": [
      "epoch: 0, f1_val: 0.11667727093703559, f1_train: 0.11784003600729524\n"
     ]
    },
    {
     "name": "stderr",
     "output_type": "stream",
     "text": [
      "100%|██████████| 36/36 [00:08<00:00,  4.27it/s]\n",
      "100%|██████████| 9/9 [00:01<00:00,  6.10it/s]\n",
      "100%|██████████| 36/36 [00:05<00:00,  6.14it/s]\n"
     ]
    },
    {
     "name": "stdout",
     "output_type": "stream",
     "text": [
      "epoch: 1, f1_val: 0.20429513790892304, f1_train: 0.2253248467940926\n"
     ]
    },
    {
     "name": "stderr",
     "output_type": "stream",
     "text": [
      "100%|██████████| 36/36 [00:08<00:00,  4.21it/s]\n",
      "100%|██████████| 9/9 [00:01<00:00,  6.30it/s]\n",
      "100%|██████████| 36/36 [00:05<00:00,  6.26it/s]\n"
     ]
    },
    {
     "name": "stdout",
     "output_type": "stream",
     "text": [
      "epoch: 2, f1_val: 0.23746901645307647, f1_train: 0.27212169266354413\n"
     ]
    },
    {
     "name": "stderr",
     "output_type": "stream",
     "text": [
      "100%|██████████| 36/36 [00:08<00:00,  4.25it/s]\n",
      "100%|██████████| 9/9 [00:01<00:00,  8.31it/s]\n",
      "100%|██████████| 36/36 [00:04<00:00,  8.36it/s]\n"
     ]
    },
    {
     "name": "stdout",
     "output_type": "stream",
     "text": [
      "epoch: 3, f1_val: 0.29168520278251553, f1_train: 0.32525286506258927\n"
     ]
    },
    {
     "name": "stderr",
     "output_type": "stream",
     "text": [
      "100%|██████████| 36/36 [00:08<00:00,  4.27it/s]\n",
      "100%|██████████| 9/9 [00:01<00:00,  8.13it/s]\n",
      "100%|██████████| 36/36 [00:04<00:00,  8.24it/s]\n"
     ]
    },
    {
     "name": "stdout",
     "output_type": "stream",
     "text": [
      "epoch: 4, f1_val: 0.2880281770800546, f1_train: 0.3177300310469419\n"
     ]
    },
    {
     "name": "stderr",
     "output_type": "stream",
     "text": [
      "100%|██████████| 36/36 [00:08<00:00,  4.25it/s]\n",
      "100%|██████████| 9/9 [00:01<00:00,  8.21it/s]\n",
      "100%|██████████| 36/36 [00:04<00:00,  8.34it/s]\n"
     ]
    },
    {
     "name": "stdout",
     "output_type": "stream",
     "text": [
      "epoch: 5, f1_val: 0.3480724206952053, f1_train: 0.3820860766040672\n"
     ]
    },
    {
     "name": "stderr",
     "output_type": "stream",
     "text": [
      "100%|██████████| 36/36 [00:08<00:00,  4.27it/s]\n",
      "100%|██████████| 9/9 [00:01<00:00,  8.29it/s]\n",
      "100%|██████████| 36/36 [00:04<00:00,  8.42it/s]\n"
     ]
    },
    {
     "name": "stdout",
     "output_type": "stream",
     "text": [
      "epoch: 6, f1_val: 0.40572118279403774, f1_train: 0.4550736304981316\n"
     ]
    },
    {
     "name": "stderr",
     "output_type": "stream",
     "text": [
      "100%|██████████| 36/36 [00:08<00:00,  4.29it/s]\n",
      "100%|██████████| 9/9 [00:01<00:00,  8.19it/s]\n",
      "100%|██████████| 36/36 [00:04<00:00,  8.36it/s]\n"
     ]
    },
    {
     "name": "stdout",
     "output_type": "stream",
     "text": [
      "epoch: 7, f1_val: 0.37312168514924415, f1_train: 0.4299893869180632\n"
     ]
    },
    {
     "name": "stderr",
     "output_type": "stream",
     "text": [
      "100%|██████████| 36/36 [00:08<00:00,  4.13it/s]\n",
      "100%|██████████| 9/9 [00:01<00:00,  8.08it/s]\n",
      "100%|██████████| 36/36 [00:04<00:00,  8.32it/s]\n"
     ]
    },
    {
     "name": "stdout",
     "output_type": "stream",
     "text": [
      "epoch: 8, f1_val: 0.3694963685231545, f1_train: 0.45760447299553264\n"
     ]
    },
    {
     "name": "stderr",
     "output_type": "stream",
     "text": [
      "100%|██████████| 36/36 [00:08<00:00,  4.15it/s]\n",
      "100%|██████████| 9/9 [00:01<00:00,  7.92it/s]\n",
      "100%|██████████| 36/36 [00:04<00:00,  8.18it/s]\n"
     ]
    },
    {
     "name": "stdout",
     "output_type": "stream",
     "text": [
      "epoch: 9, f1_val: 0.4121130259324888, f1_train: 0.48587418182505016\n"
     ]
    },
    {
     "name": "stderr",
     "output_type": "stream",
     "text": [
      "100%|██████████| 36/36 [00:08<00:00,  4.18it/s]\n",
      "100%|██████████| 9/9 [00:01<00:00,  8.12it/s]\n",
      "100%|██████████| 36/36 [00:04<00:00,  8.29it/s]\n"
     ]
    },
    {
     "name": "stdout",
     "output_type": "stream",
     "text": [
      "epoch: 10, f1_val: 0.4176673468928008, f1_train: 0.4978246546675902\n"
     ]
    },
    {
     "name": "stderr",
     "output_type": "stream",
     "text": [
      "100%|██████████| 36/36 [00:08<00:00,  4.21it/s]\n",
      "100%|██████████| 9/9 [00:01<00:00,  8.01it/s]\n",
      "100%|██████████| 36/36 [00:04<00:00,  8.17it/s]\n"
     ]
    },
    {
     "name": "stdout",
     "output_type": "stream",
     "text": [
      "epoch: 11, f1_val: 0.454186980320542, f1_train: 0.5629314848440383\n"
     ]
    },
    {
     "name": "stderr",
     "output_type": "stream",
     "text": [
      "100%|██████████| 36/36 [00:08<00:00,  4.16it/s]\n",
      "100%|██████████| 9/9 [00:01<00:00,  7.98it/s]\n",
      "100%|██████████| 36/36 [00:04<00:00,  8.13it/s]\n"
     ]
    },
    {
     "name": "stdout",
     "output_type": "stream",
     "text": [
      "epoch: 12, f1_val: 0.49717741812485505, f1_train: 0.6246099115365826\n"
     ]
    },
    {
     "name": "stderr",
     "output_type": "stream",
     "text": [
      "100%|██████████| 36/36 [00:08<00:00,  4.18it/s]\n",
      "100%|██████████| 9/9 [00:01<00:00,  8.10it/s]\n",
      "100%|██████████| 36/36 [00:04<00:00,  8.28it/s]\n"
     ]
    },
    {
     "name": "stdout",
     "output_type": "stream",
     "text": [
      "epoch: 13, f1_val: 0.4852980473160033, f1_train: 0.6003408227534226\n"
     ]
    },
    {
     "name": "stderr",
     "output_type": "stream",
     "text": [
      "100%|██████████| 36/36 [00:08<00:00,  4.25it/s]\n",
      "100%|██████████| 9/9 [00:01<00:00,  8.15it/s]\n",
      "100%|██████████| 36/36 [00:04<00:00,  8.38it/s]\n"
     ]
    },
    {
     "name": "stdout",
     "output_type": "stream",
     "text": [
      "epoch: 14, f1_val: 0.5579845431721983, f1_train: 0.6839618918113581\n"
     ]
    },
    {
     "name": "stderr",
     "output_type": "stream",
     "text": [
      "100%|██████████| 36/36 [00:08<00:00,  4.26it/s]\n",
      "100%|██████████| 9/9 [00:01<00:00,  8.19it/s]\n",
      "100%|██████████| 36/36 [00:04<00:00,  8.35it/s]\n"
     ]
    },
    {
     "name": "stdout",
     "output_type": "stream",
     "text": [
      "epoch: 15, f1_val: 0.5475753372364249, f1_train: 0.6842173862218541\n"
     ]
    },
    {
     "name": "stderr",
     "output_type": "stream",
     "text": [
      "100%|██████████| 36/36 [00:08<00:00,  4.30it/s]\n",
      "100%|██████████| 9/9 [00:01<00:00,  8.18it/s]\n",
      "100%|██████████| 36/36 [00:04<00:00,  8.40it/s]\n"
     ]
    },
    {
     "name": "stdout",
     "output_type": "stream",
     "text": [
      "epoch: 16, f1_val: 0.6358133364806438, f1_train: 0.8057923957353929\n"
     ]
    },
    {
     "name": "stderr",
     "output_type": "stream",
     "text": [
      "100%|██████████| 36/36 [00:08<00:00,  4.30it/s]\n",
      "100%|██████████| 9/9 [00:01<00:00,  8.17it/s]\n",
      "100%|██████████| 36/36 [00:04<00:00,  8.38it/s]\n"
     ]
    },
    {
     "name": "stdout",
     "output_type": "stream",
     "text": [
      "epoch: 17, f1_val: 0.561168419282711, f1_train: 0.7209241456348408\n"
     ]
    },
    {
     "name": "stderr",
     "output_type": "stream",
     "text": [
      "100%|██████████| 36/36 [00:08<00:00,  4.30it/s]\n",
      "100%|██████████| 9/9 [00:01<00:00,  8.21it/s]\n",
      "100%|██████████| 36/36 [00:04<00:00,  8.37it/s]\n"
     ]
    },
    {
     "name": "stdout",
     "output_type": "stream",
     "text": [
      "epoch: 18, f1_val: 0.5736633685600739, f1_train: 0.7696590512402748\n"
     ]
    },
    {
     "name": "stderr",
     "output_type": "stream",
     "text": [
      "100%|██████████| 36/36 [00:08<00:00,  4.29it/s]\n",
      "100%|██████████| 9/9 [00:01<00:00,  8.20it/s]\n",
      "100%|██████████| 36/36 [00:04<00:00,  8.41it/s]\n"
     ]
    },
    {
     "name": "stdout",
     "output_type": "stream",
     "text": [
      "epoch: 19, f1_val: 0.6646681299324756, f1_train: 0.8433027583960517\n"
     ]
    },
    {
     "name": "stderr",
     "output_type": "stream",
     "text": [
      "100%|██████████| 36/36 [00:08<00:00,  4.26it/s]\n",
      "100%|██████████| 9/9 [00:01<00:00,  8.09it/s]\n",
      "100%|██████████| 36/36 [00:04<00:00,  7.45it/s]\n"
     ]
    },
    {
     "name": "stdout",
     "output_type": "stream",
     "text": [
      "epoch: 20, f1_val: 0.5827616864594023, f1_train: 0.7470415211443805\n"
     ]
    },
    {
     "name": "stderr",
     "output_type": "stream",
     "text": [
      "100%|██████████| 36/36 [00:08<00:00,  4.23it/s]\n",
      "100%|██████████| 9/9 [00:01<00:00,  6.17it/s]\n",
      "100%|██████████| 36/36 [00:05<00:00,  6.22it/s]\n"
     ]
    },
    {
     "name": "stdout",
     "output_type": "stream",
     "text": [
      "epoch: 21, f1_val: 0.6321069165350095, f1_train: 0.8134821438593876\n"
     ]
    },
    {
     "name": "stderr",
     "output_type": "stream",
     "text": [
      "100%|██████████| 36/36 [00:08<00:00,  4.21it/s]\n",
      "100%|██████████| 9/9 [00:01<00:00,  6.40it/s]\n",
      "100%|██████████| 36/36 [00:05<00:00,  6.18it/s]\n"
     ]
    },
    {
     "name": "stdout",
     "output_type": "stream",
     "text": [
      "epoch: 22, f1_val: 0.614699492135195, f1_train: 0.801361611927026\n"
     ]
    },
    {
     "name": "stderr",
     "output_type": "stream",
     "text": [
      "100%|██████████| 36/36 [00:08<00:00,  4.25it/s]\n",
      "100%|██████████| 9/9 [00:01<00:00,  6.38it/s]\n",
      "100%|██████████| 36/36 [00:05<00:00,  6.18it/s]\n"
     ]
    },
    {
     "name": "stdout",
     "output_type": "stream",
     "text": [
      "epoch: 23, f1_val: 0.6613930616954347, f1_train: 0.8753205452777922\n"
     ]
    },
    {
     "name": "stderr",
     "output_type": "stream",
     "text": [
      "100%|██████████| 36/36 [00:08<00:00,  4.22it/s]\n",
      "100%|██████████| 9/9 [00:01<00:00,  6.35it/s]\n",
      "100%|██████████| 36/36 [00:05<00:00,  6.25it/s]\n"
     ]
    },
    {
     "name": "stdout",
     "output_type": "stream",
     "text": [
      "epoch: 24, f1_val: 0.6242272768977272, f1_train: 0.8283419646717711\n"
     ]
    },
    {
     "name": "stderr",
     "output_type": "stream",
     "text": [
      "100%|██████████| 36/36 [00:08<00:00,  4.21it/s]\n",
      "100%|██████████| 9/9 [00:01<00:00,  6.26it/s]\n",
      "100%|██████████| 36/36 [00:06<00:00,  5.98it/s]\n"
     ]
    },
    {
     "name": "stdout",
     "output_type": "stream",
     "text": [
      "epoch: 25, f1_val: 0.6456096101871045, f1_train: 0.843400883051179\n"
     ]
    },
    {
     "name": "stderr",
     "output_type": "stream",
     "text": [
      "100%|██████████| 36/36 [00:08<00:00,  4.22it/s]\n",
      "100%|██████████| 9/9 [00:01<00:00,  5.05it/s]\n",
      "100%|██████████| 36/36 [00:04<00:00,  7.21it/s]\n"
     ]
    },
    {
     "name": "stdout",
     "output_type": "stream",
     "text": [
      "epoch: 26, f1_val: 0.6426530066029661, f1_train: 0.8564950794890843\n"
     ]
    },
    {
     "name": "stderr",
     "output_type": "stream",
     "text": [
      "100%|██████████| 36/36 [00:08<00:00,  4.19it/s]\n",
      "100%|██████████| 9/9 [00:01<00:00,  8.28it/s]\n",
      "100%|██████████| 36/36 [00:04<00:00,  8.32it/s]\n"
     ]
    },
    {
     "name": "stdout",
     "output_type": "stream",
     "text": [
      "epoch: 27, f1_val: 0.676339599485568, f1_train: 0.8914050554330883\n"
     ]
    },
    {
     "name": "stderr",
     "output_type": "stream",
     "text": [
      "100%|██████████| 36/36 [00:08<00:00,  4.29it/s]\n",
      "100%|██████████| 9/9 [00:01<00:00,  8.26it/s]\n",
      "100%|██████████| 36/36 [00:04<00:00,  8.43it/s]\n"
     ]
    },
    {
     "name": "stdout",
     "output_type": "stream",
     "text": [
      "epoch: 28, f1_val: 0.6530959656354249, f1_train: 0.8808901297844753\n"
     ]
    },
    {
     "name": "stderr",
     "output_type": "stream",
     "text": [
      "100%|██████████| 36/36 [00:08<00:00,  4.29it/s]\n",
      "100%|██████████| 9/9 [00:01<00:00,  8.30it/s]\n",
      "100%|██████████| 36/36 [00:04<00:00,  8.43it/s]\n"
     ]
    },
    {
     "name": "stdout",
     "output_type": "stream",
     "text": [
      "epoch: 29, f1_val: 0.5751384910094516, f1_train: 0.7587714317086952\n"
     ]
    },
    {
     "name": "stderr",
     "output_type": "stream",
     "text": [
      "100%|██████████| 36/36 [00:08<00:00,  4.29it/s]\n",
      "100%|██████████| 9/9 [00:01<00:00,  8.24it/s]\n",
      "100%|██████████| 36/36 [00:04<00:00,  8.41it/s]\n"
     ]
    },
    {
     "name": "stdout",
     "output_type": "stream",
     "text": [
      "epoch: 30, f1_val: 0.5440103839881885, f1_train: 0.7239239577716143\n"
     ]
    },
    {
     "name": "stderr",
     "output_type": "stream",
     "text": [
      "100%|██████████| 36/36 [00:08<00:00,  4.30it/s]\n",
      "100%|██████████| 9/9 [00:01<00:00,  8.07it/s]\n",
      "100%|██████████| 36/36 [00:04<00:00,  8.27it/s]\n"
     ]
    },
    {
     "name": "stdout",
     "output_type": "stream",
     "text": [
      "epoch: 31, f1_val: 0.6035311390621251, f1_train: 0.7906783304240781\n"
     ]
    },
    {
     "name": "stderr",
     "output_type": "stream",
     "text": [
      "100%|██████████| 36/36 [00:08<00:00,  4.27it/s]\n",
      "100%|██████████| 9/9 [00:01<00:00,  8.10it/s]\n",
      "100%|██████████| 36/36 [00:04<00:00,  8.42it/s]\n"
     ]
    },
    {
     "name": "stdout",
     "output_type": "stream",
     "text": [
      "epoch: 32, f1_val: 0.6302412633691836, f1_train: 0.8263867190064962\n"
     ]
    },
    {
     "name": "stderr",
     "output_type": "stream",
     "text": [
      "100%|██████████| 36/36 [00:08<00:00,  4.27it/s]\n",
      "100%|██████████| 9/9 [00:01<00:00,  8.28it/s]\n",
      "100%|██████████| 36/36 [00:04<00:00,  8.40it/s]\n"
     ]
    },
    {
     "name": "stdout",
     "output_type": "stream",
     "text": [
      "epoch: 33, f1_val: 0.6018145991022591, f1_train: 0.8028953355260597\n"
     ]
    },
    {
     "name": "stderr",
     "output_type": "stream",
     "text": [
      "100%|██████████| 36/36 [00:08<00:00,  4.28it/s]\n",
      "100%|██████████| 9/9 [00:01<00:00,  8.24it/s]\n",
      "100%|██████████| 36/36 [00:04<00:00,  8.43it/s]\n"
     ]
    },
    {
     "name": "stdout",
     "output_type": "stream",
     "text": [
      "epoch: 34, f1_val: 0.6034560579921462, f1_train: 0.8230579160089583\n"
     ]
    },
    {
     "name": "stderr",
     "output_type": "stream",
     "text": [
      "100%|██████████| 36/36 [00:08<00:00,  4.28it/s]\n",
      "100%|██████████| 9/9 [00:01<00:00,  8.17it/s]\n",
      "100%|██████████| 36/36 [00:04<00:00,  8.41it/s]\n"
     ]
    },
    {
     "name": "stdout",
     "output_type": "stream",
     "text": [
      "epoch: 35, f1_val: 0.663321912702719, f1_train: 0.888779485814023\n"
     ]
    },
    {
     "name": "stderr",
     "output_type": "stream",
     "text": [
      "100%|██████████| 36/36 [00:08<00:00,  4.26it/s]\n",
      "100%|██████████| 9/9 [00:01<00:00,  8.15it/s]\n",
      "100%|██████████| 36/36 [00:04<00:00,  8.37it/s]\n"
     ]
    },
    {
     "name": "stdout",
     "output_type": "stream",
     "text": [
      "epoch: 36, f1_val: 0.6662099778694649, f1_train: 0.8826410124338527\n"
     ]
    },
    {
     "name": "stderr",
     "output_type": "stream",
     "text": [
      "100%|██████████| 36/36 [00:08<00:00,  4.29it/s]\n",
      "100%|██████████| 9/9 [00:01<00:00,  8.29it/s]\n",
      "100%|██████████| 36/36 [00:04<00:00,  8.42it/s]\n"
     ]
    },
    {
     "name": "stdout",
     "output_type": "stream",
     "text": [
      "epoch: 37, f1_val: 0.6928900839340089, f1_train: 0.9074345854648098\n"
     ]
    },
    {
     "name": "stderr",
     "output_type": "stream",
     "text": [
      "100%|██████████| 36/36 [00:08<00:00,  4.29it/s]\n",
      "100%|██████████| 9/9 [00:01<00:00,  8.25it/s]\n",
      "100%|██████████| 36/36 [00:04<00:00,  8.41it/s]\n"
     ]
    },
    {
     "name": "stdout",
     "output_type": "stream",
     "text": [
      "epoch: 38, f1_val: 0.6778974496479662, f1_train: 0.8867998214172148\n"
     ]
    },
    {
     "name": "stderr",
     "output_type": "stream",
     "text": [
      "100%|██████████| 36/36 [00:08<00:00,  4.30it/s]\n",
      "100%|██████████| 9/9 [00:01<00:00,  8.28it/s]\n",
      "100%|██████████| 36/36 [00:04<00:00,  8.38it/s]\n"
     ]
    },
    {
     "name": "stdout",
     "output_type": "stream",
     "text": [
      "epoch: 39, f1_val: 0.6659500637962648, f1_train: 0.8774238884926587\n"
     ]
    },
    {
     "name": "stderr",
     "output_type": "stream",
     "text": [
      "100%|██████████| 36/36 [00:08<00:00,  4.30it/s]\n",
      "100%|██████████| 9/9 [00:01<00:00,  8.28it/s]\n",
      "100%|██████████| 36/36 [00:04<00:00,  8.44it/s]\n"
     ]
    },
    {
     "name": "stdout",
     "output_type": "stream",
     "text": [
      "epoch: 40, f1_val: 0.653969300103364, f1_train: 0.8854975283061083\n"
     ]
    },
    {
     "name": "stderr",
     "output_type": "stream",
     "text": [
      "100%|██████████| 36/36 [00:08<00:00,  4.28it/s]\n",
      "100%|██████████| 9/9 [00:01<00:00,  8.16it/s]\n",
      "100%|██████████| 36/36 [00:04<00:00,  8.34it/s]\n"
     ]
    },
    {
     "name": "stdout",
     "output_type": "stream",
     "text": [
      "epoch: 41, f1_val: 0.649775613735191, f1_train: 0.8822452276488774\n"
     ]
    },
    {
     "name": "stderr",
     "output_type": "stream",
     "text": [
      "100%|██████████| 36/36 [00:08<00:00,  4.22it/s]\n",
      "100%|██████████| 9/9 [00:01<00:00,  8.19it/s]\n",
      "100%|██████████| 36/36 [00:04<00:00,  8.40it/s]\n"
     ]
    },
    {
     "name": "stdout",
     "output_type": "stream",
     "text": [
      "epoch: 42, f1_val: 0.6739055711276342, f1_train: 0.8869130332471601\n"
     ]
    },
    {
     "name": "stderr",
     "output_type": "stream",
     "text": [
      "100%|██████████| 36/36 [00:08<00:00,  4.23it/s]\n",
      "100%|██████████| 9/9 [00:01<00:00,  7.86it/s]\n",
      "100%|██████████| 36/36 [00:04<00:00,  8.06it/s]\n"
     ]
    },
    {
     "name": "stdout",
     "output_type": "stream",
     "text": [
      "epoch: 43, f1_val: 0.6507641975664311, f1_train: 0.8944275842777565\n"
     ]
    },
    {
     "name": "stderr",
     "output_type": "stream",
     "text": [
      "100%|██████████| 36/36 [00:08<00:00,  4.06it/s]\n",
      "100%|██████████| 9/9 [00:01<00:00,  7.87it/s]\n",
      "100%|██████████| 36/36 [00:04<00:00,  8.05it/s]\n"
     ]
    },
    {
     "name": "stdout",
     "output_type": "stream",
     "text": [
      "epoch: 44, f1_val: 0.6719032993146971, f1_train: 0.8871961929848938\n"
     ]
    },
    {
     "name": "stderr",
     "output_type": "stream",
     "text": [
      "100%|██████████| 36/36 [00:08<00:00,  4.13it/s]\n",
      "100%|██████████| 9/9 [00:01<00:00,  8.05it/s]\n",
      "100%|██████████| 36/36 [00:04<00:00,  8.18it/s]\n"
     ]
    },
    {
     "name": "stdout",
     "output_type": "stream",
     "text": [
      "epoch: 45, f1_val: 0.6581529265002879, f1_train: 0.8918920420239714\n"
     ]
    },
    {
     "name": "stderr",
     "output_type": "stream",
     "text": [
      "100%|██████████| 36/36 [00:08<00:00,  4.19it/s]\n",
      "100%|██████████| 9/9 [00:01<00:00,  8.21it/s]\n",
      "100%|██████████| 36/36 [00:04<00:00,  8.29it/s]\n"
     ]
    },
    {
     "name": "stdout",
     "output_type": "stream",
     "text": [
      "epoch: 46, f1_val: 0.6989217127835318, f1_train: 0.897910819054422\n"
     ]
    },
    {
     "name": "stderr",
     "output_type": "stream",
     "text": [
      "100%|██████████| 36/36 [00:08<00:00,  4.22it/s]\n",
      "100%|██████████| 9/9 [00:01<00:00,  6.20it/s]\n",
      "100%|██████████| 36/36 [00:05<00:00,  6.24it/s]\n"
     ]
    },
    {
     "name": "stdout",
     "output_type": "stream",
     "text": [
      "epoch: 47, f1_val: 0.6803569818636442, f1_train: 0.8990127386470141\n"
     ]
    },
    {
     "name": "stderr",
     "output_type": "stream",
     "text": [
      "100%|██████████| 36/36 [00:08<00:00,  4.26it/s]\n",
      "100%|██████████| 9/9 [00:01<00:00,  6.22it/s]\n",
      "100%|██████████| 36/36 [00:05<00:00,  6.25it/s]\n"
     ]
    },
    {
     "name": "stdout",
     "output_type": "stream",
     "text": [
      "epoch: 48, f1_val: 0.6705545295243254, f1_train: 0.8977264331472053\n"
     ]
    },
    {
     "name": "stderr",
     "output_type": "stream",
     "text": [
      "100%|██████████| 36/36 [00:08<00:00,  4.24it/s]\n",
      "100%|██████████| 9/9 [00:01<00:00,  6.20it/s]\n",
      "100%|██████████| 36/36 [00:05<00:00,  6.22it/s]\n"
     ]
    },
    {
     "name": "stdout",
     "output_type": "stream",
     "text": [
      "epoch: 49, f1_val: 0.669756262913621, f1_train: 0.8991555617729198\n"
     ]
    },
    {
     "name": "stderr",
     "output_type": "stream",
     "text": [
      "100%|██████████| 36/36 [00:08<00:00,  4.24it/s]\n",
      "100%|██████████| 9/9 [00:01<00:00,  6.30it/s]\n",
      "100%|██████████| 36/36 [00:05<00:00,  6.22it/s]\n"
     ]
    },
    {
     "name": "stdout",
     "output_type": "stream",
     "text": [
      "epoch: 50, f1_val: 0.6739234665115688, f1_train: 0.8939049182885573\n"
     ]
    },
    {
     "name": "stderr",
     "output_type": "stream",
     "text": [
      "100%|██████████| 36/36 [00:08<00:00,  4.24it/s]\n",
      "100%|██████████| 9/9 [00:01<00:00,  6.33it/s]\n",
      "100%|██████████| 36/36 [00:05<00:00,  6.31it/s]\n"
     ]
    },
    {
     "name": "stdout",
     "output_type": "stream",
     "text": [
      "epoch: 51, f1_val: 0.6737258812307534, f1_train: 0.8959026592430381\n"
     ]
    },
    {
     "name": "stderr",
     "output_type": "stream",
     "text": [
      "100%|██████████| 36/36 [00:08<00:00,  4.24it/s]\n",
      "100%|██████████| 9/9 [00:01<00:00,  6.20it/s]\n",
      "100%|██████████| 36/36 [00:05<00:00,  6.26it/s]\n"
     ]
    },
    {
     "name": "stdout",
     "output_type": "stream",
     "text": [
      "epoch: 52, f1_val: 0.6697877842567586, f1_train: 0.884912227314201\n"
     ]
    },
    {
     "name": "stderr",
     "output_type": "stream",
     "text": [
      "100%|██████████| 36/36 [00:08<00:00,  4.26it/s]\n",
      "100%|██████████| 9/9 [00:01<00:00,  6.20it/s]\n",
      "100%|██████████| 36/36 [00:05<00:00,  6.29it/s]\n"
     ]
    },
    {
     "name": "stdout",
     "output_type": "stream",
     "text": [
      "epoch: 53, f1_val: 0.6600187798656981, f1_train: 0.8999447006161874\n"
     ]
    },
    {
     "name": "stderr",
     "output_type": "stream",
     "text": [
      "100%|██████████| 36/36 [00:08<00:00,  4.27it/s]\n",
      "100%|██████████| 9/9 [00:01<00:00,  6.23it/s]\n",
      "100%|██████████| 36/36 [00:05<00:00,  6.24it/s]\n"
     ]
    },
    {
     "name": "stdout",
     "output_type": "stream",
     "text": [
      "epoch: 54, f1_val: 0.695668460090436, f1_train: 0.8975707590574884\n"
     ]
    },
    {
     "name": "stderr",
     "output_type": "stream",
     "text": [
      "100%|██████████| 36/36 [00:08<00:00,  4.27it/s]\n",
      "100%|██████████| 9/9 [00:01<00:00,  6.21it/s]\n",
      "100%|██████████| 36/36 [00:05<00:00,  6.38it/s]\n"
     ]
    },
    {
     "name": "stdout",
     "output_type": "stream",
     "text": [
      "epoch: 55, f1_val: 0.6700750367415835, f1_train: 0.8846606039689431\n"
     ]
    },
    {
     "name": "stderr",
     "output_type": "stream",
     "text": [
      "100%|██████████| 36/36 [00:08<00:00,  4.27it/s]\n",
      "100%|██████████| 9/9 [00:01<00:00,  6.22it/s]\n",
      "100%|██████████| 36/36 [00:05<00:00,  6.28it/s]\n"
     ]
    },
    {
     "name": "stdout",
     "output_type": "stream",
     "text": [
      "epoch: 56, f1_val: 0.6721364453247293, f1_train: 0.8941976872541684\n"
     ]
    },
    {
     "name": "stderr",
     "output_type": "stream",
     "text": [
      "100%|██████████| 36/36 [00:08<00:00,  4.22it/s]\n",
      "100%|██████████| 9/9 [00:01<00:00,  6.18it/s]\n",
      "100%|██████████| 36/36 [00:05<00:00,  6.28it/s]\n"
     ]
    },
    {
     "name": "stdout",
     "output_type": "stream",
     "text": [
      "epoch: 57, f1_val: 0.6902428237782178, f1_train: 0.9001413899720883\n"
     ]
    },
    {
     "name": "stderr",
     "output_type": "stream",
     "text": [
      "100%|██████████| 36/36 [00:08<00:00,  4.24it/s]\n",
      "100%|██████████| 9/9 [00:01<00:00,  6.41it/s]\n",
      "100%|██████████| 36/36 [00:05<00:00,  6.24it/s]\n"
     ]
    },
    {
     "name": "stdout",
     "output_type": "stream",
     "text": [
      "epoch: 58, f1_val: 0.6944373974938226, f1_train: 0.9030715951262839\n"
     ]
    },
    {
     "name": "stderr",
     "output_type": "stream",
     "text": [
      "100%|██████████| 36/36 [00:08<00:00,  4.25it/s]\n",
      "100%|██████████| 9/9 [00:01<00:00,  6.25it/s]\n",
      "100%|██████████| 36/36 [00:05<00:00,  6.28it/s]\n"
     ]
    },
    {
     "name": "stdout",
     "output_type": "stream",
     "text": [
      "epoch: 59, f1_val: 0.688443242219391, f1_train: 0.9082135170803007\n"
     ]
    },
    {
     "name": "stderr",
     "output_type": "stream",
     "text": [
      "100%|██████████| 36/36 [00:08<00:00,  4.24it/s]\n",
      "100%|██████████| 9/9 [00:01<00:00,  6.10it/s]\n",
      "100%|██████████| 36/36 [00:05<00:00,  6.29it/s]\n"
     ]
    },
    {
     "name": "stdout",
     "output_type": "stream",
     "text": [
      "epoch: 60, f1_val: 0.6779158141646945, f1_train: 0.9037415265134461\n"
     ]
    },
    {
     "name": "stderr",
     "output_type": "stream",
     "text": [
      "100%|██████████| 36/36 [00:08<00:00,  4.24it/s]\n",
      "100%|██████████| 9/9 [00:01<00:00,  6.16it/s]\n",
      "100%|██████████| 36/36 [00:06<00:00,  5.97it/s]\n"
     ]
    },
    {
     "name": "stdout",
     "output_type": "stream",
     "text": [
      "epoch: 61, f1_val: 0.6651370507369254, f1_train: 0.9030470433311594\n"
     ]
    },
    {
     "name": "stderr",
     "output_type": "stream",
     "text": [
      "100%|██████████| 36/36 [00:08<00:00,  4.21it/s]\n",
      "100%|██████████| 9/9 [00:01<00:00,  6.25it/s]\n",
      "100%|██████████| 36/36 [00:05<00:00,  6.24it/s]\n"
     ]
    },
    {
     "name": "stdout",
     "output_type": "stream",
     "text": [
      "epoch: 62, f1_val: 0.6814487963582612, f1_train: 0.9068432949370806\n"
     ]
    },
    {
     "name": "stderr",
     "output_type": "stream",
     "text": [
      "100%|██████████| 36/36 [00:08<00:00,  4.24it/s]\n",
      "100%|██████████| 9/9 [00:01<00:00,  6.25it/s]\n",
      "100%|██████████| 36/36 [00:05<00:00,  6.31it/s]\n"
     ]
    },
    {
     "name": "stdout",
     "output_type": "stream",
     "text": [
      "epoch: 63, f1_val: 0.6896145243179858, f1_train: 0.9118787452464737\n"
     ]
    },
    {
     "name": "stderr",
     "output_type": "stream",
     "text": [
      "100%|██████████| 36/36 [00:08<00:00,  4.25it/s]\n",
      "100%|██████████| 9/9 [00:01<00:00,  6.13it/s]\n",
      "100%|██████████| 36/36 [00:05<00:00,  6.25it/s]\n"
     ]
    },
    {
     "name": "stdout",
     "output_type": "stream",
     "text": [
      "epoch: 64, f1_val: 0.6793149371313986, f1_train: 0.899695423657035\n"
     ]
    },
    {
     "name": "stderr",
     "output_type": "stream",
     "text": [
      "100%|██████████| 36/36 [00:08<00:00,  4.25it/s]\n",
      "100%|██████████| 9/9 [00:01<00:00,  6.22it/s]\n",
      "100%|██████████| 36/36 [00:05<00:00,  6.27it/s]\n"
     ]
    },
    {
     "name": "stdout",
     "output_type": "stream",
     "text": [
      "epoch: 65, f1_val: 0.6775138643581907, f1_train: 0.8961316355430325\n"
     ]
    },
    {
     "name": "stderr",
     "output_type": "stream",
     "text": [
      "100%|██████████| 36/36 [00:08<00:00,  4.25it/s]\n",
      "100%|██████████| 9/9 [00:01<00:00,  6.23it/s]\n",
      "100%|██████████| 36/36 [00:05<00:00,  6.25it/s]\n"
     ]
    },
    {
     "name": "stdout",
     "output_type": "stream",
     "text": [
      "epoch: 66, f1_val: 0.6816569324569988, f1_train: 0.9039381872501142\n"
     ]
    },
    {
     "name": "stderr",
     "output_type": "stream",
     "text": [
      "100%|██████████| 36/36 [00:08<00:00,  4.25it/s]\n",
      "100%|██████████| 9/9 [00:01<00:00,  6.24it/s]\n",
      "100%|██████████| 36/36 [00:05<00:00,  6.26it/s]\n"
     ]
    },
    {
     "name": "stdout",
     "output_type": "stream",
     "text": [
      "epoch: 67, f1_val: 0.6901137443119626, f1_train: 0.9081761342298657\n"
     ]
    },
    {
     "name": "stderr",
     "output_type": "stream",
     "text": [
      "100%|██████████| 36/36 [00:08<00:00,  4.25it/s]\n",
      "100%|██████████| 9/9 [00:01<00:00,  6.12it/s]\n",
      "100%|██████████| 36/36 [00:05<00:00,  6.22it/s]\n"
     ]
    },
    {
     "name": "stdout",
     "output_type": "stream",
     "text": [
      "epoch: 68, f1_val: 0.6843499192942717, f1_train: 0.9096939088469533\n"
     ]
    },
    {
     "name": "stderr",
     "output_type": "stream",
     "text": [
      "100%|██████████| 36/36 [00:08<00:00,  4.25it/s]\n",
      "100%|██████████| 9/9 [00:01<00:00,  6.24it/s]\n",
      "100%|██████████| 36/36 [00:05<00:00,  6.21it/s]\n"
     ]
    },
    {
     "name": "stdout",
     "output_type": "stream",
     "text": [
      "epoch: 69, f1_val: 0.6779401150102833, f1_train: 0.8989351200148799\n"
     ]
    },
    {
     "name": "stderr",
     "output_type": "stream",
     "text": [
      "100%|██████████| 36/36 [00:08<00:00,  4.25it/s]\n",
      "100%|██████████| 9/9 [00:01<00:00,  6.16it/s]\n",
      "100%|██████████| 36/36 [00:05<00:00,  6.28it/s]\n"
     ]
    },
    {
     "name": "stdout",
     "output_type": "stream",
     "text": [
      "epoch: 70, f1_val: 0.6805462978028773, f1_train: 0.8994089871424673\n"
     ]
    },
    {
     "name": "stderr",
     "output_type": "stream",
     "text": [
      "100%|██████████| 36/36 [00:08<00:00,  4.25it/s]\n",
      "100%|██████████| 9/9 [00:01<00:00,  6.29it/s]\n",
      "100%|██████████| 36/36 [00:05<00:00,  6.28it/s]\n"
     ]
    },
    {
     "name": "stdout",
     "output_type": "stream",
     "text": [
      "epoch: 71, f1_val: 0.6881587000159813, f1_train: 0.8932765654534988\n"
     ]
    },
    {
     "name": "stderr",
     "output_type": "stream",
     "text": [
      "100%|██████████| 36/36 [00:08<00:00,  4.25it/s]\n",
      "100%|██████████| 9/9 [00:01<00:00,  6.20it/s]\n",
      "100%|██████████| 36/36 [00:05<00:00,  6.30it/s]\n"
     ]
    },
    {
     "name": "stdout",
     "output_type": "stream",
     "text": [
      "epoch: 72, f1_val: 0.6673317408913664, f1_train: 0.8914964503417399\n"
     ]
    },
    {
     "name": "stderr",
     "output_type": "stream",
     "text": [
      "100%|██████████| 36/36 [00:08<00:00,  4.25it/s]\n",
      "100%|██████████| 9/9 [00:01<00:00,  6.29it/s]\n",
      "100%|██████████| 36/36 [00:05<00:00,  6.26it/s]\n"
     ]
    },
    {
     "name": "stdout",
     "output_type": "stream",
     "text": [
      "epoch: 73, f1_val: 0.6775365197665629, f1_train: 0.8856379578015235\n"
     ]
    },
    {
     "name": "stderr",
     "output_type": "stream",
     "text": [
      "100%|██████████| 36/36 [00:08<00:00,  4.25it/s]\n",
      "100%|██████████| 9/9 [00:01<00:00,  6.26it/s]\n",
      "100%|██████████| 36/36 [00:05<00:00,  6.24it/s]\n"
     ]
    },
    {
     "name": "stdout",
     "output_type": "stream",
     "text": [
      "epoch: 74, f1_val: 0.675155156693402, f1_train: 0.8977777046117342\n"
     ]
    },
    {
     "name": "stderr",
     "output_type": "stream",
     "text": [
      "100%|██████████| 36/36 [00:08<00:00,  4.27it/s]\n",
      "100%|██████████| 9/9 [00:01<00:00,  6.33it/s]\n",
      "100%|██████████| 36/36 [00:05<00:00,  6.30it/s]\n"
     ]
    },
    {
     "name": "stdout",
     "output_type": "stream",
     "text": [
      "epoch: 75, f1_val: 0.6726970077125002, f1_train: 0.8891431096938782\n"
     ]
    },
    {
     "name": "stderr",
     "output_type": "stream",
     "text": [
      "100%|██████████| 36/36 [00:08<00:00,  4.25it/s]\n",
      "100%|██████████| 9/9 [00:01<00:00,  6.19it/s]\n",
      "100%|██████████| 36/36 [00:05<00:00,  6.25it/s]\n"
     ]
    },
    {
     "name": "stdout",
     "output_type": "stream",
     "text": [
      "epoch: 76, f1_val: 0.6714029532001577, f1_train: 0.8893219367634853\n"
     ]
    },
    {
     "name": "stderr",
     "output_type": "stream",
     "text": [
      "100%|██████████| 36/36 [00:08<00:00,  4.25it/s]\n",
      "100%|██████████| 9/9 [00:01<00:00,  6.27it/s]\n",
      "100%|██████████| 36/36 [00:05<00:00,  6.27it/s]\n"
     ]
    },
    {
     "name": "stdout",
     "output_type": "stream",
     "text": [
      "epoch: 77, f1_val: 0.6704749546193828, f1_train: 0.8987261686410363\n"
     ]
    },
    {
     "name": "stderr",
     "output_type": "stream",
     "text": [
      "100%|██████████| 36/36 [00:08<00:00,  4.25it/s]\n",
      "100%|██████████| 9/9 [00:01<00:00,  6.25it/s]\n",
      "100%|██████████| 36/36 [00:05<00:00,  6.26it/s]\n"
     ]
    },
    {
     "name": "stdout",
     "output_type": "stream",
     "text": [
      "epoch: 78, f1_val: 0.6810381851576406, f1_train: 0.8910028145283149\n"
     ]
    },
    {
     "name": "stderr",
     "output_type": "stream",
     "text": [
      "100%|██████████| 36/36 [00:08<00:00,  4.26it/s]\n",
      "100%|██████████| 9/9 [00:01<00:00,  6.17it/s]\n",
      "100%|██████████| 36/36 [00:05<00:00,  6.26it/s]\n"
     ]
    },
    {
     "name": "stdout",
     "output_type": "stream",
     "text": [
      "epoch: 79, f1_val: 0.6734126862217512, f1_train: 0.8957224513686574\n"
     ]
    },
    {
     "name": "stderr",
     "output_type": "stream",
     "text": [
      "100%|██████████| 36/36 [00:08<00:00,  4.25it/s]\n",
      "100%|██████████| 9/9 [00:01<00:00,  6.13it/s]\n",
      "100%|██████████| 36/36 [00:05<00:00,  6.22it/s]\n"
     ]
    },
    {
     "name": "stdout",
     "output_type": "stream",
     "text": [
      "epoch: 80, f1_val: 0.6582546781678315, f1_train: 0.8956342411160111\n"
     ]
    },
    {
     "name": "stderr",
     "output_type": "stream",
     "text": [
      "100%|██████████| 36/36 [00:08<00:00,  4.25it/s]\n",
      "100%|██████████| 9/9 [00:01<00:00,  6.37it/s]\n",
      "100%|██████████| 36/36 [00:05<00:00,  6.31it/s]\n"
     ]
    },
    {
     "name": "stdout",
     "output_type": "stream",
     "text": [
      "epoch: 81, f1_val: 0.6794536010720595, f1_train: 0.8955697129550172\n"
     ]
    },
    {
     "name": "stderr",
     "output_type": "stream",
     "text": [
      "100%|██████████| 36/36 [00:08<00:00,  4.26it/s]\n",
      "100%|██████████| 9/9 [00:01<00:00,  6.25it/s]\n",
      "100%|██████████| 36/36 [00:05<00:00,  6.25it/s]\n"
     ]
    },
    {
     "name": "stdout",
     "output_type": "stream",
     "text": [
      "epoch: 82, f1_val: 0.6804372219146102, f1_train: 0.8943698264672465\n"
     ]
    },
    {
     "name": "stderr",
     "output_type": "stream",
     "text": [
      "100%|██████████| 36/36 [00:08<00:00,  4.25it/s]\n",
      "100%|██████████| 9/9 [00:01<00:00,  6.28it/s]\n",
      "100%|██████████| 36/36 [00:06<00:00,  5.86it/s]\n"
     ]
    },
    {
     "name": "stdout",
     "output_type": "stream",
     "text": [
      "epoch: 83, f1_val: 0.6749129174511314, f1_train: 0.8904287072592989\n"
     ]
    },
    {
     "name": "stderr",
     "output_type": "stream",
     "text": [
      "100%|██████████| 36/36 [00:08<00:00,  4.26it/s]\n",
      "100%|██████████| 9/9 [00:01<00:00,  6.30it/s]\n",
      "100%|██████████| 36/36 [00:05<00:00,  6.24it/s]\n"
     ]
    },
    {
     "name": "stdout",
     "output_type": "stream",
     "text": [
      "epoch: 84, f1_val: 0.6743547464358151, f1_train: 0.90084189798544\n"
     ]
    },
    {
     "name": "stderr",
     "output_type": "stream",
     "text": [
      "100%|██████████| 36/36 [00:08<00:00,  4.26it/s]\n",
      "100%|██████████| 9/9 [00:01<00:00,  6.37it/s]\n",
      "100%|██████████| 36/36 [00:05<00:00,  6.35it/s]\n"
     ]
    },
    {
     "name": "stdout",
     "output_type": "stream",
     "text": [
      "epoch: 85, f1_val: 0.6786250138449396, f1_train: 0.8928485560985684\n"
     ]
    },
    {
     "name": "stderr",
     "output_type": "stream",
     "text": [
      "100%|██████████| 36/36 [00:08<00:00,  4.26it/s]\n",
      "100%|██████████| 9/9 [00:01<00:00,  6.11it/s]\n",
      "100%|██████████| 36/36 [00:05<00:00,  6.28it/s]\n"
     ]
    },
    {
     "name": "stdout",
     "output_type": "stream",
     "text": [
      "epoch: 86, f1_val: 0.6757618625128996, f1_train: 0.8947663110366657\n"
     ]
    },
    {
     "name": "stderr",
     "output_type": "stream",
     "text": [
      "100%|██████████| 36/36 [00:08<00:00,  4.26it/s]\n",
      "100%|██████████| 9/9 [00:01<00:00,  6.27it/s]\n",
      "100%|██████████| 36/36 [00:05<00:00,  6.61it/s]\n"
     ]
    },
    {
     "name": "stdout",
     "output_type": "stream",
     "text": [
      "epoch: 87, f1_val: 0.6676116080774465, f1_train: 0.8902681190713552\n"
     ]
    },
    {
     "name": "stderr",
     "output_type": "stream",
     "text": [
      "100%|██████████| 36/36 [00:08<00:00,  4.24it/s]\n",
      "100%|██████████| 9/9 [00:01<00:00,  6.23it/s]\n",
      "100%|██████████| 36/36 [00:05<00:00,  6.25it/s]\n"
     ]
    },
    {
     "name": "stdout",
     "output_type": "stream",
     "text": [
      "epoch: 88, f1_val: 0.6723154050945289, f1_train: 0.8937434912172263\n"
     ]
    },
    {
     "name": "stderr",
     "output_type": "stream",
     "text": [
      "100%|██████████| 36/36 [00:08<00:00,  4.24it/s]\n",
      "100%|██████████| 9/9 [00:01<00:00,  6.23it/s]\n",
      "100%|██████████| 36/36 [00:05<00:00,  6.15it/s]\n"
     ]
    },
    {
     "name": "stdout",
     "output_type": "stream",
     "text": [
      "epoch: 89, f1_val: 0.6823140775400922, f1_train: 0.8901321954101311\n"
     ]
    },
    {
     "name": "stderr",
     "output_type": "stream",
     "text": [
      "100%|██████████| 36/36 [00:08<00:00,  4.24it/s]\n",
      "100%|██████████| 9/9 [00:01<00:00,  6.12it/s]\n",
      "100%|██████████| 36/36 [00:05<00:00,  6.23it/s]\n"
     ]
    },
    {
     "name": "stdout",
     "output_type": "stream",
     "text": [
      "epoch: 90, f1_val: 0.6686644519161111, f1_train: 0.8889513546736494\n"
     ]
    },
    {
     "name": "stderr",
     "output_type": "stream",
     "text": [
      "100%|██████████| 36/36 [00:08<00:00,  4.24it/s]\n",
      "100%|██████████| 9/9 [00:01<00:00,  6.25it/s]\n",
      "100%|██████████| 36/36 [00:05<00:00,  6.23it/s]\n"
     ]
    },
    {
     "name": "stdout",
     "output_type": "stream",
     "text": [
      "epoch: 91, f1_val: 0.6841807881279084, f1_train: 0.893326348694134\n"
     ]
    },
    {
     "name": "stderr",
     "output_type": "stream",
     "text": [
      "100%|██████████| 36/36 [00:08<00:00,  4.24it/s]\n",
      "100%|██████████| 9/9 [00:01<00:00,  6.22it/s]\n",
      "100%|██████████| 36/36 [00:05<00:00,  6.24it/s]\n"
     ]
    },
    {
     "name": "stdout",
     "output_type": "stream",
     "text": [
      "epoch: 92, f1_val: 0.680591063548346, f1_train: 0.8918692162189953\n"
     ]
    },
    {
     "name": "stderr",
     "output_type": "stream",
     "text": [
      "100%|██████████| 36/36 [00:08<00:00,  4.24it/s]\n",
      "100%|██████████| 9/9 [00:01<00:00,  6.14it/s]\n",
      "100%|██████████| 36/36 [00:05<00:00,  6.22it/s]\n"
     ]
    },
    {
     "name": "stdout",
     "output_type": "stream",
     "text": [
      "epoch: 93, f1_val: 0.6703007858354023, f1_train: 0.8928379062806014\n"
     ]
    },
    {
     "name": "stderr",
     "output_type": "stream",
     "text": [
      "100%|██████████| 36/36 [00:08<00:00,  4.25it/s]\n",
      "100%|██████████| 9/9 [00:01<00:00,  6.17it/s]\n",
      "100%|██████████| 36/36 [00:05<00:00,  6.24it/s]\n"
     ]
    },
    {
     "name": "stdout",
     "output_type": "stream",
     "text": [
      "epoch: 94, f1_val: 0.6697083200829106, f1_train: 0.8990684147668604\n"
     ]
    },
    {
     "name": "stderr",
     "output_type": "stream",
     "text": [
      "100%|██████████| 36/36 [00:08<00:00,  4.24it/s]\n",
      "100%|██████████| 9/9 [00:01<00:00,  8.19it/s]\n",
      "100%|██████████| 36/36 [00:04<00:00,  8.18it/s]\n"
     ]
    },
    {
     "name": "stdout",
     "output_type": "stream",
     "text": [
      "epoch: 95, f1_val: 0.6944188434244903, f1_train: 0.892069752617718\n"
     ]
    },
    {
     "name": "stderr",
     "output_type": "stream",
     "text": [
      "100%|██████████| 36/36 [00:08<00:00,  4.25it/s]\n",
      "100%|██████████| 9/9 [00:01<00:00,  6.19it/s]\n",
      "100%|██████████| 36/36 [00:05<00:00,  6.33it/s]\n"
     ]
    },
    {
     "name": "stdout",
     "output_type": "stream",
     "text": [
      "epoch: 96, f1_val: 0.6744118925028445, f1_train: 0.893135268730382\n"
     ]
    },
    {
     "name": "stderr",
     "output_type": "stream",
     "text": [
      "100%|██████████| 36/36 [00:08<00:00,  4.24it/s]\n",
      "100%|██████████| 9/9 [00:01<00:00,  6.18it/s]\n",
      "100%|██████████| 36/36 [00:05<00:00,  6.24it/s]\n"
     ]
    },
    {
     "name": "stdout",
     "output_type": "stream",
     "text": [
      "epoch: 97, f1_val: 0.6702654618667948, f1_train: 0.8998314730824739\n"
     ]
    },
    {
     "name": "stderr",
     "output_type": "stream",
     "text": [
      "100%|██████████| 36/36 [00:08<00:00,  4.21it/s]\n",
      "100%|██████████| 9/9 [00:01<00:00,  6.17it/s]\n",
      "100%|██████████| 36/36 [00:05<00:00,  7.13it/s]\n"
     ]
    },
    {
     "name": "stdout",
     "output_type": "stream",
     "text": [
      "epoch: 98, f1_val: 0.6568362932260938, f1_train: 0.8969336667305738\n"
     ]
    },
    {
     "name": "stderr",
     "output_type": "stream",
     "text": [
      "100%|██████████| 36/36 [00:08<00:00,  4.28it/s]\n",
      "100%|██████████| 9/9 [00:01<00:00,  8.10it/s]\n",
      "100%|██████████| 36/36 [00:05<00:00,  6.42it/s]"
     ]
    },
    {
     "name": "stdout",
     "output_type": "stream",
     "text": [
      "epoch: 99, f1_val: 0.6510310786518454, f1_train: 0.8912039216122086\n",
      "Best F1 on validation: 0.6989217127835318\n"
     ]
    },
    {
     "name": "stderr",
     "output_type": "stream",
     "text": [
      "\n"
     ]
    }
   ],
   "source": [
    "n_epoch = 100\n",
    "skf = StratifiedKFold(n_splits=5, shuffle=True, random_state=42)\n",
    "x_data = df_train.fname.values\n",
    "y_data = df_train.label_encoded.values\n",
    "for fold, (train_idx, val_idx) in enumerate(skf.split(x_data, y_data)):\n",
    "    X_train = x_data[train_idx]\n",
    "    y_train = y_data[train_idx]\n",
    "    train_loader = DataLoader(\n",
    "        EventDetectionDataset(\n",
    "            os.path.join(DATA_PATH, train_data_folder), X_train, y_train\n",
    "        ),\n",
    "        batch_size=128,\n",
    "        shuffle=True,\n",
    "    )\n",
    "    X_val = x_data[val_idx]\n",
    "    y_val = y_data[val_idx]\n",
    "    val_loader = DataLoader(\n",
    "        EventDetectionDataset(os.path.join(DATA_PATH, train_data_folder), X_val, y_val),\n",
    "        batch_size=128,\n",
    "    )\n",
    "\n",
    "    model = SoundModel()\n",
    "    model = model.cuda()\n",
    "    criterion = nn.CrossEntropyLoss()\n",
    "    optimizer = torch.optim.Adam(model.parameters(), lr=1e-3)\n",
    "    scheduler = torch.optim.lr_scheduler.LambdaLR(\n",
    "        optimizer, lr_lambda=lambda epoch: 0.95**epoch\n",
    "    )\n",
    "\n",
    "    best_f1 = 0\n",
    "    for epoch in range(n_epoch):\n",
    "        model.train()\n",
    "        for wavs, labs in tqdm(train_loader):\n",
    "            optimizer.zero_grad()\n",
    "            wavs, labs = wavs.cuda(), labs.cuda()\n",
    "            outputs = model(wavs)\n",
    "            loss = criterion(outputs, labs)\n",
    "            loss.backward()\n",
    "            optimizer.step()\n",
    "        scheduler.step()\n",
    "        f1 = eval_model(model, val_loader)\n",
    "        f1_train = eval_model(model, train_loader)\n",
    "        print(f\"epoch: {epoch}, f1_val: {f1}, f1_train: {f1_train}\")\n",
    "        if f1 > best_f1:\n",
    "            best_f1 = f1\n",
    "            torch.save(model.state_dict(), f\"model_{fold}.ckpt\")\n",
    "\n",
    "    print(\"Best F1 on validation:\", best_f1)"
   ]
  },
  {
   "cell_type": "code",
   "execution_count": 10,
   "metadata": {
    "pycharm": {
     "name": "#%%\n"
    }
   },
   "outputs": [
    {
     "name": "stderr",
     "output_type": "stream",
     "text": [
      "C:\\ProgramData\\Anaconda3\\envs\\nlp-env\\lib\\site-packages\\torchaudio\\functional\\functional.py:584: UserWarning: At least one mel filterbank has all zero values. The value for `n_mels` (128) may be set too high. Or, the value for `n_freqs` (201) may be set too low.\n",
      "  warnings.warn(\n"
     ]
    },
    {
     "name": "stdout",
     "output_type": "stream",
     "text": [
      "Loaded pretrained weights for efficientnet-b0\n",
      "Loaded pretrained weights for efficientnet-b0\n",
      "Loaded pretrained weights for efficientnet-b0\n",
      "Loaded pretrained weights for efficientnet-b0\n",
      "Loaded pretrained weights for efficientnet-b0\n"
     ]
    },
    {
     "name": "stderr",
     "output_type": "stream",
     "text": [
      "100%|██████████| 30/30 [00:12<00:00,  2.34it/s]\n"
     ]
    }
   ],
   "source": [
    "test_loader = DataLoader(\n",
    "    EventDetectionDataset(\n",
    "        os.path.join(DATA_PATH, test_data_folder), df_test.fname.values, None\n",
    "    ),\n",
    "    batch_size=128,\n",
    "    shuffle=False,\n",
    ")\n",
    "models = [SoundModel().cuda() for _ in range(5)]\n",
    "for i in range(5):\n",
    "    models[i].load_state_dict(torch.load(f\"model_{i}.ckpt\"))\n",
    "    models[i].eval()\n",
    "forecast = []\n",
    "with torch.no_grad():\n",
    "    for wavs in tqdm(test_loader):\n",
    "        wavs = wavs.cuda()\n",
    "        outputs = models[0].inference(wavs)\n",
    "        for i in range(1, 5):\n",
    "            outputs += models[i].inference(wavs)\n",
    "        outputs = outputs.detach().cpu().numpy().argmax(axis=1)\n",
    "        forecast.append(outputs)\n",
    "forecast = [x for sublist in forecast for x in sublist]\n",
    "decoder = {classes_dict[cl]: cl for cl in classes_dict}\n",
    "forecast = pd.Series(forecast).map(decoder)\n",
    "df_test[\"label\"] = forecast\n",
    "df_test.to_csv(f\"submission.csv\", index=None)"
   ]
  }
 ],
 "metadata": {
  "kernelspec": {
   "name": "pycharm-8deb167e",
   "language": "python",
   "display_name": "PyCharm (ДЗ)"
  },
  "language_info": {
   "codemirror_mode": {
    "name": "ipython",
    "version": 3
   },
   "file_extension": ".py",
   "mimetype": "text/x-python",
   "name": "python",
   "nbconvert_exporter": "python",
   "pygments_lexer": "ipython3",
   "version": "3.7.7"
  }
 },
 "nbformat": 4,
 "nbformat_minor": 4
}